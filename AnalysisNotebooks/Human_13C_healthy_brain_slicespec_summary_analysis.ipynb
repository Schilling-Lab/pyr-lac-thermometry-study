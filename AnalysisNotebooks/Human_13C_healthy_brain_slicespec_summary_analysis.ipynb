{
 "cells": [
  {
   "cell_type": "code",
   "execution_count": null,
   "id": "73a30863-d928-4c37-9cd7-f15007e3e03e",
   "metadata": {
    "tags": []
   },
   "outputs": [],
   "source": [
    "import numpy as np\n",
    "import matplotlib.pyplot as plt\n",
    "from matplotlib.patches import Rectangle\n",
    "import matplotlib\n",
    "#matplotlib.rcParams.update({'font.size': 12,'font.family':'serif','font.serif':['Computer Modern']})\n",
    "\n",
    "import ipywidgets as widgets\n",
    "import datetime\n",
    "import pandas as pd\n",
    "import os\n",
    "import hypermri\n",
    "import pydicom\n",
    "\n",
    "from scipy.optimize import curve_fit\n",
    "import scipy.io as sio\n",
    "from matplotlib import cm\n",
    "\n",
    "import hypermri.utils.utils_general as utg\n",
    "import hypermri.utils.utils_spectroscopy as uts\n",
    "import hypermri.utils.utils_fitting as utf\n",
    "\n",
    "from hypermri.utils.utils_fitting import def_fit_params, fit_data_pseudo_inv\n",
    "from hypermri.utils.utils_general import get_gmr\n",
    "from hypermri.utils.utils_spectroscopy import get_metab_cs_ppm, make_NDspec_6Dspec\n",
    "\n",
    "\n",
    "import sys\n",
    "# define paths:\n",
    "sys.path.append('../../')\n",
    "import Template_utsw\n",
    "basepath,savepath = Template_utsw.import_all_packages()\n",
    "\n",
    "# Autoreload extension so that you dont have to reload the kernel every time something is changed in the hypermri package\n",
    "%load_ext autoreload\n",
    "%autoreload 2\n",
    "\n",
    "%matplotlib widget\n",
    "def get_colors_from_cmap(cmap_name, N):\n",
    "    cmap = plt.get_cmap(cmap_name)\n",
    "    colors = cmap(np.linspace(0, 1, N))\n",
    "    return colors"
   ]
  },
  {
   "cell_type": "code",
   "execution_count": null,
   "id": "835322b9-0c24-4eab-ba04-24d3b2a90f8d",
   "metadata": {
    "tags": []
   },
   "outputs": [],
   "source": [
    "revision_path=r'/Publication/Revision1/RefittedData/SP_Brain_healthy/'"
   ]
  },
  {
   "cell_type": "code",
   "execution_count": null,
   "id": "aaa782cc-294e-4f17-85d7-827dac569a97",
   "metadata": {
    "tags": []
   },
   "outputs": [],
   "source": [
    "study_ids=['3TC230','3TC718','3TC741','3TC755']\n",
    "injections=[[1,],[1,2],[1,2],[1,2]]"
   ]
  },
  {
   "cell_type": "code",
   "execution_count": null,
   "id": "68d008a1-ccf3-4480-8c49-00edb51742fa",
   "metadata": {
    "tags": []
   },
   "outputs": [],
   "source": [
    "all_data = pd.DataFrame()\n",
    "c=0\n",
    "for idx,study_id in enumerate(study_ids):\n",
    "    for injection in injections[idx]:\n",
    "        data=pd.read_excel(revision_path+str(study_id)+'_results_rawdata_inj_'+str(injection)+'_thld_snr_fit.xlsx')\n",
    "        data['Unnamed: 0'] = np.ones((4,1),dtype=int)*c\n",
    "        data = data.rename(columns={'Unnamed: 0':'ScanNum'})\n",
    "        c+=1\n",
    "        all_data = pd.concat([all_data,data])\n",
    "all_data=all_data.reset_index(drop=True)\n",
    "\n"
   ]
  },
  {
   "cell_type": "code",
   "execution_count": null,
   "id": "58fd8658-c2c3-4a7a-aaa2-a0edbdd0bda3",
   "metadata": {
    "tags": []
   },
   "outputs": [],
   "source": [
    "plt.close('all')\n",
    "fig,ax=plt.subplots(1,figsize=(8,3),tight_layout=True)\n",
    "colors=get_colors_from_cmap('tab10',10)\n",
    "\n",
    "h=0\n",
    "for id_value in all_data['ScanNum'].unique():\n",
    "    subset = all_data[all_data['ScanNum'] == id_value]\n",
    "    c=0\n",
    "    for slic in subset['slice']:\n",
    "        ax.errorbar(x=id_value+h+c,y=subset['T'].iloc[slic],yerr=subset['dT'].iloc[slic],capsize=3,capthick=1,fmt='o',color=colors[slic])\n",
    "        c+=0.5\n",
    "    h+=4\n",
    "ax.set_xlabel('dataset')\n",
    "ax.set_ylabel('T [°C]')"
   ]
  },
  {
   "cell_type": "code",
   "execution_count": null,
   "id": "c7c8023d-1920-49e8-8e1e-7b56bfe4c862",
   "metadata": {
    "tags": []
   },
   "outputs": [],
   "source": [
    "y_values=[]\n",
    "ids=[]\n",
    "y_err_values=[]\n",
    "for ID in all_data['ScanNum'].unique():\n",
    "    subset = all_data[all_data['ScanNum'] == ID]\n",
    "    y_values.append(np.array(subset['T']))\n",
    "    y_err_values.append(np.array(subset['dT']))\n",
    "    ids.append(subset['ID'].iloc[0])\n",
    "y_values=np.array(y_values)\n",
    "y_err_values=np.array(y_err_values)\n",
    "\n",
    "\n",
    "# Sample data\n",
    "x_labels = ids\n",
    "\n",
    "\n",
    "# Parameters\n",
    "num_x_labels = len(x_labels)\n",
    "num_values_per_label = len(y_values[0])\n",
    "bar_width = 0.3  # Width of each bar\n",
    "group_spacing=3\n",
    "x = np.arange(0, num_x_labels * group_spacing, group_spacing)\n",
    "# Create the plot\n",
    "fig, ax = plt.subplots()\n",
    "\n",
    "for i in range(num_values_per_label):\n",
    "    ax.errorbar(x + i * bar_width, [y[i] for y in y_values], capsize=5,fmt='o',yerr=[y[i] for y in y_err_values], label=f'slice {i + 1}')\n",
    "\n",
    "# Set x-ticks and labels\n",
    "ax.set_xticks(x + bar_width * (num_values_per_label - 1) / 2)\n",
    "ax.set_xticklabels(x_labels)\n",
    "\n",
    "# Add labels and title (optional)\n",
    "ax.set_xlabel('Dataset')\n",
    "ax.set_ylabel('T [°C]')\n",
    "ax.set_title('Temperature per slice for all datasets')\n",
    "ax.legend()\n",
    "\n",
    "# Show the plot\n",
    "plt.show()\n",
    "plt.savefig(savepath+'utsw_all_slices_plot_snr_thld.png',dpi=300)"
   ]
  },
  {
   "cell_type": "markdown",
   "id": "6df11079-0771-4716-b012-5eaa714ef304",
   "metadata": {
    "tags": []
   },
   "source": [
    "## Save data for final loading"
   ]
  },
  {
   "cell_type": "code",
   "execution_count": null,
   "id": "d28f8774-d3b7-4716-8b6a-0f61aa4ec29d",
   "metadata": {
    "tags": []
   },
   "outputs": [],
   "source": [
    "all_data.to_excel(revision_path+'UTSW_healthy_volunteers_final_snr_thld.xlsx')"
   ]
  },
  {
   "cell_type": "code",
   "execution_count": null,
   "id": "1adfcf80-824e-4932-90f2-2776e95fde63",
   "metadata": {},
   "outputs": [],
   "source": []
  }
 ],
 "metadata": {
  "kernelspec": {
   "display_name": "Python 3 (ipykernel)",
   "language": "python",
   "name": "python3"
  },
  "language_info": {
   "codemirror_mode": {
    "name": "ipython",
    "version": 3
   },
   "file_extension": ".py",
   "mimetype": "text/x-python",
   "name": "python",
   "nbconvert_exporter": "python",
   "pygments_lexer": "ipython3",
   "version": "3.9.7"
  }
 },
 "nbformat": 4,
 "nbformat_minor": 5
}
