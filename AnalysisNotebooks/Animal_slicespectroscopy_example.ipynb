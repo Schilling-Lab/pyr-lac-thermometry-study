{
 "cells": [
  {
   "cell_type": "code",
   "execution_count": null,
   "id": "182b1ef3-b11d-4a5e-b480-d8e8f5147e30",
   "metadata": {
    "tags": []
   },
   "outputs": [],
   "source": [
    "import numpy as np\n",
    "import matplotlib.pyplot as plt\n",
    "from matplotlib.patches import Rectangle\n",
    "import matplotlib\n",
    "matplotlib.rcParams.update({'font.size': 12,'font.family':'serif','font.serif':['Computer Modern'],\"text.usetex\" : True,})\n",
    "\n",
    "import ipywidgets as widgets\n",
    "import datetime\n",
    "import pandas as pd\n",
    "from tqdm.auto import tqdm\n",
    "import os\n",
    "import nmrglue\n",
    "import hypermri\n",
    "import hypermri.utils.utils_anatomical as ut_anat\n",
    "import hypermri.utils.utils_spectroscopy as ut_spec\n",
    "import hypermri.utils.utils_fitting as ut_fitting\n",
    "from scipy.optimize import curve_fit\n",
    "from matplotlib import cm\n",
    "from astropy.modeling import models, fitting\n",
    "\n",
    "from matplotlib.ticker import (MultipleLocator, FormatStrFormatter,\n",
    "                               AutoMinorLocator)\n",
    "import matplotlib.dates as mdates\n",
    "    \n",
    "import sys\n",
    "# define paths:\n",
    "sys.path.append('../../')\n",
    "import TEMPLATE\n",
    "# get paths:\n",
    "repopath, basepath, savepath = TEMPLATE.import_all_packages()\n",
    "savepath=savepath+'AnimalSliceSpecResults/'\n",
    "from mpl_interactions import image_segmenter_overlayed\n",
    "\n",
    "\n",
    "# Autoreload extension so that you dont have to reload the kernel every time something is changed in the hypermri or magritek folders\n",
    "%load_ext autoreload\n",
    "%autoreload 2\n",
    "\n",
    "%matplotlib widget"
   ]
  },
  {
   "cell_type": "code",
   "execution_count": null,
   "id": "b73dadae-e0af-4f26-80e2-c4da1abce67f",
   "metadata": {
    "tags": []
   },
   "outputs": [],
   "source": [
    "single_column_width = 6.9 # inches\n",
    "from hypermri.utils.utils_spectroscopy import find_npeaks as ut_find_npeaks\n",
    "from hypermri.utils.utils_fitting import temperature_from_frequency"
   ]
  },
  {
   "cell_type": "code",
   "execution_count": null,
   "id": "93d3a981-7257-431e-9fab-490dddea5167",
   "metadata": {
    "tags": []
   },
   "outputs": [],
   "source": [
    "scans = hypermri.BrukerDir(basepath+'/')\n",
    "temp_df = hypermri.utils.utils_general.load_pc_sam_temp_file(basepath+'AnimalTemperatures/.txt','',(2*3600)+8,False)"
   ]
  },
  {
   "cell_type": "code",
   "execution_count": null,
   "id": "5d009a2b-b9b7-4bfb-a85a-ac66f72ccf69",
   "metadata": {
    "tags": []
   },
   "outputs": [],
   "source": [
    "nspect_38deg = scans[11]\n",
    "nspect_31deg = scans[30]\n",
    "coronal = scans[28]\n",
    "t2w_like_nspect = scans[18]"
   ]
  },
  {
   "cell_type": "markdown",
   "id": "6e707fe6-97f0-4102-99fa-dc6a4373322a",
   "metadata": {},
   "source": [
    "# Fitting spectra and extracting time curves for 38°C experiment"
   ]
  },
  {
   "cell_type": "code",
   "execution_count": null,
   "id": "ad24e206-2902-4f50-9d98-b7e0b8b9dc2b",
   "metadata": {
    "tags": []
   },
   "outputs": [],
   "source": [
    "hyper = nspect_31deg\n",
    "\n",
    "print(datetime.datetime.strptime(hyper.acqp['ACQ_time'][1:11]+'/'+hyper.acqp['ACQ_time'][12:20],\n",
    "                                                            '%Y-%m-%d/%H:%M:%S'))\n",
    "\n",
    "fig,ax=plt.subplots(1)\n",
    "@widgets.interact(rep=(0,350-1,1))\n",
    "def update(rep=0):\n",
    "    ax.cla()\n",
    "    ax.plot(hyper.ppm,hyper.spec[rep,:])"
   ]
  },
  {
   "cell_type": "code",
   "execution_count": null,
   "id": "53e5bf3c-ec97-4cd2-96eb-3935f0dcf8ce",
   "metadata": {
    "tags": []
   },
   "outputs": [],
   "source": [
    "sig_38=range(13,50)\n",
    "sig_31=range(13,52)"
   ]
  },
  {
   "cell_type": "markdown",
   "id": "2fcf9156-0176-46e1-828a-adf9a3748ec6",
   "metadata": {},
   "source": [
    "## Load previously fitted spectra"
   ]
  },
  {
   "cell_type": "code",
   "execution_count": null,
   "id": "907ea4bf-1a37-45f1-84ba-80ebeca4f78a",
   "metadata": {
    "tags": []
   },
   "outputs": [],
   "source": [
    "filename = '_fit_spectra.pkl'\n",
    "\n",
    "fit_results = hypermri.utils.utils_general.load_as_pkl(dir_path=savepath,\n",
    "            filename=filename)\n",
    "fit_spectrums_38 = fit_results[\"fit_spectrums_38\"]\n",
    "fit_spectrums_31 = fit_results[\"fit_spectrums_31\"]\n",
    "fit_freqs_38 = fit_results[\"fit_freqs_38\"]\n",
    "fit_freqs_31 = fit_results[\"fit_freqs_31\"]\n",
    "fit_amps_38 = fit_results[\"fit_amps_38\"]\n",
    "fit_amps_31 = fit_results[\"fit_amps_31\"]\n",
    "fit_t2s_38 = fit_results[\"fit_t2s_38\"]\n",
    "fit_t2s_31 = fit_results[\"fit_t2s_31\"]\n",
    "fit_stds_38 = fit_results[\"fit_stds_38\"]\n",
    "fit_stds_31 = fit_results[\"fit_stds_31\"]\n",
    "\n",
    "fit_params_31 = fit_results[\"fit_params_31\"]\n",
    "fit_params_38 = fit_results[\"fit_params_38\"]\n",
    "fit_freqs_ppm_38 = ut_spec.freq_Hz_to_ppm(freq_Hz=np.squeeze(fit_freqs_38), hz_axis=fit_params_38[\"freq_range_Hz\"], ppm_axis=fit_params_38[\"freq_range_ppm\"], ppm_axis_flipped=False)\n",
    "fit_freqs_ppm_31 = ut_spec.freq_Hz_to_ppm(freq_Hz=np.squeeze(fit_freqs_31), hz_axis=fit_params_31[\"freq_range_Hz\"], ppm_axis=fit_params_31[\"freq_range_ppm\"], ppm_axis_flipped=False)\n",
    "\n",
    "## frequency errors\n",
    "fit_freqs_diff_stds_38 = np.sqrt(np.abs(fit_stds_38[0,0,0,0,:,0,0,1]**2) +\n",
    "                                        np.abs(fit_stds_38[0,0,0,0,:,0,1,1]**2))\n",
    "## frequency errors\n",
    "fit_freqs_diff_stds_31 = np.sqrt(np.abs(fit_stds_31[0,0,0,0,:,0,0,1]**2) +\n",
    "                                        np.abs(fit_stds_31[0,0,0,0,:,0,1,1]**2))\n",
    "print('Loaded ',savepath+'/'+filename)\n"
   ]
  },
  {
   "cell_type": "markdown",
   "id": "f8790947-b4a7-47b8-8c72-27b87903e21d",
   "metadata": {
    "tags": []
   },
   "source": [
    "# Fitting spectra and extracting time curves for 38°C experiment"
   ]
  },
  {
   "cell_type": "code",
   "execution_count": null,
   "id": "485d4746-7e59-4249-bb8e-1d4b29b60a2b",
   "metadata": {
    "tags": []
   },
   "outputs": [],
   "source": [
    "experiment=nspect_38deg\n",
    "repetitions_to_fit=sig_38\n",
    "metabs = ['pyruvate', 'lactate', 'alanine', 'pyruvatehydrate', 'urea']\n",
    "\n",
    "fit_params = {}\n",
    "\n",
    "fit_params[\"zoomfactor\"] = 1.5\n",
    "fit_params[\"max_t2_s\"] = 0.1\n",
    "fit_params[\"min_t2_s\"] = 0.001\n",
    "fit_params[\"range_t2s_s\"] = 0.05\n",
    "\n",
    "# get the indices of the peaks:\n",
    "fit_params[\"metabs\"] = metabs\n",
    "fit_params[\"fit_range_repetitions\"] = repetitions_to_fit\n",
    "fit_params[\"range_freqs_Hz\"] = 25\n",
    "fit_params[\"cut_off\"] = 70\n",
    "fit_params[\"niter\"] = 1 # number of iterations:\n",
    "fit_params[\"npoints\"] = 21 # number of tested points per iteration:\n",
    "fit_params[\"rep_fitting\"] = 11 # number of tested points per iteration:\n",
    "fit_params[\"provided_dims\"] = [\"reps\", \"fid\"]\n",
    "fit_params[\"use_all_cores\"] = True\n",
    "\n",
    "fit_params = ut_fitting.def_fit_params(fit_params=fit_params, data_obj=experiment)\n",
    "\n",
    "\n",
    "# get the indices of the peaks:\n",
    "# get the indices of the peaks:\n",
    "peak_indices = ut_spec.find_npeaks(input_data=np.real(np.sum(np.fft.fftshift(np.fft.fft(np.fft.ifft(np.fft.ifftshift(experiment.complex_spec))[:,fit_params[\"cut_off\"]:])),axis=0)),\n",
    "                              freq_range=fit_params['freq_range_ppm'],\n",
    "                              npeaks=len(metabs),\n",
    "                              find_peaks_params={'distance':150},\n",
    "                                   plot=True)\n",
    "# diff literature and measured:\n",
    "\n",
    "\n",
    "fit_params[\"metabs_freqs_ppm\"] = fit_params[\"freq_range_ppm\"][peak_indices]\n",
    "    #overwrite the peak values since the hydrate peak is not found for some reason\n",
    "#fit_params[\"metabs_freqs_ppm\"] = [163.6,171.1,175.9,179.9,183.3]\n",
    "#fit_params[\"metabs_freqs_Hz\"] = [None, None, None,None]\n",
    "\n",
    "fit_params[\"niter\"] = 1 # number of iterations:\n",
    "fit_params[\"npoints\"] = 21 # number of tested points per iteration:\n",
    "fit_params[\"rep_fitting\"] = 11 # number of tested points per iteration:\n",
    "\n",
    "fit_params[\"provided_dims\"] = [\"reps\", \"fid\"]\n",
    "fit_params[\"use_all_cores\"] = True\n",
    "\n",
    "fit_params = ut_fitting.def_fit_params(fit_params=fit_params, data_obj=experiment)\n",
    "fit_params_38=fit_params\n",
    "fit_spectrums_38, fit_amps_38, fit_freqs_38, fit_t2s_38, fit_stds_38  = ut_fitting.fit_data_pseudo_inv(input_data=experiment.complex_spec,\n",
    "                                                                             data_obj=experiment,\n",
    "                                                                  fit_params=fit_params_38,\n",
    "                                                              use_multiprocessing=True)\n",
    "\n",
    "fit_freqs_ppm_38 = ut_spec.freq_Hz_to_ppm(freq_Hz=np.squeeze(fit_freqs_38), hz_axis=fit_params_38[\"freq_range_Hz\"], ppm_axis=fit_params_38[\"freq_range_ppm\"], ppm_axis_flipped=False)\n"
   ]
  },
  {
   "cell_type": "code",
   "execution_count": null,
   "id": "fb2ce42c-db01-4e57-8cc5-93b4fc943e54",
   "metadata": {
    "tags": []
   },
   "outputs": [],
   "source": [
    "## frequency errors\n",
    "fit_freqs_diff_stds_38 = np.sqrt(np.abs(fit_stds_38[0,0,0,0,:,0,0,1]**2) +\n",
    "                                        np.abs(fit_stds_38[0,0,0,0,:,0,1,1]**2))"
   ]
  },
  {
   "cell_type": "code",
   "execution_count": null,
   "id": "4814b10f-70b9-43b5-b5f2-f4cf084af877",
   "metadata": {
    "tags": []
   },
   "outputs": [],
   "source": [
    "def plot_fit_results(fit_spectrums,fit_freqs,signal_range,experiment,fit_params):\n",
    "    ppm=ut_spec.get_freq_axis(experiment,cut_off=fit_params['cut_off'])\n",
    "    fig,ax=plt.subplots(1)      \n",
    "    \n",
    "    @widgets.interact(rep = (signal_range[0],signal_range[-1],1))\n",
    "    def update(rep=signal_range[0]):\n",
    "        ax.cla()\n",
    "        ax.plot(ppm,np.real(np.sum(np.squeeze(fit_spectrums)[:,rep,:],axis=1)))\n",
    "        ax.plot(ppm,np.real(np.fft.fftshift(np.fft.fft(experiment.fids[rep,:][fit_params[\"cut_off\"]::]))),c='k',alpha=0.3)\n",
    "        ax.set_title((np.squeeze(fit_freqs)[rep,0])-np.squeeze(fit_freqs)[rep,1])\n"
   ]
  },
  {
   "cell_type": "code",
   "execution_count": null,
   "id": "bcf8f4ce-0bb0-4195-acfc-b4e1d0a19927",
   "metadata": {
    "tags": []
   },
   "outputs": [],
   "source": [
    "plot_fit_results(fit_spectrums_38,fit_freqs_38,sig_38,nspect_38deg,fit_params_38)"
   ]
  },
  {
   "cell_type": "code",
   "execution_count": null,
   "id": "84ecad65-314d-468d-bc62-ce37bc19e4c5",
   "metadata": {},
   "outputs": [],
   "source": []
  },
  {
   "cell_type": "markdown",
   "id": "6ff160e7-b0ff-408c-af97-fe4898fbcf53",
   "metadata": {
    "tags": []
   },
   "source": [
    "# Fitting spectra for the 31 degree measurement"
   ]
  },
  {
   "cell_type": "code",
   "execution_count": null,
   "id": "96823af4-2d70-4d8d-9d52-feef29f14a7b",
   "metadata": {
    "tags": []
   },
   "outputs": [],
   "source": [
    "experiment=nspect_31deg\n",
    "repetitions_to_fit=sig_31\n",
    "\n",
    "metabs = ['pyruvate', 'lactate', 'alanine', 'pyruvatehydrate', 'urea']\n",
    "\n",
    "fit_params = {}\n",
    "\n",
    "fit_params[\"zoomfactor\"] = 1.5\n",
    "fit_params[\"max_t2_s\"] = 0.1\n",
    "fit_params[\"min_t2_s\"] = 0.001\n",
    "fit_params[\"range_t2s_s\"] = 0.05\n",
    "\n",
    "# get the indices of the peaks:\n",
    "fit_params[\"metabs\"] = metabs\n",
    "fit_params[\"fit_range_repetitions\"] = repetitions_to_fit\n",
    "fit_params[\"range_freqs_Hz\"] = 25\n",
    "fit_params[\"cut_off\"] = 70\n",
    "fit_params[\"niter\"] = 1 # number of iterations:\n",
    "fit_params[\"npoints\"] = 21 # number of tested points per iteration:\n",
    "fit_params[\"rep_fitting\"] = 11 # number of tested points per iteration:\n",
    "fit_params[\"provided_dims\"] = [\"reps\", \"fid\"]\n",
    "fit_params[\"use_all_cores\"] = True\n",
    "\n",
    "fit_params = ut_fitting.def_fit_params(fit_params=fit_params, data_obj=experiment)\n",
    "\n",
    "# get the indices of the peaks:\n",
    "peak_indices = ut_spec.find_npeaks(input_data=np.abs(np.sum(np.fft.fftshift(np.fft.fft(np.fft.ifft(np.fft.ifftshift(experiment.complex_spec))[:,fit_params[\"cut_off\"]:])),axis=0)),\n",
    "                              freq_range=fit_params['freq_range_ppm'],\n",
    "                              npeaks=len(metabs),\n",
    "                              find_peaks_params={'distance':150},\n",
    "                                   plot=True)\n",
    "# diff literature and measured:\n",
    "\n",
    "fit_params[\"metabs_freqs_ppm\"] = fit_params[\"freq_range_ppm\"][peak_indices]\n",
    "    #overwrite the peak values since the hydrate peak is not found for some reason\n",
    "#fit_params[\"metabs_freqs_ppm\"] = [163.6,171.1,175.9,179.9,183.3]\n",
    "#fit_params[\"metabs_freqs_Hz\"] = [None, None, None,None]\n",
    "\n",
    "\n",
    "fit_params = ut_fitting.def_fit_params(fit_params=fit_params, data_obj=experiment)\n",
    "fit_params_31=fit_params\n",
    "\n",
    "fit_spectrums_31, fit_amps_31, fit_freqs_31, fit_t2s_31, fit_stds_31  = ut_fitting.fit_data_pseudo_inv(input_data=experiment.complex_spec,\n",
    "                                                                             data_obj=experiment,\n",
    "                                                                  fit_params=fit_params_31,\n",
    "                                                              use_multiprocessing=True)\n",
    "\n",
    "fit_freqs_ppm_31 = ut_spec.freq_Hz_to_ppm(freq_Hz=np.squeeze(fit_freqs_31), hz_axis=fit_params_31[\"freq_range_Hz\"], ppm_axis=fit_params_31[\"freq_range_ppm\"], ppm_axis_flipped=False)\n"
   ]
  },
  {
   "cell_type": "code",
   "execution_count": null,
   "id": "61a62414-7790-4627-b962-5eeefa100bde",
   "metadata": {
    "tags": []
   },
   "outputs": [],
   "source": [
    "## frequency errors\n",
    "fit_freqs_diff_stds_31 = np.sqrt(np.abs(fit_stds_31[0,0,0,0,:,0,0,1]**2) +\n",
    "                                        np.abs(fit_stds_31[0,0,0,0,:,0,1,1]**2))"
   ]
  },
  {
   "cell_type": "code",
   "execution_count": null,
   "id": "a2586b8f-851b-4605-821f-610fc3689534",
   "metadata": {
    "tags": []
   },
   "outputs": [],
   "source": [
    "plot_fit_results(fit_spectrums_31,fit_freqs_31,sig_31,nspect_31deg,fit_params_31)"
   ]
  },
  {
   "cell_type": "markdown",
   "id": "40267196-e741-4d63-9264-b3ebdabf8924",
   "metadata": {},
   "source": [
    "## Save fit results"
   ]
  },
  {
   "cell_type": "code",
   "execution_count": null,
   "id": "a1650b3d-3bc4-4edb-84e6-1b473792ad1b",
   "metadata": {
    "tags": []
   },
   "outputs": [],
   "source": [
    "fit_results = {}\n",
    "fit_results[\"fit_spectrums_38\"] = fit_spectrums_38\n",
    "fit_results[\"fit_spectrums_31\"] = fit_spectrums_31\n",
    "fit_results[\"fit_freqs_38\"] = fit_freqs_38\n",
    "fit_results[\"fit_freqs_31\"] = fit_freqs_31\n",
    "fit_results[\"fit_amps_38\"] = fit_amps_38\n",
    "fit_results[\"fit_amps_31\"] = fit_amps_31\n",
    "fit_results[\"fit_t2s_38\"] = fit_t2s_38\n",
    "fit_results[\"fit_t2s_31\"] = fit_t2s_31\n",
    "\n",
    "fit_results[\"fit_params_38\"] = fit_params_38\n",
    "fit_results[\"fit_params_31\"] = fit_params_31\n",
    "\n",
    "fit_results[\"fit_stds_31\"] = fit_stds_31\n",
    "fit_results[\"fit_stds_38\"] = fit_stds_38\n",
    "\n",
    "\n",
    "import pickle\n",
    "hypermri.utils.utils_general.save_as_pkl(dir_path=savepath,\n",
    "                filename='fit_spectra',\n",
    "                file = fit_results,\n",
    "                file_keys=fit_results.keys(),\n",
    "                use_timestamp=False)\n",
    "                "
   ]
  },
  {
   "cell_type": "markdown",
   "id": "698937e4-6e95-4667-88c3-ec2f531b60a1",
   "metadata": {},
   "source": [
    "# Analysis"
   ]
  },
  {
   "cell_type": "code",
   "execution_count": null,
   "id": "db76c9ad-0749-43f7-b915-765f56633876",
   "metadata": {
    "tags": []
   },
   "outputs": [],
   "source": [
    "time_scale_38deg = np.arange(0,nspect_38deg.method['PVM_RepetitionTime']*nspect_38deg.method['PVM_NRepetitions'],nspect_38deg.method['PVM_RepetitionTime'])/1000\n",
    "time_scale_31deg = np.arange(0,nspect_31deg.method['PVM_RepetitionTime']*nspect_31deg.method['PVM_NRepetitions'],nspect_31deg.method['PVM_RepetitionTime'])/1000"
   ]
  },
  {
   "cell_type": "code",
   "execution_count": null,
   "id": "fca8c2ae-45c3-4760-97ba-8ca664cafdb7",
   "metadata": {
    "tags": []
   },
   "outputs": [],
   "source": [
    "def aucr(fit_amps,fit_stds):\n",
    "    \n",
    "    pyr_amp=np.abs(np.squeeze(fit_amps[:,:,:,:,:,:,0]))\n",
    "    lac_amp=np.abs(np.squeeze(fit_amps[:,:,:,:,:,:,1]))\n",
    "\n",
    "    d_pyr_amp = np.squeeze(fit_stds[..., 0, 0])\n",
    "    d_lac_amp = np.squeeze(fit_stds[..., 1, 0])\n",
    "    sum_pyr=np.sum(pyr_amp,axis=0)\n",
    "    sum_lac=np.sum(lac_amp,axis=0)\n",
    "\n",
    "    d_sum_pyr = np.sqrt(np.sum(d_pyr_amp**2, axis=0)) \n",
    "    d_sum_lac = np.sqrt(np.sum(d_lac_amp**2, axis=0)) \n",
    "\n",
    "    AUCR=sum_lac/sum_pyr\n",
    "\n",
    "    d_AUCR = np.abs(AUCR * np.sqrt((d_sum_pyr / sum_pyr)**2 + (d_sum_lac / sum_lac)**2))\n",
    "    print('AUCR=',np.round(AUCR,2),'±',np.round(d_AUCR,2))\n",
    "    return AUCR,d_AUCR"
   ]
  },
  {
   "cell_type": "code",
   "execution_count": null,
   "id": "f2f938a9-36b0-47e1-8c8d-a01c27a58bc3",
   "metadata": {
    "tags": []
   },
   "outputs": [],
   "source": [
    "plt.close('all')\n",
    "fig,ax=plt.subplots(1,figsize=(single_column_width*0.35,3),tight_layout=True)\n",
    "\n",
    "pyr_peak_38deg = np.max(np.abs(np.squeeze(fit_amps_38)[:,0]))\n",
    "pyr_peak_31deg = np.max(np.abs(np.squeeze(fit_amps_31)[:,0]))\n",
    "lac_pyr_38deg = np.sum(np.abs(np.squeeze(fit_amps_38)[:,1]))/np.sum(np.abs(np.squeeze(fit_amps_38)[:,0]))\n",
    "lac_pyr_31deg = np.sum(np.abs(np.squeeze(fit_amps_31)[:,1]))/np.sum(np.abs(np.squeeze(fit_amps_31)[:,0]))\n",
    "\n",
    "\n",
    "aucr_38deg,daucr_38deg=aucr(fit_amps_38,fit_stds_38)\n",
    "aucr_31deg,daucr_31deg=aucr(fit_amps_31,fit_stds_31)\n",
    "\n",
    "print(100*(1-aucr_31deg/aucr_38deg))\n",
    "\n",
    "print(100*np.sqrt((daucr_31deg/aucr_38deg)**2+(daucr_38deg*aucr_31deg/aucr_38deg**2)**2))\n",
    "\n",
    "\n",
    "\n",
    "ax.plot(time_scale_31deg-22,np.abs(fit_amps_31[0,0,0,0,:,0,0])/pyr_peak_31deg,label='31.8$^\\circ$C',color='C0')\n",
    "ax.plot(time_scale_38deg-24,np.abs(fit_amps_38[0,0,0,0,:,0,0])/pyr_peak_38deg,label='37.8$^\\circ$C',color='C3')\n",
    "ax.plot(time_scale_38deg-24,np.abs(fit_amps_38[0,0,0,0,:,0,1])/pyr_peak_38deg,color='C3',linestyle='dashed')\n",
    "ax.plot(time_scale_31deg-22,np.abs(fit_amps_31[0,0,0,0,:,0,1])/pyr_peak_31deg,color='C0',linestyle='dashed')\n",
    "\n",
    "ax.set_xlim([-5,80])\n",
    "ax.set_yticks([0,0.5,1])\n",
    "ax.set_ylabel('I [a.u.]')\n",
    "ax.set_xlabel('t [s]')\n",
    "\n",
    "print('AUCR: 37.8°C/31.8°C = '+str(np.round(lac_pyr_38deg,2))+'/'+str(np.round(lac_pyr_31deg,2)))\n",
    "ax.legend(ncols=1)\n",
    "\n"
   ]
  },
  {
   "cell_type": "code",
   "execution_count": null,
   "id": "cc770034-a46e-4c59-ac1b-f85e83adb0fa",
   "metadata": {
    "tags": []
   },
   "outputs": [],
   "source": [
    "fig,ax=plt.subplots(1,figsize=(2,2),tight_layout=True)\n",
    "ax.bar(['31.8$^\\circ$C','37.8$^\\circ$C'],[np.round(lac_pyr_31deg,2),np.round(lac_pyr_38deg,2)],color=('C0','C3'),width=0.5)\n",
    "ax.set_ylim([0,1])\n",
    "ax.set_xlim([-0.5,1.5])\n",
    "ax.set_yticks([0,0.5,1])\n",
    "ax.set_ylabel('AUCR')\n"
   ]
  },
  {
   "cell_type": "markdown",
   "id": "4096fba6-0419-41e4-b807-e138fba6ade9",
   "metadata": {
    "tags": []
   },
   "source": [
    "# Plot temperature"
   ]
  },
  {
   "cell_type": "markdown",
   "id": "33d850ca-8d47-49ad-9869-45e937fb68b2",
   "metadata": {},
   "source": [
    "## Find animal rectal temp from temp dataframe"
   ]
  },
  {
   "cell_type": "code",
   "execution_count": null,
   "id": "54c8afa6-43c8-4a22-992f-c29681c3faed",
   "metadata": {
    "tags": []
   },
   "outputs": [],
   "source": [
    "nspect_38deg_temp = []\n",
    "seq_start_time = nspect_38deg.acqp['ACQ_time'][1:20]\n",
    "TR = nspect_38deg.method['PVM_RepetitionTime']/1000\n",
    "NR = nspect_38deg.method['PVM_NRepetitions']\n",
    "\n",
    "# convert this to seconds since January 1 1970 for easier comparison since hours, minutes and seconds are not ideal\n",
    "seq_end_time_seconds = nspect_38deg.acqp['MetaTimeStamp'].timestamp()\n",
    "seq_duration = NR*TR\n",
    "seq_start_time_seconds = seq_end_time_seconds-seq_duration\n",
    "time_axis_38deg = []\n",
    "for rep_idx,repetition in enumerate(sig_38):\n",
    "    current_rep_time = seq_start_time_seconds+repetition*TR\n",
    "    current_time_index = np.argmin(np.abs(temp_df['EpochTime']-current_rep_time))\n",
    "    nspect_38deg_temp.append(temp_df['Temperature'].iloc[current_time_index])\n",
    "    time_axis_38deg.append(current_rep_time-seq_start_time_seconds)\n",
    "fig,ax=plt.subplots(1)\n",
    "ax.plot(time_axis_38deg,nspect_38deg_temp)\n",
    "ax.set_ylabel('T [°C]')"
   ]
  },
  {
   "cell_type": "code",
   "execution_count": null,
   "id": "cd83cff1-46bf-4ee8-8da3-bfdeba84b86a",
   "metadata": {
    "tags": []
   },
   "outputs": [],
   "source": [
    "nspect_31deg_temp = []\n",
    "seq_start_time = nspect_31deg.acqp['ACQ_time'][1:20]\n",
    "TR = nspect_31deg.method['PVM_RepetitionTime']/1000\n",
    "NR = nspect_31deg.method['PVM_NRepetitions']\n",
    "\n",
    "# convert this to seconds since January 1 1970 for easier comparison since hours, minutes and seconds are not ideal\n",
    "seq_end_time_seconds = nspect_31deg.acqp['MetaTimeStamp'].timestamp()\n",
    "seq_duration = NR*TR\n",
    "seq_start_time_seconds = seq_end_time_seconds-seq_duration\n",
    "time_axis_31deg = []\n",
    "for rep_idx,repetition in enumerate(sig_31):\n",
    "    current_rep_time = seq_start_time_seconds+repetition*TR\n",
    "    current_time_index = np.argmin(np.abs(temp_df['EpochTime']-current_rep_time))\n",
    "    nspect_31deg_temp.append(temp_df['Temperature'].iloc[current_time_index])\n",
    "    time_axis_31deg.append(current_rep_time-seq_start_time_seconds)\n",
    "fig,ax=plt.subplots(1)\n",
    "ax.plot(time_axis_31deg,nspect_31deg_temp,'-o')\n",
    "ax.set_ylabel('T [°C]')"
   ]
  },
  {
   "cell_type": "code",
   "execution_count": null,
   "id": "908b4796-97a4-4403-ac06-5b5899daed0b",
   "metadata": {
    "tags": []
   },
   "outputs": [],
   "source": [
    "print(np.mean(nspect_31deg_temp)),print(np.mean(nspect_38deg_temp))"
   ]
  },
  {
   "cell_type": "code",
   "execution_count": null,
   "id": "dff389a3-90c2-4141-8927-bfeb9acebb88",
   "metadata": {
    "tags": []
   },
   "outputs": [],
   "source": [
    "pa_la_frq_38=np.abs(np.squeeze(fit_freqs_ppm_38)[:,0]-np.squeeze(fit_freqs_ppm_38)[:,1])\n",
    "pa_la_frq_31=np.abs(np.squeeze(fit_freqs_ppm_31)[:,0]-np.squeeze(fit_freqs_ppm_31)[:,1])\n",
    "\n",
    "pa_la_frq_38=np.where(pa_la_frq_38==0,np.nan,pa_la_frq_38)\n",
    "pa_la_frq_31=np.where(pa_la_frq_31==0,np.nan,pa_la_frq_31)\n",
    "\n",
    "temp_38,temp_err_38=temperature_from_frequency(pa_la_frq_38,'5mM')\n",
    "temp_31,temp_err_31=temperature_from_frequency(pa_la_frq_31,'5mM')"
   ]
  },
  {
   "cell_type": "code",
   "execution_count": null,
   "id": "9343a1f6-8449-438b-b905-54911c28ad25",
   "metadata": {
    "tags": []
   },
   "outputs": [],
   "source": [
    "temp_38_in_range=temp_38[sig_38[0]:sig_38[-1]]\n",
    "pa_signal_range_38 = np.abs(np.squeeze(fit_amps_38))[sig_38[0]:sig_38[-1],0]\n",
    "la_signal_range_38 = np.abs(np.squeeze(fit_amps_38))[sig_38[0]:sig_38[-1],1]\n",
    "temp_31_in_range=temp_31[sig_31[0]:sig_31[-1]]\n",
    "pa_signal_range_31 = np.abs(np.squeeze(fit_amps_31))[sig_31[0]:sig_31[-1],0]\n",
    "la_signal_range_31 = np.abs(np.squeeze(fit_amps_31))[sig_31[0]:sig_31[-1],1]"
   ]
  },
  {
   "cell_type": "code",
   "execution_count": null,
   "id": "f8b5bb21-76c3-4886-b9a1-072ef786c226",
   "metadata": {
    "tags": []
   },
   "outputs": [],
   "source": [
    "## temperature errors from fits\n",
    "df_ppm_38deg = ut_spec.freq_Hz_to_ppm(freq_Hz=np.squeeze(fit_freqs_diff_stds_38), data_obj=nspect_38deg,ppm_centered_at_0=True)\n",
    "df_ppm_31deg = ut_spec.freq_Hz_to_ppm(freq_Hz=np.squeeze(fit_freqs_diff_stds_31), data_obj=nspect_31deg,ppm_centered_at_0=True)\n",
    "\n",
    "dT_38deg = np.abs(temperature_from_frequency(pa_la_frq_38[sig_38[0]:sig_38[-1]]+df_ppm_38deg[sig_38[0]:sig_38[-1]],'5mM')[0]-temperature_from_frequency(pa_la_frq_38[sig_38[0]:sig_38[-1]],'5mM')[0])\n",
    "dT_31deg = np.abs(temperature_from_frequency(pa_la_frq_31[sig_31[0]:sig_31[-1]]+df_ppm_31deg[sig_31[0]:sig_31[-1]],'5mM')[0]-temperature_from_frequency(pa_la_frq_31[sig_31[0]:sig_31[-1]],'5mM')[0])\n"
   ]
  },
  {
   "cell_type": "code",
   "execution_count": null,
   "id": "6d9dbb26-644c-4ce8-8939-91b81a59f4b5",
   "metadata": {
    "tags": []
   },
   "outputs": [],
   "source": [
    "# Time between start of sequence and injection\n",
    "time_start_to_inj=23"
   ]
  },
  {
   "cell_type": "code",
   "execution_count": null,
   "id": "983b1086-b57e-4289-8a64-7f0de8f822a7",
   "metadata": {
    "tags": []
   },
   "outputs": [],
   "source": [
    "high_signal_reps_38 = np.squeeze(np.where(dT_38deg<2))\n",
    "high_signal_reps_31 = np.squeeze(np.where(dT_31deg<2))"
   ]
  },
  {
   "cell_type": "code",
   "execution_count": null,
   "id": "a1ac14ce-7759-4bff-9e6e-a714c08d23c3",
   "metadata": {
    "tags": []
   },
   "outputs": [],
   "source": [
    "plt.close('all')\n",
    "fig,ax=plt.subplots(1,figsize=(single_column_width*0.5,3),tight_layout=True)\n",
    "ax.errorbar(time_scale_38deg[sig_38[0]:sig_38[-1]][high_signal_reps_38]-time_start_to_inj,temperature_from_frequency(pa_la_frq_38,'5mM')[0][sig_38[0]:sig_38[-1]][high_signal_reps_38],capsize=2,\n",
    "            label=r'$T_{C13,hot}$',fmt='-o',yerr=dT_38deg[high_signal_reps_38],color='C3',markersize=3)\n",
    "ax.errorbar(time_scale_31deg[sig_31[0]:sig_31[-1]][high_signal_reps_31]-time_start_to_inj,temperature_from_frequency(pa_la_frq_31,'5mM')[0][sig_31[0]:sig_31[-1]][high_signal_reps_31],capsize=2,\n",
    "            yerr=dT_31deg[high_signal_reps_31],label=r'$T_{C13,cold}$',fmt='-o',color='C0',markersize=3)\n",
    "\n",
    "ax.set_yticks([27,32,37])\n",
    "\n",
    "ax.set_xlabel('t[s]')\n",
    "ax.set_ylabel('T [$^\\circ$C]')\n",
    "ax.errorbar(np.array(time_axis_38deg)[high_signal_reps_38]-time_start_to_inj,np.array(nspect_38deg_temp)[high_signal_reps_38],fmt='-o',label='$T_{rec}$',color='gray',yerr=[0.1],capsize=2,markersize=3)\n",
    "ax.errorbar(np.array(time_axis_31deg)[high_signal_reps_31]-time_start_to_inj,np.array(nspect_31deg_temp)[high_signal_reps_31],fmt='-o',color='gray',yerr=[0.1],capsize=2,markersize=3)\n",
    "\n",
    "\n",
    "print('High rectal temp:',np.mean(np.array(nspect_38deg_temp)[high_signal_reps_38]))\n",
    "print('Low rectal temp:',np.mean(np.array(nspect_31deg_temp)[high_signal_reps_31]))\n",
    "\n",
    "\n",
    "ax.legend()\n",
    "\n"
   ]
  },
  {
   "cell_type": "code",
   "execution_count": null,
   "id": "b2828477-bd30-440d-8312-6d26f45a0daf",
   "metadata": {
    "tags": []
   },
   "outputs": [],
   "source": [
    "print('Mean Temp hot',np.nanmean(temperature_from_frequency(pa_la_frq_38,'5mM')[0][sig_38[0]:sig_38[-1]][high_signal_reps_38]))\n",
    "print('Std Temp hot',np.nanstd(temperature_from_frequency(pa_la_frq_38,'5mM')[0][sig_38[0]:sig_38[-1]][high_signal_reps_38]))\n"
   ]
  },
  {
   "cell_type": "code",
   "execution_count": null,
   "id": "bd431b36-0f09-4367-bcd6-2437ac55e595",
   "metadata": {
    "tags": []
   },
   "outputs": [],
   "source": [
    "print('Mean Temp cold',np.nanmean(temperature_from_frequency(pa_la_frq_31,'5mM')[0][sig_31[0]:sig_31[-1]][high_signal_reps_31]))\n",
    "print('Std Temp cold',np.nanstd(temperature_from_frequency(pa_la_frq_31,'5mM')[0][sig_31[0]:sig_31[-1]][high_signal_reps_31]))\n"
   ]
  },
  {
   "cell_type": "markdown",
   "id": "0a70789e-2e2d-4d2a-93aa-14a90482ab23",
   "metadata": {},
   "source": [
    "# Plotting timecurves against each other"
   ]
  },
  {
   "cell_type": "code",
   "execution_count": null,
   "id": "8f47ff19-585f-4e3c-8359-755b33717db5",
   "metadata": {
    "tags": []
   },
   "outputs": [],
   "source": [
    "plt.close('all')\n",
    "fig,ax=plt.subplots(1,figsize=(3,3),tight_layout=True)\n",
    "pyr_peak_38deg = np.max(peak_integrals_38deg[:,1])\n",
    "pyr_peak_31deg = np.max(peak_integrals_31deg[:,1])\n",
    "\n",
    "ax.plot(time_scale_31deg-20,peak_integrals_31deg[:,1]/pyr_peak_38deg,label='31.8°C',color='C0')\n",
    "ax.plot(time_scale_38deg-20,peak_integrals_38deg[:,1]/pyr_peak_38deg,label='37.9°C',color='C3')\n",
    "ax.plot(time_scale_38deg-20,peak_integrals_38deg[:,0]/pyr_peak_38deg,color='C3',linestyle='dashed')\n",
    "ax.plot(time_scale_31deg-20,peak_integrals_31deg[:,0]/pyr_peak_38deg,color='C0',linestyle='dashed')\n",
    "\n",
    "ax.set_xlim([-5,80])\n",
    "ax.set_ylabel('I [a.u.]')\n",
    "ax.set_xlabel('t [s]')\n",
    "ax.set_yticks([0,0.5,1])\n",
    "print('AUCR: 37.9°C/31.8°C = '+str(np.round(lac_pyr_38deg,2))+'/'+str(np.round(lac_pyr_31deg,2)))\n",
    "ax.legend(ncols=1)\n"
   ]
  },
  {
   "cell_type": "code",
   "execution_count": null,
   "id": "42fd7e12-cfb6-4691-b53e-088a111422d2",
   "metadata": {},
   "outputs": [],
   "source": [
    "fig,ax=plt.subplots(1,figsize=(2,2),tight_layout=True)\n",
    "ax.bar(['31.8°C','37.9°C'],[0.39,0.72],color=('C0','C3'),width=0.5)\n",
    "ax.set_ylim([0,1])\n",
    "ax.set_xlim([-0.5,1.5])\n",
    "ax.set_yticks([0,0.5,1])\n",
    "ax.set_ylabel('AUCR')\n"
   ]
  },
  {
   "cell_type": "markdown",
   "id": "c24ccbf6-b6e3-4fd7-8a29-5e78b666d50a",
   "metadata": {},
   "source": [
    "# Plotting exemplary spectra"
   ]
  },
  {
   "cell_type": "code",
   "execution_count": null,
   "id": "6767b2c9-dd3a-48d4-bfaf-96474c57fb34",
   "metadata": {
    "tags": []
   },
   "outputs": [],
   "source": [
    "\n",
    "plt.close('all')\n",
    "fig,ax=plt.subplots(1,figsize=(5,3),tight_layout=True)\n",
    "freq_ax_38 = ut_spec.get_freq_axis(nspect_38deg)\n",
    "freq_ax_31 = ut_spec.get_freq_axis(nspect_31deg)\n",
    "\n",
    "ax.plot(freq_ax_38,nspect_38deg.spec[18,:]/np.max(nspect_38deg.spec[18,:],axis=0),label='37.9°C',color='C3')\n",
    "ax.plot(freq_ax_31,nspect_31deg.spec[21,:]/np.max(nspect_38deg.spec[21,:],axis=0),label='31.8°C',color='C0')\n",
    "ax.legend()\n",
    "ax.set_xlabel('ppm')\n",
    "ax.set_ylabel('I [a.u.]')\n",
    "ax.set_xlim([186,169])\n",
    "ax.set_xticks([185,180,175,170])\n",
    "\n",
    "fig,ax=plt.subplots(1,figsize=(2,2),tight_layout=True)\n",
    "freq_ax_38 = ut_spec.get_freq_axis(nspect_38deg)\n",
    "freq_ax_31 = ut_spec.get_freq_axis(nspect_31deg)\n",
    "\n",
    "ax.plot(freq_ax_38,nspect_38deg.spec[18,:]/np.max(nspect_38deg.spec[18,:],axis=0),label='37.9°C',color='C3')\n",
    "ax.plot(freq_ax_31,nspect_31deg.spec[21,:]/np.max(nspect_38deg.spec[21,:],axis=0),label='31.8°C',color='C0')\n",
    "ax.set_xlim([172,170])\n",
    "\n",
    "\n",
    "fig,ax=plt.subplots(1,figsize=(2,2),tight_layout=True)\n",
    "freq_ax_38 = ut_spec.get_freq_axis(nspect_38deg)\n",
    "freq_ax_31 = ut_spec.get_freq_axis(nspect_31deg)\n",
    "\n",
    "ax.plot(freq_ax_38,nspect_38deg.spec[18,:]/np.max(nspect_38deg.spec[18,:],axis=0),label='37.9°C',color='C3')\n",
    "ax.plot(freq_ax_31,nspect_31deg.spec[21,:]/np.max(nspect_38deg.spec[21,:],axis=0),label='31.8°C',color='C0')\n",
    "ax.set_xlim([184,182])\n",
    "ax.set_ylim([0.1,0.65])\n"
   ]
  },
  {
   "cell_type": "markdown",
   "id": "080b71f0-b0b0-4243-880e-a3bbc9901363",
   "metadata": {},
   "source": [
    "# Plot anatomical with NSPECT slice"
   ]
  },
  {
   "cell_type": "code",
   "execution_count": null,
   "id": "ba4049db-b47b-4a5e-9fb4-45c94a875061",
   "metadata": {
    "tags": []
   },
   "outputs": [],
   "source": [
    "from hypermri.utils.plot import plot_NSPECT_slice_orientation_in_anatomical_image"
   ]
  },
  {
   "cell_type": "code",
   "execution_count": null,
   "id": "86aee3d7-168c-490d-82de-f1efb9ab8c0b",
   "metadata": {
    "tags": []
   },
   "outputs": [],
   "source": [
    "plot_NSPECT_slice_orientation_in_anatomical_image.plot_image_stack(nspect_38deg,coronal,'',line_color='w',plotname='_31deg',saveplot=True,plotsavepath=savepath,file_format='svg',initial_slice_number=19,vmin=2,vmax=60)"
   ]
  }
 ],
 "metadata": {
  "kernelspec": {
   "display_name": "Python 3 (ipykernel)",
   "language": "python",
   "name": "python3"
  },
  "language_info": {
   "codemirror_mode": {
    "name": "ipython",
    "version": 3
   },
   "file_extension": ".py",
   "mimetype": "text/x-python",
   "name": "python",
   "nbconvert_exporter": "python",
   "pygments_lexer": "ipython3",
   "version": "3.10.10"
  }
 },
 "nbformat": 4,
 "nbformat_minor": 5
}
