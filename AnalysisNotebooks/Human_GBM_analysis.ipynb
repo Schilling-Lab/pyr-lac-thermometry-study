{
 "cells": [
  {
   "cell_type": "code",
   "execution_count": null,
   "id": "1cda8a06-1283-4b5b-9fd3-d2bb47352868",
   "metadata": {
    "tags": []
   },
   "outputs": [],
   "source": [
    "import numpy as np\n",
    "import matplotlib.pyplot as plt\n",
    "from matplotlib.patches import Rectangle\n",
    "import matplotlib\n",
    "params = {\"text.usetex\" : True,\n",
    "          \"font.family\" : \"serif\",\n",
    "          \"font.serif\" : [\"Computer Modern Serif\"],\n",
    "         'font.size':12}\n",
    "plt.rcParams.update(params)\n",
    "import ipywidgets as widgets\n",
    "import datetime\n",
    "import pandas as pd\n",
    "import os\n",
    "import hypermri\n",
    "\n",
    "from scipy.optimize import curve_fit\n",
    "import scipy.io as sio\n",
    "from matplotlib import cm\n",
    "\n",
    "import hypermri.utils.utils_general as utg\n",
    "import hypermri.utils.utils_spectroscopy as uts\n",
    "import hypermri.utils.utils_fitting as utf\n",
    "import sys\n",
    "# define paths:\n",
    "sys.path.append('../../../')\n",
    "import Template_Cambridge\n",
    "basepath,savepath = Template_Cambridge.import_all_packages(False)\n",
    "\n",
    "# Autoreload extension so that you dont have to reload the kernel every time something is changed in the hypermri package\n",
    "%load_ext autoreload\n",
    "%autoreload 2\n",
    "\n",
    "%matplotlib widget\n",
    "def get_colors_from_cmap(cmap_name, N):\n",
    "    cmap = plt.get_cmap(cmap_name)\n",
    "    colors = cmap(np.linspace(0, 1, N))\n",
    "    return colors\n"
   ]
  },
  {
   "cell_type": "code",
   "execution_count": null,
   "id": "ccdcf2a5-4540-44bc-9a8e-09d93e75b3b7",
   "metadata": {
    "tags": []
   },
   "outputs": [],
   "source": [
    "revision_path=r'.../Publication/Revision1/RefittedData/SP_Brain_GBM/'"
   ]
  },
  {
   "cell_type": "code",
   "execution_count": null,
   "id": "eb54aa71-949c-4b40-917e-066dbfb86b49",
   "metadata": {
    "tags": []
   },
   "outputs": [],
   "source": [
    "file_names = ['mbt_02', 'mgs_01', 'mgs_03', 'mgs_07', 'mgs_09', 'mgs_10', 'mgs_11']\n",
    "studyfolder_names = ['MBT-02', 'MGS-01', 'MGS-03', 'MGS-07', 'MGS-09', 'MGS-10', 'MGS-11']"
   ]
  },
  {
   "cell_type": "markdown",
   "id": "3d9c1a68-fa52-4857-8fbf-7b98a89835cb",
   "metadata": {},
   "source": [
    "# Iterate through patients by changing the pat_number and then executing all cells"
   ]
  },
  {
   "cell_type": "code",
   "execution_count": null,
   "id": "0d930d93-dbe1-4e7f-bb7b-4df6d2d2979a",
   "metadata": {
    "tags": []
   },
   "outputs": [],
   "source": [
    "pat_number=6\n",
    "studyfolder = studyfolder_names[pat_number]"
   ]
  },
  {
   "cell_type": "markdown",
   "id": "7501f68e-f1f5-4bcc-ba3a-61a30b243605",
   "metadata": {},
   "source": [
    "## Analysis"
   ]
  },
  {
   "cell_type": "code",
   "execution_count": null,
   "id": "5b5ba7dd-d9db-4f49-9c06-2c24bb4363b6",
   "metadata": {
    "tags": []
   },
   "outputs": [],
   "source": [
    "# Extracting the last folder name from the basepath\n",
    "savefolder = basepath.split('\\\\')[-1]\n",
    "savepath = os.path.join(savepath, savefolder, \"Slicespec\")\n",
    "mgs_file = sio.loadmat(os.path.join(basepath, studyfolder, file_names[pat_number] + \".mat\"))[\"A\"]\n",
    "dataset_header_struct_arr = \\\n",
    "    sio.loadmat(os.path.join(basepath, studyfolder, file_names[pat_number] + \"_header.mat\"))['header']\n",
    "\n",
    "# Get field names from the structured array\n",
    "field_names = dataset_header_struct_arr.dtype.names\n",
    "\n",
    "dataset_header = {}\n",
    "\n",
    "# Iterate over the field names and process the data\n",
    "for field in field_names:\n",
    "    # Access the data for each field\n",
    "    dataset_header[field] = np.squeeze(dataset_header_struct_arr[field][0][0][0])\n",
    "for key in dataset_header['image'].dtype.names:\n",
    "    temp = np.array(dataset_header['image'][key]).item()\n",
    "\n",
    "    # Check if the structure is a NumPy array\n",
    "    if isinstance(temp, np.ndarray):\n",
    "        if temp.ndim == 0:\n",
    "            value = temp.item()  # Use .item() for 0-dimensional array\n",
    "        else:\n",
    "            try:\n",
    "                value = temp[0][0]  # Use indexing for higher-dimensional array\n",
    "            except:\n",
    "                pass\n",
    "        dataset_header['image'][key] = value\n",
    "patient_info = {}\n",
    "patient_info['ID'] = studyfolder\n",
    "if dataset_header['exam']['patsex'] == 0:\n",
    "    patient_info['sex'] = 'male'\n",
    "else:\n",
    "    patient_info['sex'] = 'female'\n",
    "patient_info['weight'] = float(dataset_header['exam']['patweight'] / 1e3)\n",
    "patient_info['pyr_vol'] = patient_info['weight'] * 0.4\n",
    "patient_info['scan_date'] = str(dataset_header['rdb_hdr']['scan_date'])\n",
    "patient_info['scan_time'] = str(dataset_header['rdb_hdr']['scan_time'])\n",
    "import numpy as np\n",
    "\n",
    "rdb_hdr = dataset_header['rdb_hdr']\n",
    "fields = rdb_hdr.dtype.names\n",
    "for f in fields:\n",
    "    # print(f\"{f}: {rdb_hdr[f]}\")\n",
    "    pass\n",
    "# repetition time:\n",
    "tr = dataset_header['image']['tr'] / 1e6\n",
    "tr = 4e3\n",
    "# bandwidth\n",
    "bw = dataset_header['rdb_hdr']['spectral_width']\n",
    "# center frequency:\n",
    "freq_cent_hz = dataset_header['rdb_hdr']['ps_mps_freq'] / 10.0\n",
    "# gyromagnetic ratio MHz/T\n",
    "gmr_mhz_t = utg.get_gmr(nucleus=\"13c\")\n",
    "# B0 in Tesla:\n",
    "b0_off_t = freq_cent_hz / (gmr_mhz_t * 1e6)\n",
    "freq0 = 3 * (gmr_mhz_t)\n",
    "freq_off_hz = freq_cent_hz - freq0 * 1e6\n",
    "freq_off_ppm = (freq_cent_hz - freq0 * 1e6) / (freq0 * 1e6) * 1e6\n",
    "# sampling time:\n",
    "dt = 1. / bw\n",
    "# flip angle:\n",
    "fa = dataset_header['image']['mr_flip']\n",
    "dyn_fid = mgs_file[0::8, 1:, 0, 0, :]\n",
    "\n",
    "# spectrum has to be flipped (and complex conjugated to have proper FID) (see flip_spec_complex_\n",
    "dyn_spec = np.conj(np.flip(np.fft.fftshift(np.fft.fft(dyn_fid, axis=1), axes=(1,)), axis=1))\n",
    "\n",
    "freq_range = np.squeeze(uts.get_freq_axis(npoints=dyn_spec.shape[1], sampling_dt=dt, unit='Hz'))\n",
    "time_axis = utg.calc_sampling_time_axis(npoints=dyn_spec.shape[1], sampling_dt=dt)\n",
    "\n",
    "input_data = uts.make_NDspec_6Dspec(input_data=dyn_spec, provided_dims=[\"reps\", \"spec\", \"z\"])"
   ]
  },
  {
   "cell_type": "markdown",
   "id": "6aacf59e-ef5a-44ac-b847-a2426eac2933",
   "metadata": {},
   "source": [
    "# Loading prefitted data"
   ]
  },
  {
   "cell_type": "code",
   "execution_count": null,
   "id": "ef4d2ef7-733a-4620-adc9-86507a392faf",
   "metadata": {
    "tags": []
   },
   "outputs": [],
   "source": [
    "all_files_in_dir = os.listdir(os.path.join(savepath)+'/fit_results_400ms_100Hz_refit2025/')\n",
    "fitted_files = []\n",
    "for index,file in enumerate(all_files_in_dir):\n",
    "    if file.endswith('.pkl'):\n",
    "        fitted_files.append(file)\n",
    "        print('Found files ',file)\n",
    "# sort files by number\n",
    "fitted_files.sort()\n",
    "# look for file matching the studyfolder_num\n",
    "for n in range(len(fitted_files)):\n",
    "    if fitted_files[n].find(str(studyfolder)+'_fit_spectra_2025')==0:\n",
    "        load_file=fitted_files[n]\n",
    "    else:\n",
    "        pass\n",
    "print('-----')\n",
    "print('Selected study:',studyfolder)\n",
    "print('Loading',load_file)"
   ]
  },
  {
   "cell_type": "code",
   "execution_count": null,
   "id": "268aac0a-c1c3-4264-93b9-6402e4400062",
   "metadata": {
    "tags": []
   },
   "outputs": [],
   "source": [
    "fit_results = utg.load_as_pkl(dir_path=savepath+'/fit_results_400ms_100Hz_refit2025/', filename=load_file, global_vars=globals())\n",
    "print('Loaded data')\n",
    "fit_spectrums = fit_results['fit_spectrums']\n",
    "fit_amps = fit_results['fit_amps']\n",
    "fit_freqs = fit_results['fit_freqs']\n",
    "fit_t2s = fit_results['fit_t2s']\n",
    "fit_params = fit_results['fit_params']\n",
    "fit_stds=fit_results['fit_stds']"
   ]
  },
  {
   "cell_type": "markdown",
   "id": "c75970d7-09ee-49f6-b057-989d49a74f4c",
   "metadata": {
    "tags": []
   },
   "source": [
    "# Plot fit results"
   ]
  },
  {
   "cell_type": "code",
   "execution_count": null,
   "id": "80698392-6211-4614-bc56-6a9be43647e5",
   "metadata": {
    "tags": []
   },
   "outputs": [],
   "source": [
    "utf.plot_fitted_spectra(measured_data=input_data,\n",
    "                        fitted_data=fit_spectrums,\n",
    "                        fit_params=fit_params,plot_params={'figsize':(9,2),'ylim':[-1000,1000]}\n",
    "                    )"
   ]
  },
  {
   "cell_type": "code",
   "execution_count": null,
   "id": "84180d1a-516b-4967-82fb-37675e1a754a",
   "metadata": {
    "tags": []
   },
   "outputs": [],
   "source": [
    "fig,ax=plt.subplots(1)\n",
    "\n",
    "@widgets.interact(slic=(0,input_data.shape[1]-1,1),rep=(0,input_data.shape[4]-1,1))\n",
    "def update(rep=0,slic=0):\n",
    "    ax.cla()\n",
    "    ax.plot(fit_params['freq_range_ppm'],np.abs(np.squeeze(input_data)[:,slic,rep]))\n",
    "    ax.plot(fit_params['freq_range_ppm'],np.abs(np.sum(np.squeeze(fit_spectrums)[:,slic,rep,:],axis=1)))\n",
    "    ax.set_xlim([160,190])\n",
    "    ax.set_title('df='+str(np.round(np.abs(np.sqrt(fit_stds[0,slic,0,0,rep,0,0,1]**2+fit_stds[0,slic,0,0,rep,0,1,1]**2)),1))+' Hz'+\n",
    "                ', f='+str(np.round(fit_freqs[0,slic,0,0,rep,0,0],1))+' Hz')"
   ]
  },
  {
   "cell_type": "code",
   "execution_count": null,
   "id": "e2da1943-844a-4cdb-bddc-a90f0ce98adf",
   "metadata": {
    "tags": []
   },
   "outputs": [],
   "source": [
    "plt.close('all')\n",
    "fig,axes=plt.subplots(input_data.shape[1],input_data.shape[4],figsize=(12,3))\n",
    "\n",
    "for slic in range(input_data.shape[1]):\n",
    "    for rep in range(input_data.shape[4]):\n",
    "        ax = axes[slic,rep]\n",
    "        ax.plot(fit_params['freq_range_ppm'],np.abs(np.squeeze(input_data)[:,slic,rep]))\n",
    "        ax.plot(fit_params['freq_range_ppm'],np.abs(np.sum(np.squeeze(fit_spectrums)[:,slic,rep,:],axis=1)))\n",
    "        ax.set_xlim([160,190])\n",
    "        ax.set_xticks([])\n",
    "        ax.set_yticks([])\n",
    "        ax.set_xticklabels([])\n",
    "        ax.set_yticklabels([])\n",
    "        ax.set_title('')\n",
    "        ax.set_xlabel('')\n",
    "        ax.set_ylabel('')\n",
    "\n",
    "[axes[n,0].set_ylabel('Slice '+str(n)) for n in range(input_data.shape[1])]\n",
    "[axes[0,n].set_title('Rep '+str(n)) for n in range(input_data.shape[4])]\n",
    "        \n",
    "plt.subplots_adjust(wspace=0, hspace=0)\n",
    "\n",
    "plt.savefig(revision_path+str(studyfolder)+'_fit_results.png',dpi=300)"
   ]
  },
  {
   "cell_type": "markdown",
   "id": "19768833-c772-42b1-99a4-f88f4d9e9409",
   "metadata": {
    "tags": []
   },
   "source": [
    "# 5. Compute temperature"
   ]
  },
  {
   "cell_type": "code",
   "execution_count": null,
   "id": "96a10b5c-2baf-461f-a2f8-103cb8acbd72",
   "metadata": {
    "tags": []
   },
   "outputs": [],
   "source": [
    "# Frequency difference [Hz]:\n",
    "\n",
    "freq_diff_hz = np.take(fit_freqs, indices=1, axis=-1) - np.take(fit_freqs, indices=0, axis=-1)\n",
    "\n",
    "# Frequency difference [ppm]:\n",
    "freq_diff_ppm = uts.freq_Hz_to_ppm(freq_Hz  = freq_diff_hz,\n",
    "                                   hz_axis  = fit_params[\"freq_range_Hz\"],\n",
    "                                   ppm_axis = fit_params['freq_range_ppm'],\n",
    "                                   ppm_centered_at_0=True)\n",
    "\n",
    "# Temperature [Hz]:\n",
    "temp, _ = utf.temperature_from_frequency(frequency=freq_diff_ppm,\n",
    "                                         calibration_type='5mM',\n",
    "                                         frequency_is_ppm=True)\n",
    "\n",
    "# std[freq difference [Hz]] [0/1 = pyr/lac, 1=freqs]\n",
    "freq_diff_hz_std = np.sqrt(fit_stds[..., 0, 1]**2 +\n",
    "                           fit_stds[..., 1, 1]**2 )\n",
    "\n",
    "freq_diff_ppm_std = uts.freq_Hz_to_ppm(freq_Hz=freq_diff_hz_std,\n",
    "                                   hz_axis  = fit_params[\"freq_range_Hz\"],\n",
    "                                   ppm_axis = fit_params['freq_range_ppm'],\n",
    "                                   ppm_centered_at_0=True)\n",
    "\n",
    "\n",
    "temp_plus_std, _ = utf.temperature_from_frequency(frequency=freq_diff_ppm+freq_diff_ppm_std,\n",
    "                                         calibration_type='5mM',\n",
    "                                         frequency_is_ppm=True)\n",
    "\n",
    "temp_std = np.abs(temp_plus_std - temp)"
   ]
  },
  {
   "cell_type": "markdown",
   "id": "382abb69-07a0-4cf0-b5b2-322b313d6369",
   "metadata": {},
   "source": [
    "# Selecting only values where the fit error is below 3°C and SNR in Pyruvate and Lactate above 5"
   ]
  },
  {
   "cell_type": "code",
   "execution_count": null,
   "id": "de521575-4b45-443f-956d-4eb6328a4f83",
   "metadata": {
    "tags": []
   },
   "outputs": [],
   "source": [
    "fit_error_threshold = 3 #°C\n",
    "snr_threshold=5"
   ]
  },
  {
   "cell_type": "code",
   "execution_count": null,
   "id": "8dfad70b-2ee4-42fc-a391-a2048dc540f7",
   "metadata": {
    "tags": []
   },
   "outputs": [],
   "source": [
    "## SNR masking\n",
    "snr,noise=uts.compute_snr_from_fit(input_data,fit_spectrums)\n",
    "\n",
    "snr_mask_cond = (snr[..., 0] < snr_threshold) | (snr[..., 1] < snr_threshold)\n",
    "snr_mask = np.where(snr_mask_cond, np.nan, 1)\n",
    "snr_masked_temp=snr_mask*temp\n",
    "\n",
    "\n",
    "## Fit error masking\n",
    "fit_error_mask=np.where(temp_std <= fit_error_threshold, 1, np.nan)\n",
    "fit_error_masked_temp=np.where(~np.isnan(fit_error_mask), temp, np.nan)\n",
    "\n",
    "\n",
    "# combine and report all three variants: 1. SNR masked, 2. Fit error masked and 3. combined\n",
    "snr_and_fit_error_masked_temp=snr_mask*fit_error_masked_temp\n",
    "\n",
    "\n",
    "masked_temp=snr_and_fit_error_masked_temp\n",
    "mean_values = np.nanmean(masked_temp, axis=(0, 2, 3, 4, 5))  # Using nanmean to ignore NaNs\n",
    "# Compute standard deviation similarly\n",
    "std_values = np.nanstd(masked_temp, axis=(0, 2, 3, 4, 5))\n",
    "# Compute count of non-NaN values\n",
    "count_values = np.sum(~np.isnan(masked_temp), axis=(0, 2, 3, 4, 5))\n",
    "inverse_masked_T=np.where(np.isnan(snr_mask*fit_error_mask), temp, np.nan)"
   ]
  },
  {
   "cell_type": "code",
   "execution_count": null,
   "id": "69919165-6c4b-4d15-a592-68a756c5eb68",
   "metadata": {
    "tags": []
   },
   "outputs": [],
   "source": []
  },
  {
   "cell_type": "code",
   "execution_count": null,
   "id": "be60fa3f-075e-4272-934c-923610770e66",
   "metadata": {
    "tags": []
   },
   "outputs": [],
   "source": [
    "plt.close('all')\n",
    "colors = get_colors_from_cmap('tab10', 10)\n",
    "fig,ax=plt.subplots(3,3,figsize=(7,5),tight_layout=True)\n",
    "\n",
    "for n in range(input_data.shape[1]):\n",
    "    \n",
    "    ax[0,n].plot(inverse_masked_T[0,n,0,0,:,0],'o',markersize=3,color='r',label='Excluded points')\n",
    "    ax[0,n].plot(masked_temp[0,n,0,0,:,0],'o',markersize=3,color=colors[0])\n",
    "\n",
    "    ax[1,n].plot(np.abs(temp_std[0,n,0,0,:,0]),'o',markersize=3,color=colors[1])\n",
    "    ax[2,n].plot(np.abs(freq_diff_hz_std[0,n,0,0,:,0]),'o',markersize=3,color=colors[2])\n",
    "    ax[1,n].hlines(3,0,15,linestyle='dashed',color='g')\n",
    "    ax[2,n].hlines(1,0,15,linestyle='dashed',color='g')\n",
    "    \n",
    "\n",
    "    ax[0,n].set_ylim([20,45])\n",
    "    ax[0,n].set_title('Slice '+str(n)+', T='+str(np.round(mean_values[n],1))+'±'+str(np.round(std_values[n],1))+r'$^\\circ$C')\n",
    "    ax[2,n].set_xlabel('Repetition')\n",
    "    ax[0,n].set_ylabel(r'T[$^\\circ$C]')\n",
    "    ax[1,n].set_ylabel(r'dT[$^\\circ$C]')\n",
    "    ax[2,n].set_ylabel(r'df[Hz]')\n",
    "    ax[0,n].legend(fontsize=6)\n",
    "\n",
    "print(mean_values)\n",
    "print(std_values)\n",
    "fig.suptitle(str(studyfolder)+' Temperature filtered')\n",
    "\n",
    "plt.savefig(revision_path+str(studyfolder)+'_temperature_results_SNR_thld.png',dpi=300)"
   ]
  },
  {
   "cell_type": "code",
   "execution_count": null,
   "id": "b5eb1bd4-0125-4924-a045-1d9ce92011d6",
   "metadata": {
    "tags": []
   },
   "outputs": [],
   "source": []
  },
  {
   "cell_type": "markdown",
   "id": "4a29d245-82f8-40a4-a010-c61dcff8271f",
   "metadata": {},
   "source": [
    "# Compute AUCRs and errors for all metabolites for all repetitions"
   ]
  },
  {
   "cell_type": "code",
   "execution_count": null,
   "id": "832a75c8-02c8-48b9-9f0f-49a393851ccc",
   "metadata": {
    "tags": []
   },
   "outputs": [],
   "source": [
    "pyr_amp=np.abs(np.squeeze(fit_amps[:,:,:,:,:,:,0]))\n",
    "lac_amp=np.abs(np.squeeze(fit_amps[:,:,:,:,:,:,1]))\n",
    "\n",
    "d_pyr_amp = np.squeeze(fit_stds[..., 0, 0])\n",
    "d_lac_amp = np.squeeze(fit_stds[..., 1, 0])\n",
    "\n",
    "sum_pyr=np.sum(pyr_amp,axis=1)\n",
    "sum_lac=np.sum(lac_amp,axis=1)\n",
    "\n",
    "\n",
    "d_sum_pyr = np.sqrt(np.sum(d_pyr_amp**2, axis=1)) \n",
    "d_sum_lac = np.sqrt(np.sum(d_lac_amp**2, axis=1)) \n",
    "\n",
    "AUCR=sum_lac/sum_pyr\n",
    "\n",
    "d_AUCR = np.abs(AUCR * np.sqrt((d_sum_pyr / sum_pyr)**2 + (d_sum_lac / sum_lac)**2))\n",
    "\n",
    "print(\"AUCR:\", AUCR)\n",
    "print(\"Error in AUCR:\", d_AUCR)\n"
   ]
  },
  {
   "cell_type": "code",
   "execution_count": null,
   "id": "2f9494a8-3e75-4f88-8fb6-478ad99ce044",
   "metadata": {
    "tags": []
   },
   "outputs": [],
   "source": [
    "plt.close('all')\n",
    "fig,ax=plt.subplots(input_data.shape[1],1,tight_layout=True,figsize=(5,7))\n",
    "for slic in range(input_data.shape[1]):\n",
    "    ax[slic].errorbar(np.arange(0,input_data.shape[4],1),pyr_amp[slic,:]/np.max(pyr_amp[slic,:]),yerr=np.abs(d_pyr_amp[slic,:])/np.max(pyr_amp[slic,:]),label='Pyruvate')\n",
    "    ax[slic].errorbar(np.arange(0,input_data.shape[4],1),lac_amp[slic,:]/np.max(pyr_amp[slic,:]),yerr=np.abs(d_lac_amp[slic,:])/np.max(pyr_amp[slic,:]),label='Lactate')\n",
    "    ax[slic].set_ylabel('Slice '+str(slic))\n",
    "    ax[slic].legend()\n",
    "    ax[slic].set_xlabel('Repetition')\n",
    "    ax[slic].set_title('AUCR='+str(np.round(AUCR[slic],1))+'±'+str(np.round(d_AUCR[slic],3)))\n",
    "fig.suptitle(str(studyfolder)+' AUCR')\n",
    "\n",
    "plt.savefig(revision_path+str(studyfolder)+'_AUCR_results_SNR_thld.png',dpi=300)"
   ]
  },
  {
   "cell_type": "markdown",
   "id": "6ef4cc23-0f45-4967-903c-77e714783b74",
   "metadata": {},
   "source": [
    "# Output dataframe"
   ]
  },
  {
   "cell_type": "code",
   "execution_count": null,
   "id": "67ce1755-30bf-48f9-8f71-c08ab64afe9a",
   "metadata": {
    "tags": []
   },
   "outputs": [],
   "source": [
    "output_df = pd.DataFrame()\n",
    "\n",
    "\n",
    "output_df['ID']=[patient_info['ID']]*3\n",
    "output_df['sex']=[patient_info['sex']]*3\n",
    "\n",
    "output_df['Slice']=range(0,len(mean_values))\n",
    "output_df['T']=mean_values\n",
    "output_df['dT']=std_values\n",
    "output_df['AUCR']=AUCR\n",
    "output_df['dAUCR']=d_AUCR\n",
    "output_df['n']=count_values\n",
    "output_df.to_excel(revision_path+studyfolder+'_results_SNR_thld.xlsx')"
   ]
  }
 ],
 "metadata": {
  "kernelspec": {
   "display_name": "Python 3 (ipykernel)",
   "language": "python",
   "name": "python3"
  },
  "language_info": {
   "codemirror_mode": {
    "name": "ipython",
    "version": 3
   },
   "file_extension": ".py",
   "mimetype": "text/x-python",
   "name": "python",
   "nbconvert_exporter": "python",
   "pygments_lexer": "ipython3",
   "version": "3.9.7"
  }
 },
 "nbformat": 4,
 "nbformat_minor": 5
}
