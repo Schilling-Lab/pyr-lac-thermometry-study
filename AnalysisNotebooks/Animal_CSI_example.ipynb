{
 "cells": [
  {
   "cell_type": "markdown",
   "id": "2a66db7a-c13b-4d0e-8338-7d712dfc57bb",
   "metadata": {
    "jp-MarkdownHeadingCollapsed": true,
    "tags": []
   },
   "source": [
    "# This Notebook is used to analyse mouse data from hyperpolarized 1-13C pyruvate injections"
   ]
  },
  {
   "cell_type": "markdown",
   "id": "8f713102-1245-48e3-a7a8-c3e78ed564a5",
   "metadata": {
    "jp-MarkdownHeadingCollapsed": true,
    "tags": []
   },
   "source": [
    "**Authors: Wolfgang Gottwald, Luca Nagel (2024)**"
   ]
  },
  {
   "cell_type": "markdown",
   "id": "17f694d8-5cbb-4191-820e-4d89d8e0e477",
   "metadata": {
    "tags": []
   },
   "source": [
    "# 1. Import Libraries"
   ]
  },
  {
   "cell_type": "code",
   "execution_count": null,
   "id": "182b1ef3-b11d-4a5e-b480-d8e8f5147e30",
   "metadata": {
    "tags": []
   },
   "outputs": [],
   "source": [
    "import numpy as np\n",
    "import matplotlib.pyplot as plt\n",
    "from matplotlib.patches import Rectangle\n",
    "import matplotlib\n",
    "matplotlib.rcParams.update({'font.size': 12,'font.family':'serif','font.serif':['Computer Modern'],\"text.usetex\" : True,})\n",
    "\n",
    "import ipywidgets as widgets\n",
    "import datetime\n",
    "import pandas as pd\n",
    "import os\n",
    "import nmrglue\n",
    "import hypermri\n",
    "import hypermri.utils.utils_anatomical as ut_anat\n",
    "import hypermri.utils.utils_spectroscopy as ut_spec\n",
    "import hypermri.utils.utils_fitting as ut_fitting\n",
    "import hypermri.utils.utils_general as utg\n",
    "from scipy.optimize import curve_fit\n",
    "from matplotlib import cm\n",
    "from astropy.modeling import models, fitting\n",
    "from mpl_toolkits.axes_grid1 import make_axes_locatable\n",
    "import seaborn as sns\n",
    "    \n",
    "import sys\n",
    "# Get the current working directory\n",
    "cwd = os.getcwd()\n",
    "parent_dir = os.path.dirname(os.path.dirname(cwd))\n",
    "sys.path.append(parent_dir)\n",
    "# define paths:\n",
    "sys.path.append('../')\n",
    "import TEMPLATE\n",
    "# get paths:\n",
    "repopath, basepath, savepath,publication_path = TEMPLATE.import_all_packages(True)\n",
    "savepath = os.path.join(savepath,'AnimalCSIResults')\n",
    "from mpl_interactions import image_segmenter_overlayed\n",
    "\n",
    "\n",
    "# Autoreload extension so that you dont have to reload the kernel every time something is changed in the hypermri or magritek folders\n",
    "%load_ext autoreload\n",
    "%autoreload 2\n",
    "\n",
    "%matplotlib widget\n"
   ]
  },
  {
   "cell_type": "markdown",
   "id": "27694e68-3edf-4fca-b8a9-07a0f20c1bf4",
   "metadata": {
    "tags": []
   },
   "source": [
    "#### Import fitting stuff"
   ]
  },
  {
   "cell_type": "code",
   "execution_count": null,
   "id": "6d1f8d7c-8b19-492f-a28a-6aeb9f5ce115",
   "metadata": {
    "tags": []
   },
   "outputs": [],
   "source": [
    "from hypermri.utils.utils_spectroscopy import find_npeaks as ut_find_npeaks\n",
    "from hypermri.utils.utils_fitting import temperature_from_frequency"
   ]
  },
  {
   "cell_type": "markdown",
   "id": "3eff17e6-5450-4d78-8827-2155140dee12",
   "metadata": {},
   "source": [
    "### Frequency to temperature calibration functions obtained from calibration measurements"
   ]
  },
  {
   "cell_type": "code",
   "execution_count": null,
   "id": "b73dadae-e0af-4f26-80e2-c4da1abce67f",
   "metadata": {
    "tags": []
   },
   "outputs": [],
   "source": [
    "from hypermri.utils.utils_fitting import temperature_from_frequency as temperature"
   ]
  },
  {
   "cell_type": "markdown",
   "id": "0acea676-4952-4ab0-b87c-3d2e8381712a",
   "metadata": {
    "tags": []
   },
   "source": [
    "# 2. Manually Input information about the experiment"
   ]
  },
  {
   "cell_type": "code",
   "execution_count": null,
   "id": "efe5d0e0-ede4-494f-8a33-cf7f5547b1d8",
   "metadata": {
    "tags": []
   },
   "outputs": [],
   "source": [
    "# from docu sheet:\n",
    "csi_high_temp_temperature = 38.3\n",
    "csi_low_temp_temperature = 34.5\n",
    "\n",
    "# animal details\n",
    "animal_ID = ''\n",
    "animal_gender = ''\n",
    "animal_weight =  #g\n",
    "scan_date = ''"
   ]
  },
  {
   "cell_type": "markdown",
   "id": "ecf8a40f-119d-483a-8b75-e45600cc41cd",
   "metadata": {
    "tags": []
   },
   "source": [
    "# 3. Load/reconstruct Scans"
   ]
  },
  {
   "cell_type": "code",
   "execution_count": null,
   "id": "e36e27d2-eb50-46c4-b603-ef1540e9d403",
   "metadata": {
    "tags": []
   },
   "outputs": [],
   "source": [
    "dirpath = basepath+''\n",
    "scans = hypermri.BrukerDir(dirpath,verbose=False)\n"
   ]
  },
  {
   "cell_type": "markdown",
   "id": "73f2ed40-2100-4a79-b377-2c4c81dc3be8",
   "metadata": {},
   "source": [
    "### Select scans and perform reconstruction"
   ]
  },
  {
   "cell_type": "code",
   "execution_count": null,
   "id": "e6b0776d-f74d-40e1-874e-05b01e319bf8",
   "metadata": {
    "tags": []
   },
   "outputs": [],
   "source": [
    "csi_high_temp = scans[13]\n",
    "csi_low_temp = scans[22]\n",
    "\n",
    "# anatomical images\n",
    "coronal = scans[27]\n",
    "axial = scans[15]\n",
    "sagittal = scans[16]\n",
    "# coregistered with CSI\n",
    "t2w_as_csi = scans[14]\n",
    "\n",
    "\n",
    "# perform a reconstruction, including shifting the anatomical image:\n",
    "csi_high_temp.full_reco(anatomical=t2w_as_csi)\n",
    "csi_low_temp.full_reco(anatomical=t2w_as_csi)\n",
    "\n",
    "# define path that the figures and stuff should be stored in:\n",
    "csi_high_temp.savepath = basepath\n",
    "csi_low_temp.savepath = basepath\n",
    "\n",
    "\n",
    "# get Extent\n",
    "ax_ext,   _, _   = utg.get_extent(data_obj=t2w_as_csi)\n",
    "csi_ext,  _, _   = utg.get_extent(data_obj=csi_high_temp)"
   ]
  },
  {
   "cell_type": "markdown",
   "id": "17641d8f-f4c8-4149-b819-9bc22712a979",
   "metadata": {
    "tags": []
   },
   "source": [
    "# 4. Interpolate csi data 2x"
   ]
  },
  {
   "cell_type": "code",
   "execution_count": null,
   "id": "f4b8bb72-3d8d-4962-848e-e336ddd856d8",
   "metadata": {
    "tags": []
   },
   "outputs": [],
   "source": [
    "interpolation_factor = 2"
   ]
  },
  {
   "cell_type": "code",
   "execution_count": null,
   "id": "ae46e33f-6c31-4b81-b430-8593561a371a",
   "metadata": {
    "tags": []
   },
   "outputs": [],
   "source": [
    "csi_high_temp_interpolated = utg.interpolate_dataset(input_data=csi_high_temp.csi_image,\n",
    "                                           interp_size=(csi_high_temp.csi_image.shape[0],\n",
    "                                                        csi_high_temp.csi_image.shape[1],\n",
    "                                                        interpolation_factor*csi_high_temp.csi_image.shape[2],\n",
    "                                                        interpolation_factor*csi_high_temp.csi_image.shape[3],\n",
    "                                                        csi_high_temp.csi_image.shape[4],\n",
    "                                                        csi_high_temp.csi_image.shape[5]),\n",
    "                                           data_obj=csi_high_temp,\n",
    "                                           interp_method=\"cubic\")"
   ]
  },
  {
   "cell_type": "code",
   "execution_count": null,
   "id": "2ad24ae8-f57e-4f29-a039-99ad690374c3",
   "metadata": {
    "tags": []
   },
   "outputs": [],
   "source": [
    "csi_low_temp_interpolated = utg.interpolate_dataset(input_data=csi_low_temp.csi_image,\n",
    "                                           interp_size=(csi_low_temp.csi_image.shape[0],\n",
    "                                                        csi_low_temp.csi_image.shape[1],\n",
    "                                                        interpolation_factor*csi_low_temp.csi_image.shape[2],\n",
    "                                                        interpolation_factor*csi_low_temp.csi_image.shape[3],\n",
    "                                                        csi_low_temp.csi_image.shape[4],\n",
    "                                                        csi_low_temp.csi_image.shape[5]),\n",
    "                                           data_obj=csi_low_temp,\n",
    "                                           interp_method=\"cubic\")\n",
    "                                               \n"
   ]
  },
  {
   "cell_type": "markdown",
   "id": "31c0f65f-7f34-4e05-8e0e-5a2fb1d9e343",
   "metadata": {
    "tags": []
   },
   "source": [
    "### Quick look at the data"
   ]
  },
  {
   "cell_type": "code",
   "execution_count": null,
   "id": "13ea694e-3958-4516-8473-3631a733ceb2",
   "metadata": {
    "tags": []
   },
   "outputs": [],
   "source": [
    "plt.close('all')\n",
    "fig,(ax1,ax2)=plt.subplots(1,2,figsize=(12,5),tight_layout=True)\n",
    "csi_high_temp.plot2d(axlist=(ax1,ax2),axial_image=t2w_as_csi,csi_data=csi_high_temp_interpolated,fig=fig)"
   ]
  },
  {
   "cell_type": "code",
   "execution_count": null,
   "id": "c00b2e65-94e3-4496-ab37-531f133df683",
   "metadata": {
    "tags": []
   },
   "outputs": [],
   "source": [
    "plt.close('all')\n",
    "fig,(ax1,ax2)=plt.subplots(1,2,figsize=(14,6),tight_layout=True)\n",
    "csi_low_temp.plot2d(axlist=(ax1,ax2),axial_image=t2w_as_csi,csi_data=csi_low_temp_interpolated,fig=fig)"
   ]
  },
  {
   "cell_type": "markdown",
   "id": "ef52cf71-c2d8-42f5-8a49-13b132dd175b",
   "metadata": {
    "tags": []
   },
   "source": [
    "# 5. Load or fit function to spectra\n"
   ]
  },
  {
   "cell_type": "code",
   "execution_count": null,
   "id": "ef323c63-2849-4976-be91-d47420cd7724",
   "metadata": {
    "tags": []
   },
   "outputs": [],
   "source": [
    "filename = animal_ID+'_fit_spectra_interp.pkl'\n",
    "\n",
    "fit_results = utg.load_as_pkl(dir_path=savepath,\n",
    "            filename=filename)\n",
    "fit_spectrums_high_temp_interp = fit_results[\"fit_spectrums_high_temp\"]\n",
    "fit_spectrums_low_temp_interp = fit_results[\"fit_spectrums_low_temp\"]\n",
    "fit_freqs_high_temp_interp = fit_results[\"fit_freqs_high_temp\"]\n",
    "fit_freqs_low_temp_interp = fit_results[\"fit_freqs_low_temp\"]\n",
    "fit_amps_high_temp_interp = fit_results[\"fit_amps_high_temp\"]\n",
    "fit_amps_low_temp_interp = fit_results[\"fit_amps_low_temp\"]\n",
    "fit_t2s_high_temp_interp = fit_results[\"fit_t2s_high_temp\"]\n",
    "fit_t2s_low_temp_interp = fit_results[\"fit_t2s_low_temp\"]\n",
    "fit_stds_high_temp_interp = fit_results[\"fit_stds_high_temp\"]\n",
    "fit_stds_low_temp_interp = fit_results[\"fit_stds_low_temp\"]\n",
    "\n",
    "fit_params_low_temp = fit_results[\"fit_params_low_temp\"]\n",
    "fit_params_high_temp = fit_results[\"fit_params_high_temp\"]\n",
    "\n",
    "print('Loaded ',savepath+'/'+filename)\n"
   ]
  },
  {
   "cell_type": "markdown",
   "id": "f092da3d-2947-4e1e-a96e-90fe8014c6ea",
   "metadata": {
    "tags": []
   },
   "source": [
    "## If loading was successful, skip until 6."
   ]
  },
  {
   "cell_type": "markdown",
   "id": "cfbf6ef0-ede6-4359-95da-e1dc01ad0e9d",
   "metadata": {
    "tags": []
   },
   "source": [
    "### Fitting: High temperature scan"
   ]
  },
  {
   "cell_type": "markdown",
   "id": "932cf591-a6f9-496b-a49e-eb8d4cc0e9c4",
   "metadata": {
    "tags": []
   },
   "source": [
    "#### Initialize fit params"
   ]
  },
  {
   "cell_type": "code",
   "execution_count": null,
   "id": "ef2d2af6-dbd3-4a57-80fa-c9800104704a",
   "metadata": {
    "tags": []
   },
   "outputs": [],
   "source": [
    "# define metabolites:\n",
    "metabs = ['pyruvate', 'lactate', 'alanine', 'pyruvatehydrate', 'urea']\n",
    "\n",
    "niter = 1 # number of iterations:\n",
    "npoints  = 21# number of tested points per iteration:\n",
    "rep_fitting = 11\n",
    "\n",
    "\n",
    "# define fit parameters:\n",
    "fit_params = {}\n",
    "\n",
    "fit_params[\"cut_off\"] = 0\n",
    "fit_params[\"rep_fitting\"] = rep_fitting\n",
    "fit_params[\"zoomfactor\"] = 1.5\n",
    "fit_params[\"fit_range_repetitions\"] = 1\n",
    "fit_params[\"metab_t2s\"] = 0.01\n",
    "fit_params[\"max_t2_s\"] = 0.05 # 0.05\n",
    "fit_params[\"range_t2s_s\"] = 0.2\n",
    "fit_params[\"init_fit\"] = False\n",
    "fit_params[\"range_freqs_Hz\"] = 45\n",
    "\n",
    "# define peak frequencies:\n",
    "fit_params[\"metabs\"] = metabs\n",
    "fit_params[\"niter\"] = niter # number of iterations:\n",
    "fit_params[\"npoints\"] = npoints # number of tested points per iteration:\n",
    "fit_params[\"use_all_cores\"]=True\n",
    "# fill missing parameters:\n",
    "fit_params = ut_fitting.def_fit_params(fit_params=fit_params,\n",
    "                                       data_obj=csi_high_temp)"
   ]
  },
  {
   "cell_type": "markdown",
   "id": "cbd6ea8b-9733-4395-8003-d38fca2ee04e",
   "metadata": {},
   "source": [
    "#### Perform fitting"
   ]
  },
  {
   "cell_type": "code",
   "execution_count": null,
   "id": "43765b5e-234f-4138-8cf0-f897024a23eb",
   "metadata": {
    "tags": []
   },
   "outputs": [],
   "source": [
    "# perform fitting:\n",
    "fit_spectrums_high_temp_interp, fit_amps_high_temp_interp, fit_freqs_high_temp_interp, fit_t2s_high_temp_interp,fit_stds_high_temp_interp = ut_fitting.fit_data_pseudo_inv(input_data=csi_high_temp_interpolated,\n",
    "                                                                                                             fit_params=fit_params,\n",
    "                                                                                                             data_obj=csi_high_temp,\n",
    "                                                                                                             use_multiprocessing=True,\n",
    "                                                                                                             dbmode=False,\n",
    "                                                                                                            )"
   ]
  },
  {
   "cell_type": "code",
   "execution_count": null,
   "id": "fa0c3e3c-01ab-4c6a-a437-38292f64e3fa",
   "metadata": {
    "tags": []
   },
   "outputs": [],
   "source": [
    "plt.close('all')\n",
    "fig,(ax1,ax2)=plt.subplots(1,2,tight_layout=True,figsize=(8,2.5))\n",
    "im1=ax1.imshow(np.rot90(fit_freqs_high_temp_interp[0,0,:,:,0,0,0]))\n",
    "ax1.set_title('Pyr freq')\n",
    "im2=ax2.imshow(np.rot90(fit_freqs_high_temp_interp[0,0,:,:,0,0,1]))\n",
    "ax2.set_title('Lac freq')\n",
    "\n",
    "fig.colorbar(im1,ax=ax1,label='f[Hz]')\n",
    "fig.colorbar(im2,ax=ax2,label='f[Hz]')\n"
   ]
  },
  {
   "cell_type": "markdown",
   "id": "2a130b6b-3d56-4307-9e73-ff95aa2e2944",
   "metadata": {},
   "source": [
    "#### Low temperature scan"
   ]
  },
  {
   "cell_type": "code",
   "execution_count": null,
   "id": "c383993a-ba6c-4d33-ab8d-965082127b83",
   "metadata": {
    "tags": []
   },
   "outputs": [],
   "source": [
    "# define metabolites:\n",
    "metabs = ['pyruvate', 'lactate', 'alanine', 'pyruvatehydrate', 'urea']\n",
    "\n",
    "niter = 1 # number of iterations:\n",
    "npoints  = 21# number of tested points per iteration:\n",
    "rep_fitting = 11\n",
    "\n",
    "\n",
    "# define fit parameters:\n",
    "fit_params = {}\n",
    "\n",
    "fit_params[\"cut_off\"] = 0\n",
    "fit_params[\"rep_fitting\"] = rep_fitting\n",
    "fit_params[\"zoomfactor\"] = 1.5\n",
    "fit_params[\"fit_range_repetitions\"] = 1\n",
    "fit_params[\"metab_t2s\"] = 0.01\n",
    "fit_params[\"max_t2_s\"] = 0.05 # 0.05\n",
    "fit_params[\"range_t2s_s\"] = 0.2\n",
    "fit_params[\"init_fit\"] = False\n",
    "fit_params[\"range_freqs_Hz\"] = 45\n",
    "\n",
    "# define peak frequencies:\n",
    "fit_params[\"metabs\"] = metabs\n",
    "fit_params[\"niter\"] = niter # number of iterations:\n",
    "fit_params[\"npoints\"] = npoints # number of tested points per iteration:\n",
    "fit_params[\"use_all_cores\"]=True\n",
    "# fill missing parameters:\n",
    "fit_params = ut_fitting.def_fit_params(fit_params=fit_params,\n",
    "                                       data_obj=csi_high_temp)"
   ]
  },
  {
   "cell_type": "code",
   "execution_count": null,
   "id": "b10a9474-bb75-4b4e-8ef6-e813740443a2",
   "metadata": {
    "tags": []
   },
   "outputs": [],
   "source": [
    "# perform fitting:\n",
    "fit_spectrums_low_temp_interp, fit_amps_low_temp_interp, fit_freqs_low_temp_interp, fit_t2s_low_temp_interp,fit_stds_low_temp_interp = ut_fitting.fit_data_pseudo_inv(input_data=csi_low_temp_interpolated,\n",
    "                                                                                                         fit_params=fit_params,\n",
    "                                                                                                         data_obj=csi_low_temp,\n",
    "                                                                                                         use_multiprocessing=True,\n",
    "                                                                                                         dbmode=False,\n",
    "                                                                                                        use_all_cores=True)\n"
   ]
  },
  {
   "cell_type": "code",
   "execution_count": null,
   "id": "64d82432-fc73-4bd4-a6ba-386fdae349d3",
   "metadata": {
    "tags": []
   },
   "outputs": [],
   "source": [
    "plt.close('all')\n",
    "fig,(ax1,ax2)=plt.subplots(1,2,tight_layout=True,figsize=(8,2.5))\n",
    "im1=ax1.imshow(np.rot90(fit_freqs_low_temp_interp[0,0,:,:,0,0,0]))\n",
    "ax1.set_title('Pyr freq')\n",
    "im2=ax2.imshow(np.rot90(fit_freqs_low_temp_interp[0,0,:,:,0,0,1]))\n",
    "ax2.set_title('Lac freq')\n",
    "\n",
    "fig.colorbar(im1,ax=ax1,label='f[Hz]')\n",
    "fig.colorbar(im2,ax=ax2,label='f[Hz]')\n"
   ]
  },
  {
   "cell_type": "markdown",
   "id": "145fbb69-6860-444c-ad0a-a1db30f608d1",
   "metadata": {
    "tags": []
   },
   "source": [
    "### Save fit results for faster processing later"
   ]
  },
  {
   "cell_type": "code",
   "execution_count": null,
   "id": "636c4c79-a6f1-4fab-9052-19c64aefb76e",
   "metadata": {
    "tags": []
   },
   "outputs": [],
   "source": [
    "fit_results = {}\n",
    "fit_results[\"fit_spectrums_high_temp\"] = fit_spectrums_high_temp_interp\n",
    "fit_results[\"fit_spectrums_low_temp\"] = fit_spectrums_low_temp_interp\n",
    "fit_results[\"fit_freqs_high_temp\"] = fit_freqs_high_temp_interp\n",
    "fit_results[\"fit_freqs_low_temp\"] = fit_freqs_low_temp_interp\n",
    "fit_results[\"fit_amps_high_temp\"] = fit_amps_high_temp_interp\n",
    "fit_results[\"fit_amps_low_temp\"] = fit_amps_low_temp_interp\n",
    "fit_results[\"fit_t2s_high_temp\"] = fit_t2s_high_temp_interp\n",
    "fit_results[\"fit_t2s_low_temp\"] = fit_t2s_low_temp_interp\n",
    "\n",
    "fit_results[\"fit_params\"] = fit_params\n",
    "fit_results[\"frequency_error_low_temp\"] = fit_stds_low_temp_interp[:,:,:,:,:,:,:,1]\n",
    "fit_results[\"frequency_error_high_temp\"] = fit_stds_high_temp_interp[:,:,:,:,:,:,:,1]\n",
    "fit_results[\"csi_high_temp_temperature\"] = csi_high_temp_temperature\n",
    "fit_results[\"csi_low_temp_temperature\"] = csi_low_temp_temperature\n",
    "fit_results[\"animal_ID\"]=animal_ID\n",
    "fit_results[\"animal_gender\"]=animal_gender\n",
    "fit_results[\"animal_weight\"]=animal_weight\n",
    "fit_results[\"scan_date\"]=scan_date\n",
    "\n",
    "\n",
    "import pickle\n",
    "\n",
    "utg.save_as_pkl(dir_path=savepath,\n",
    "                filename=animal_ID + '_fit_spectra_interp',\n",
    "                file = fit_results,\n",
    "                file_keys=fit_results.keys(),\n",
    "                use_timestamp=False)\n",
    "                "
   ]
  },
  {
   "cell_type": "markdown",
   "id": "1137c6cb-ecd4-47bc-bc12-480b2fd2690d",
   "metadata": {
    "tags": []
   },
   "source": [
    "# 6. Plot fit results on images"
   ]
  },
  {
   "cell_type": "code",
   "execution_count": null,
   "id": "4745e4c7-ac66-44b0-a5c7-abcbd660c48e",
   "metadata": {
    "tags": []
   },
   "outputs": [],
   "source": [
    "plt.close('all')\n",
    "fig,(ax1,ax2)=plt.subplots(1,2,figsize=(12,5),tight_layout=True)\n",
    "csi_high_temp.plot2d(axlist=(ax1,ax2),axial_image=t2w_as_csi,csi_data=csi_high_temp_interpolated,csi_fit_data=np.sum(fit_spectrums_high_temp_interp,axis=-1, keepdims=True), fig=fig)"
   ]
  },
  {
   "cell_type": "code",
   "execution_count": null,
   "id": "cf14ecb4-f3b5-41c9-a218-beade682d8bb",
   "metadata": {
    "tags": []
   },
   "outputs": [],
   "source": [
    "plt.close('all')\n",
    "fig,(ax1,ax2)=plt.subplots(1,2,figsize=(12,5),tight_layout=True)\n",
    "csi_high_temp.plot2d(axlist=(ax1,ax2),axial_image=t2w_as_csi,csi_data=csi_low_temp_interpolated,csi_fit_data=np.sum(fit_spectrums_low_temp_interp,axis=-1, keepdims=True), fig=fig)"
   ]
  },
  {
   "cell_type": "markdown",
   "id": "01e86e36-df46-4f52-81b2-d50b291f23df",
   "metadata": {
    "tags": []
   },
   "source": [
    "# 7. Find background noise region by drawing an ROI around the animal in a T2w scan"
   ]
  },
  {
   "cell_type": "code",
   "execution_count": null,
   "id": "57da9610-6e0f-45c8-89d4-dbb80395dad2",
   "metadata": {
    "tags": []
   },
   "outputs": [],
   "source": [
    "csi_ref_slice=3"
   ]
  },
  {
   "cell_type": "markdown",
   "id": "e4267943-e833-4dd5-b5b3-b9d8ebfcdfc6",
   "metadata": {
    "tags": []
   },
   "source": [
    "## 8.2 Draw animal ROI for masking of outside pixels\n",
    "#### Load animal ROI mask if present\n",
    "#### Skip to 8.3 if loading below successful\n",
    "We average the mask across all slices, since the CSI slice is much thicker than the anatomicals.\n",
    "That way we can more accurately determine which signals of the CSI are from within the animal"
   ]
  },
  {
   "cell_type": "code",
   "execution_count": null,
   "id": "468e902a-fe82-4792-af72-4a228c9bdabe",
   "metadata": {
    "tags": []
   },
   "outputs": [],
   "source": [
    "try:\n",
    "    mask_dict_animal = utg.load_as_pkl(savepath,\n",
    "                       filename= animal_ID + '_animal_mask.pkl')\n",
    "    print('Loaded mask',animal_ID + '_animal_mask.pkl')\n",
    "    mask_dict_animal = {'animal':np.expand_dims(np.sum(mask_dict_animal['animal'],axis=1)>0,axis=1)}\n",
    "    fig,ax=plt.subplots(1)\n",
    "    ax.imshow(np.squeeze(mask_dict_animal['animal']))\n",
    "except:\n",
    "    print('no noise mask found in'+savepath)\n"
   ]
  },
  {
   "cell_type": "markdown",
   "id": "7927f46f-ad2b-4d6a-887a-87136e324aef",
   "metadata": {
    "tags": []
   },
   "source": [
    "### Draw mask around animal in all slices if you did not load one above"
   ]
  },
  {
   "cell_type": "code",
   "execution_count": null,
   "id": "3fae3f7c-ac52-49e4-840f-b98bc56ada4a",
   "metadata": {
    "tags": []
   },
   "outputs": [],
   "source": [
    "segmenter_list_animal = ut_anat.get_segmenter_list_overlayed(t2w_as_csi.seq2d_oriented,\n",
    "                                                      np.zeros_like(t2w_as_csi.seq2d_oriented),\n",
    "                                                      n_rois=1,\n",
    "                                                      figsize=(6,6),\n",
    "                                                      overlay=0.0,\n",
    "                                                      bssfp_cmap='magma',\n",
    "                                                      rot_images_deg=0, # necessary for coronal images (so far, could change after an update)\n",
    "                                                      flip_images=False,\n",
    "                                                      masks_drawn_on=\"axial\")\n",
    "# draw maks on coronal slices:\n",
    "ut_anat.draw_masks_on_anatomical(segmenter_list_animal,\n",
    "                             ['animal'])"
   ]
  },
  {
   "cell_type": "markdown",
   "id": "ed264170-4aad-4576-af27-9a18b2879cfd",
   "metadata": {},
   "source": [
    "### Retrieve mask, save it and average it"
   ]
  },
  {
   "cell_type": "code",
   "execution_count": null,
   "id": "d6e61bb4-a1bc-4104-8ab4-f4f2e7f19c0b",
   "metadata": {
    "tags": []
   },
   "outputs": [],
   "source": [
    "mask_dict_animal=ut_anat.get_masks(segmenter_list_animal,\n",
    "                               plot_res=False,\n",
    "                               roi_keys=['animal'],\n",
    "                               masks_drawn_on='axial')\n",
    "\n",
    "utg.save_as_pkl(dir_path=savepath,\n",
    "                       filename= animal_ID + '_animal_mask',\n",
    "                       file = mask_dict_animal,\n",
    "                       use_timestamp=False)\n",
    "# sum mask over all slices, need to add axis we just removed by averaging for accurate masking\n",
    "mask_dict_animal_avg = {'animal':np.expand_dims(np.sum(mask_dict_animal['animal'],axis=1)>0,axis=1)}"
   ]
  },
  {
   "cell_type": "markdown",
   "id": "43ce0316-785d-4f5c-84d6-f7ab27ee46b5",
   "metadata": {
    "tags": []
   },
   "source": [
    "## 8.4 Threshold data according to fit accuracy. \n",
    "#### 1. Pixels with a fit error above 1°C /"
   ]
  },
  {
   "cell_type": "code",
   "execution_count": null,
   "id": "83577f7d-b833-4811-99c0-e669a891af1f",
   "metadata": {
    "tags": []
   },
   "outputs": [],
   "source": [
    "bitwise_thld = 0.5\n",
    "temp_error_thld=0.5"
   ]
  },
  {
   "cell_type": "code",
   "execution_count": null,
   "id": "f6316f35-9150-4777-a67d-32376ed1a674",
   "metadata": {
    "tags": []
   },
   "outputs": [],
   "source": [
    "# Your existing code to generate freq_diff_map_Hz\n",
    "freq_diff_map_high_temp_Hz = np.abs(np.squeeze(fit_freqs_high_temp_interp)[:,:,0] - np.squeeze(fit_freqs_high_temp_interp)[:,:,1])\n",
    "\n",
    "# Initialize the output array of the same shape as freq_diff_map_Hz\n",
    "freq_diff_map_high_temp_ppm = np.zeros_like(freq_diff_map_high_temp_Hz)\n",
    "# Iterate over all indices of the 2D array\n",
    "for n in range(freq_diff_map_high_temp_Hz.shape[0]):  # Loop over the first dimension\n",
    "    for m in range(freq_diff_map_high_temp_Hz.shape[1]):  # Nested loop over the second dimension\n",
    "#        # Perform your operation on each element\n",
    "        freq_diff_map_high_temp_ppm[n, m] = np.squeeze(ut_spec.freq_Hz_to_ppm(freq_Hz=np.squeeze(fit_freqs_high_temp_interp)[:,:,1][n, m], data_obj=csi_high_temp))-np.squeeze(ut_spec.freq_Hz_to_ppm(freq_Hz=np.squeeze(fit_freqs_high_temp_interp)[:,:,0][n, m], data_obj=csi_high_temp))\n",
    "\n",
    "# Calculate the temperature map\n",
    "temp_map_high, _ = temperature(freq_diff_map_high_temp_ppm, calibration_type='5mM')\n",
    "\n",
    "# mask both frequency and temp map with animal ROI\n",
    "freq_diff_map_high_temp_Hz = np.squeeze(utg.apply_mask(freq_diff_map_high_temp_Hz,mask_dict_animal,'animal',return_nans=True,provided_dims=(2,3),mask_slice_ind=0,bitwise=True,bitwise_lower_threshold=0.50))\n",
    "freq_diff_map_high_temp_ppm = np.squeeze(utg.apply_mask(freq_diff_map_high_temp_ppm,mask_dict_animal,'animal',return_nans=True,provided_dims=(2,3),mask_slice_ind=0,bitwise=True,bitwise_lower_threshold=0.50))\n",
    "temp_map_high = np.squeeze(utg.apply_mask(temp_map_high,mask_dict_animal,'animal',return_nans=True,provided_dims=(2,3),mask_slice_ind=0,bitwise=True,bitwise_lower_threshold=0.50))"
   ]
  },
  {
   "cell_type": "code",
   "execution_count": null,
   "id": "d7563cf4-f309-4e75-90f2-f3e089364e33",
   "metadata": {
    "tags": []
   },
   "outputs": [],
   "source": [
    "# Your existing code to generate freq_diff_map_Hz\n",
    "freq_diff_map_low_temp_Hz = np.abs(np.squeeze(fit_freqs_low_temp_interp)[:,:,0] - np.squeeze(fit_freqs_low_temp_interp)[:,:,1])\n",
    "\n",
    "# Initialize the output array of the same shape as freq_diff_map_Hz\n",
    "freq_diff_map_low_temp_ppm = np.zeros_like(freq_diff_map_low_temp_Hz)\n",
    "# Iterate over all indices of the 2D array\n",
    "for n in range(freq_diff_map_low_temp_Hz.shape[0]):  # Loop over the first dimension\n",
    "    for m in range(freq_diff_map_low_temp_Hz.shape[1]):  # Nested loop over the second dimension\n",
    "        # Perform your operation on each element\n",
    "        freq_diff_map_low_temp_ppm[n, m] = np.squeeze(ut_spec.freq_Hz_to_ppm(freq_Hz=np.squeeze(fit_freqs_low_temp_interp)[:,:,1][n, m], data_obj=csi_low_temp))-np.squeeze(ut_spec.freq_Hz_to_ppm(freq_Hz=np.squeeze(fit_freqs_low_temp_interp)[:,:,0][n, m], data_obj=csi_low_temp))\n",
    "\n",
    "# Calculate the temperature map\n",
    "temp_map_low, _ = temperature(freq_diff_map_low_temp_ppm, calibration_type='5mM')\n",
    "# mask both frequency and temp map with animal ROI\n",
    "freq_diff_map_low_temp_Hz = np.squeeze(utg.apply_mask(freq_diff_map_low_temp_Hz,mask_dict_animal,'animal',return_nans=True,provided_dims=(2,3),mask_slice_ind=0,bitwise=True,bitwise_lower_threshold=0.50))\n",
    "freq_diff_map_low_temp_ppm = np.squeeze(utg.apply_mask(freq_diff_map_low_temp_ppm,mask_dict_animal,'animal',return_nans=True,provided_dims=(2,3),mask_slice_ind=0,bitwise=True,bitwise_lower_threshold=0.50))\n",
    "temp_map_low = np.squeeze(utg.apply_mask(temp_map_low,mask_dict_animal,'animal',return_nans=True,provided_dims=(2,3),mask_slice_ind=0,bitwise=True,bitwise_lower_threshold=0.50))"
   ]
  },
  {
   "cell_type": "markdown",
   "id": "3d2935f8-14a6-4dc9-95d7-dbdbb5d35731",
   "metadata": {},
   "source": [
    "### Hot Scan"
   ]
  },
  {
   "cell_type": "code",
   "execution_count": null,
   "id": "2b1d4bcf-735c-4b22-9a25-0054d8ac7e40",
   "metadata": {
    "tags": []
   },
   "outputs": [],
   "source": [
    "plt.close('all')\n",
    "# Error of difference between lac and pyruvate in Hz\n",
    "fit_freqs_diff_stds_high_temp = np.sqrt(np.abs(fit_stds_high_temp_interp[0,0,:,:,0,0,0,1]**2) +\n",
    "                                        np.abs(fit_stds_high_temp_interp[0,0,:,:,0,0,1,1]**2))\n",
    "\n",
    "\n",
    "# get the uncertainty of the frequency difference in ppm:\n",
    "fit_freqs_diff_stds_ppm_high_temp = ut_spec.freq_Hz_to_ppm(fit_freqs_diff_stds_high_temp,\n",
    "                                                 data_obj=csi_high_temp,\n",
    "                                                 ppm_centered_at_0=True)\n",
    "\n",
    "\n",
    "# calculate the temperature and frequency errors:\n",
    "fit_temps_stds_high_temp, _ =  np.squeeze(temp_map_high - np.asarray(temperature(freq_diff_map_high_temp_ppm+fit_freqs_diff_stds_ppm_high_temp, calibration_type='5mM')))\n",
    "\n",
    "# Calculate mask:\n",
    "temp_error_mask = np.where(fit_temps_stds_high_temp <= temp_error_thld, 1, np.nan)\n",
    "temp_map_high=temp_map_high*temp_error_mask\n",
    "dT = np.squeeze(utg.apply_mask(temp_error_mask*fit_temps_stds_high_temp,mask_dict_animal,'animal',return_nans=True,provided_dims=(2,3),\n",
    "                                mask_slice_ind=0,bitwise=True,bitwise_lower_threshold=0.5))\n",
    "\n",
    "\n",
    "fig,((ax1,ax2,ax3),(ax4,ax5,ax6))=plt.subplots(2,3,tight_layout=True,figsize=(10,8))\n",
    "\n",
    "im1=ax1.imshow(np.rot90(np.real(np.squeeze(fit_stds_high_temp_interp[0,0,:,:,0,0,0,1]))),vmin=0, vmax=5, cmap='jet')\n",
    "ax1.set_title('Pyr sigma freq')\n",
    "\n",
    "im2=ax2.imshow(np.rot90(np.real(np.squeeze(fit_stds_high_temp_interp[0,0,:,:,0,0,1,1]))),vmin=0, vmax=5, cmap='jet')\n",
    "ax2.set_title('Lac sigma freq')\n",
    "\n",
    "im3=ax3.imshow(np.rot90(fit_freqs_diff_stds_high_temp), cmap='jet',vmin=0,vmax=5)\n",
    "ax3.set_title('$\\Delta f$')\n",
    "\n",
    "im4=ax4.imshow(np.rot90(dT), cmap='jet',vmin=0,vmax=2*temp_error_thld)\n",
    "ax4.set_title('$\\Delta T<$'+str(temp_error_thld)+'°C+animal ROI')\n",
    "\n",
    "\n",
    "im5=ax5.imshow(np.rot90(temp_map_high),vmin=30,vmax=42,cmap='jet')\n",
    "\n",
    "ax6.axis('off')\n",
    "\n",
    "\n",
    "fig.colorbar(im1,ax=ax1,label='Hz',shrink=0.65)\n",
    "fig.colorbar(im2,ax=ax2,label='Hz',shrink=0.65)\n",
    "fig.colorbar(im3,ax=ax3,label='Hz',shrink=0.65)\n",
    "fig.colorbar(im4,ax=ax4,label='°C',shrink=0.65)\n",
    "fig.colorbar(im5,ax=ax5,label='°C',shrink=0.65)\n",
    "\n",
    "\n",
    "\n",
    "fig,ax=plt.subplots(1,2,tight_layout=True,figsize=(8,4))\n",
    "ax[0].imshow(np.rot90(np.squeeze(t2w_as_csi.seq2d_oriented)[3]),extent=ax_ext,cmap='bone')\n",
    "ax[0].imshow(np.rot90(temp_map_high),vmin=30,vmax=42,cmap='jet',alpha=0.4,extent=ax_ext)\n",
    "\n",
    "ax[1].hist(np.ravel(temp_map_high)[~np.isnan(np.ravel(temp_map_high))],bins=15)\n",
    "ax[0].set_title('Temp map')\n",
    "\n",
    "ax[1].set_xlabel('T [°C]')\n",
    "ax[1].set_ylabel('Num of pixels')\n",
    "\n"
   ]
  },
  {
   "cell_type": "markdown",
   "id": "b2893267-c105-4e48-af1c-90b8f34710a7",
   "metadata": {},
   "source": [
    "### Cold scan"
   ]
  },
  {
   "cell_type": "code",
   "execution_count": null,
   "id": "eb5affaf-0899-4029-9b76-f57e04f54ecb",
   "metadata": {
    "tags": []
   },
   "outputs": [],
   "source": [
    "plt.close('all')\n",
    "# Error of difference between lac and pyruvate in Hz\n",
    "fit_freqs_diff_stds_low_temp = np.sqrt(np.abs(fit_stds_low_temp_interp[0,0,:,:,0,0,0,1]**2) +\n",
    "                                        np.abs(fit_stds_low_temp_interp[0,0,:,:,0,0,1,1]**2))\n",
    "\n",
    "\n",
    "# get the uncertainty of the frequency difference in ppm:\n",
    "fit_freqs_diff_stds_ppm_low_temp = ut_spec.freq_Hz_to_ppm(fit_freqs_diff_stds_low_temp,\n",
    "                                                 data_obj=csi_low_temp,\n",
    "                                                 ppm_centered_at_0=True)\n",
    "\n",
    "\n",
    "# calculate the temperature and frequency errors:\n",
    "fit_temps_stds_low_temp, _ =  np.squeeze(temp_map_low - np.asarray(temperature(freq_diff_map_low_temp_ppm+fit_freqs_diff_stds_ppm_low_temp, calibration_type='5mM')))\n",
    "\n",
    "# Calculate mask:\n",
    "temp_error_mask = np.where(fit_temps_stds_low_temp <= temp_error_thld, 1, np.nan)\n",
    "temp_map_low=temp_map_low*temp_error_mask\n",
    "dT = np.squeeze(utg.apply_mask(temp_error_mask*fit_temps_stds_low_temp,mask_dict_animal,'animal',return_nans=True,provided_dims=(2,3),\n",
    "                                mask_slice_ind=0,bitwise=True,bitwise_lower_threshold=0.5))\n",
    "\n",
    "\n",
    "fig,((ax1,ax2,ax3),(ax4,ax5,ax6))=plt.subplots(2,3,tight_layout=True,figsize=(10,8))\n",
    "\n",
    "im1=ax1.imshow(np.rot90(np.real(np.squeeze(fit_stds_low_temp_interp[0,0,:,:,0,0,0,1]))),vmin=0, vmax=5, cmap='jet')\n",
    "ax1.set_title('Pyr sigma freq')\n",
    "\n",
    "im2=ax2.imshow(np.rot90(np.real(np.squeeze(fit_stds_low_temp_interp[0,0,:,:,0,0,1,1]))),vmin=0, vmax=5, cmap='jet')\n",
    "ax2.set_title('Lac sigma freq')\n",
    "\n",
    "im3=ax3.imshow(np.rot90(fit_freqs_diff_stds_low_temp), cmap='jet',vmin=0,vmax=5)\n",
    "ax3.set_title('$\\Delta f$')\n",
    "\n",
    "im4=ax4.imshow(np.rot90(dT), cmap='jet',vmin=0,vmax=2*temp_error_thld)\n",
    "ax4.set_title('$\\Delta T<$'+str(temp_error_thld)+'°C+animal ROI')\n",
    "\n",
    "\n",
    "im5=ax5.imshow(np.rot90(temp_map_low),vmin=30,vmax=42,cmap='jet')\n",
    "\n",
    "ax6.axis('off')\n",
    "\n",
    "\n",
    "fig.colorbar(im1,ax=ax1,label='Hz',shrink=0.65)\n",
    "fig.colorbar(im2,ax=ax2,label='Hz',shrink=0.65)\n",
    "fig.colorbar(im3,ax=ax3,label='Hz',shrink=0.65)\n",
    "fig.colorbar(im4,ax=ax4,label='°C',shrink=0.65)\n",
    "fig.colorbar(im5,ax=ax5,label='°C',shrink=0.65)\n",
    "\n",
    "\n",
    "\n",
    "fig,ax=plt.subplots(1,2,tight_layout=True,figsize=(8,4))\n",
    "ax[0].imshow(np.rot90(np.squeeze(t2w_as_csi.seq2d_oriented)[3]),extent=ax_ext,cmap='bone')\n",
    "ax[0].imshow(np.rot90(temp_map_low),vmin=30,vmax=42,cmap='jet',alpha=0.4,extent=ax_ext)\n",
    "\n",
    "ax[1].hist(np.ravel(temp_map_low)[~np.isnan(np.ravel(temp_map_low))],bins=15)\n",
    "ax[0].set_title('Temp map')\n",
    "\n",
    "ax[1].set_xlabel('T [°C]')\n",
    "ax[1].set_ylabel('Num of pixels')\n",
    "\n"
   ]
  },
  {
   "cell_type": "code",
   "execution_count": null,
   "id": "122cef40-89da-40f5-96fb-cddc8713d975",
   "metadata": {
    "tags": []
   },
   "outputs": [],
   "source": [
    "fig_width=6.9 # inch"
   ]
  },
  {
   "cell_type": "code",
   "execution_count": null,
   "id": "1733c6e9-cdc9-4b3f-b56f-9a6dd9d0b2ca",
   "metadata": {
    "tags": []
   },
   "outputs": [],
   "source": [
    "fig,ax=plt.subplots(1,figsize=(fig_width/3,fig_width/3),tight_layout=True)\n",
    "\n",
    "ax.imshow(np.rot90(t2w_as_csi.seq2d_oriented[0, csi_ref_slice, :, :, 0, 0]), cmap='bone',\n",
    "                     extent=hypermri.utils.utils_general.get_plotting_extent(data_obj=csi_high_temp))\n",
    "ax.axis('off')\n",
    "plt.savefig(publication_path+'/03_Figure_csi_example/03_Figure_anatomical.svg')"
   ]
  },
  {
   "cell_type": "code",
   "execution_count": null,
   "id": "14029dd3-29e9-4b84-ad31-bdfcc6ae62e6",
   "metadata": {
    "tags": []
   },
   "outputs": [],
   "source": [
    "fig,ax=plt.subplots(1,figsize=(fig_width/3,fig_width/3),tight_layout=True)\n",
    "\n",
    "im1=ax.imshow(np.rot90(np.abs(fit_amps_low_temp_interp[0,0,:,:,0,0,0]/std_noise-1)), cmap='magma',\n",
    "                     extent=hypermri.utils.utils_general.get_plotting_extent(data_obj=csi_high_temp))\n",
    "ax.axis('off')\n",
    "divider = make_axes_locatable(ax)\n",
    "cax = divider.append_axes('right', size='5%', pad=0.05)\n",
    "cbar=fig.colorbar(im1, cax=cax, orientation='vertical', label='I [a.u.]')\n",
    "cbar.set_ticks([0,20,40])\n",
    "ax.text(0,5,'Pyruvate',color='w')\n",
    "plt.savefig(publication_path+'/03_Figure_csi_example/03_Figure_pyruvate.svg')"
   ]
  },
  {
   "cell_type": "code",
   "execution_count": null,
   "id": "9be2967d-e881-449e-a76b-457337021394",
   "metadata": {
    "tags": []
   },
   "outputs": [],
   "source": [
    "fig,ax=plt.subplots(1,figsize=(fig_width/3,fig_width/3),tight_layout=True)\n",
    "\n",
    "im1=ax.imshow(np.rot90(np.abs(fit_amps_low_temp_interp[0,0,:,:,0,0,1]/std_noise-1)), cmap='magma',\n",
    "                     extent=hypermri.utils.utils_general.get_plotting_extent(data_obj=csi_high_temp))\n",
    "ax.axis('off')\n",
    "divider = make_axes_locatable(ax)\n",
    "cax = divider.append_axes('right', size='5%', pad=0.05)\n",
    "cbar=fig.colorbar(im1, cax=cax, orientation='vertical', label='I [a.u.]')\n",
    "cbar.set_ticks([0,7.5,15])\n",
    "ax.text(0,5,'Lactate',color='w')\n",
    "plt.savefig(publication_path+'/03_Figure_csi_example/03_Figure_lactate.svg')"
   ]
  },
  {
   "cell_type": "code",
   "execution_count": null,
   "id": "8ac9d99a-dfca-4c96-b36b-0ff1c2268461",
   "metadata": {
    "tags": []
   },
   "outputs": [],
   "source": [
    "plt.close('all')\n",
    "fig,ax=plt.subplots(1,figsize=(fig_width/2,fig_width/2),tight_layout=True)\n",
    "ax.imshow(np.rot90(t2w_as_csi.seq2d_oriented[0, csi_ref_slice, :, :, 0, 0]), cmap='bone',\n",
    "                     extent=hypermri.utils.utils_general.get_plotting_extent(data_obj=csi_high_temp))\n",
    "\n",
    "img=ax.imshow(np.rot90(temp_map_high),alpha=1,cmap='jet',vmin=30,vmax=42,extent=hypermri.utils.utils_general.get_plotting_extent(data_obj=csi_high_temp))\n",
    "divider = make_axes_locatable(ax)\n",
    "cax = divider.append_axes('right', size='5%', pad=0.05)\n",
    "cbar=fig.colorbar(img, cax=cax, orientation='vertical', label=r'T[$^\\circ$C]')\n",
    "cbar.set_ticks([30,32,34,36,38,40,42])\n",
    "ax.axis('off')\n",
    "\n",
    "plt.savefig(publication_path+'/Final/03_Figure_example_hot.svg')\n",
    "\n",
    "fig,ax=plt.subplots(1,figsize=(fig_width/2,fig_width/2),tight_layout=True)\n",
    "ax.imshow(np.rot90(t2w_as_csi.seq2d_oriented[0, csi_ref_slice, :, :, 0, 0]), cmap='bone',\n",
    "                     extent=hypermri.utils.utils_general.get_plotting_extent(data_obj=csi_high_temp))\n",
    "img=ax.imshow(np.rot90(temp_map_low),cmap='jet',vmin=30,vmax=42,alpha=1,extent=hypermri.utils.utils_general.get_plotting_extent(data_obj=csi_high_temp))\n",
    "\n",
    "\n",
    "divider = make_axes_locatable(ax)\n",
    "cax = divider.append_axes('right', size='5%', pad=0.05)\n",
    "cbar=fig.colorbar(img, cax=cax, orientation='vertical', label=r'T[$^\\circ$C]')\n",
    "cbar.set_ticks([30,32,34,36,38,40,42])\n",
    "ax.axis('off')\n",
    "plt.savefig(publication_path+'/Final/03_Figure_example_cold.svg')\n",
    "\n"
   ]
  },
  {
   "cell_type": "code",
   "execution_count": null,
   "id": "577658e0-e2e4-4217-ab25-547acb2307a7",
   "metadata": {
    "tags": []
   },
   "outputs": [],
   "source": [
    "fig,ax=plt.subplots(1,figsize=(fig_width*0.9,2.5),tight_layout=True)\n",
    "bin_size=0.5\n",
    "\n",
    "\n",
    "hot_map_plot=temp_map_high\n",
    "cold_map_plot=temp_map_low\n",
    "bins_hot = int(np.round((np.nanmax(hot_map_plot) - np.nanmin(hot_map_plot)) / bin_size))\n",
    "bins_cold = int(np.round((np.nanmax(cold_map_plot) - np.nanmin(cold_map_plot)) / bin_size))\n",
    "ax.hist(np.ravel(hot_map_plot)[~np.isnan(np.ravel(hot_map_plot))],bins=bins_hot,ec='k',color='C3',label='T='+str(csi_high_temp_temperature)+r'$^\\circ$C')\n",
    "ax.hist(np.ravel(cold_map_plot)[~np.isnan(np.ravel(cold_map_plot))],bins=bins_cold,ec='k',color='C0',label='T='+str(csi_low_temp_temperature)+r'$^\\circ$C')\n",
    "\n",
    "ax.set_xticks([30,32,34,36,38,40,42,44])\n",
    "ax.set_yticks([0,10,20,30,40])\n",
    "ax.set_xlabel(r'T[$^\\circ$C]')\n",
    "ax.set_ylabel('Voxels per bin')\n",
    "ax.legend()\n",
    "plt.savefig(publication_path+'/Final/03_Figure_histogram.svg')\n",
    "print(np.nanmean(hot_map_plot).round(1),np.nanstd(hot_map_plot).round(1))\n",
    "print(np.nanmean(cold_map_plot).round(1),np.nanstd(cold_map_plot).round(1))\n"
   ]
  }
 ],
 "metadata": {
  "kernelspec": {
   "display_name": "Python 3 (ipykernel)",
   "language": "python",
   "name": "python3"
  },
  "language_info": {
   "codemirror_mode": {
    "name": "ipython",
    "version": 3
   },
   "file_extension": ".py",
   "mimetype": "text/x-python",
   "name": "python",
   "nbconvert_exporter": "python",
   "pygments_lexer": "ipython3",
   "version": "3.10.10"
  }
 },
 "nbformat": 4,
 "nbformat_minor": 5
}
