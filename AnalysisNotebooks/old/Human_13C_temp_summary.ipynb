{
 "cells": [
  {
   "cell_type": "code",
   "execution_count": null,
   "id": "f6c3c113-2706-4ce9-9041-a224329e61b1",
   "metadata": {
    "tags": []
   },
   "outputs": [],
   "source": [
    "import numpy as np\n",
    "import matplotlib.pyplot as plt\n",
    "from matplotlib.patches import Rectangle\n",
    "import matplotlib\n",
    "params = {\"text.usetex\" : True,\n",
    "          \"font.family\" : \"serif\",\n",
    "          \"font.serif\" : [\"Computer Modern Serif\"],\n",
    "         'font.size':12}\n",
    "plt.rcParams.update(params)\n",
    "import ipywidgets as widgets\n",
    "import datetime\n",
    "import pandas as pd\n",
    "import os\n",
    "import hypermri\n",
    "import scipy\n",
    "import math\n",
    "from scipy.optimize import curve_fit\n",
    "import scipy.io as sio\n",
    "from matplotlib import cm\n",
    "import seaborn as sns\n",
    "import hypermri.utils.utils_general as utg\n",
    "import hypermri.utils.utils_spectroscopy as uts\n",
    "import hypermri.utils.utils_fitting as utf\n",
    "import sys\n",
    "# define paths:\n",
    "sys.path.append('../')\n",
    "import TEMPLATE\n",
    "rpath,basepath,spath=TEMPLATE.import_all_packages()\n",
    "# Autoreload extension so that you dont have to reload the kernel every time something is changed in the hypermri package\n",
    "%load_ext autoreload\n",
    "%autoreload 2\n",
    "\n",
    "%matplotlib widget\n"
   ]
  },
  {
   "cell_type": "markdown",
   "id": "07baf75a-8a10-4d1c-8b92-3c4254faafb7",
   "metadata": {
    "tags": []
   },
   "source": [
    "# 1. GBM data"
   ]
  },
  {
   "cell_type": "code",
   "execution_count": null,
   "id": "e66c2446-b303-4951-ba63-ec86eca40814",
   "metadata": {
    "tags": []
   },
   "outputs": [],
   "source": [
    "publication_path = os.path.join(os.path.abspath(os.path.join(basepath, os.pardir)),r'Publication/Final/06_Figure/')"
   ]
  },
  {
   "cell_type": "code",
   "execution_count": null,
   "id": "31ca9603-42bf-421c-a932-c41200323bd8",
   "metadata": {
    "tags": []
   },
   "outputs": [],
   "source": [
    "gbm_path = os.path.join(os.path.abspath(os.path.join(basepath, os.pardir)),'MISSION-GliomaCambridge/Slicespec/')\n",
    "dataframe_GBM = []\n",
    "studyfolder_names = ['', '', '', '', '', '', '']\n",
    "for study_name in studyfolder_names:\n",
    "    temp_df=pd.read_excel(gbm_path+study_name+'_results_final.xlsx',index_col=0)\n",
    "    dataframe_GBM.append(temp_df)\n",
    "dataframe_GBM = pd.concat(dataframe_GBM, ignore_index=True)\n",
    "\n",
    "# visually determined which slice has a tumor:\n",
    "tumor_slices = [[1,3],\n",
    "               [1,3],\n",
    "               [1,2,3],\n",
    "               [1,2,3],\n",
    "               [2],\n",
    "               [2,3],\n",
    "               [2,3]]\n",
    "# manually putting into bool\n",
    "is_tumor_slice=[True,False,True,\n",
    "               True,False,True,\n",
    "               True,True,True,\n",
    "               True,True,True,\n",
    "               False,True,False,\n",
    "               False,True,True,\n",
    "               False,True,True]\n",
    "\n",
    "       \n",
    "    \n",
    "\n",
    "dataframe_GBM['tumor slice']=is_tumor_slice\n",
    "\n",
    "# removing patient 0 since there were a lot of eddy currents acc. to the publication\n",
    "dataframe_GBM=dataframe_GBM.drop([0,1,2])\n",
    "dataframe_GBM.reset_index(drop=True,inplace=True)\n",
    "\n",
    "\n",
    "# exclude datapoint with insane AUCR error\n",
    "excluded_due_to_error_index=np.where(dataframe_GBM['dAUCR']>1)\n",
    "\n",
    "dataframe_GBM=dataframe_GBM.drop(index=excluded_due_to_error_index[0])\n",
    "\n",
    "dataframe_GBM.round(1)"
   ]
  },
  {
   "cell_type": "code",
   "execution_count": null,
   "id": "38a787c7-117d-40dc-96b8-a9061653b7f1",
   "metadata": {
    "tags": []
   },
   "outputs": [],
   "source": [
    "def lin_fun(x,M,k):\n",
    "    return x*k+M\n",
    "\n",
    "x_ax=np.arange(0,6,1)\n",
    "mean_per_patient=dataframe_GBM.groupby('ID')['T'].mean().reset_index()['T']\n",
    "std_per_patient=dataframe_GBM.groupby('ID')['dT'].mean().reset_index()['dT']\n",
    "      \n",
    "coeff,pcov = curve_fit(lin_fun,x_ax,mean_per_patient)\n",
    "residuals = mean_per_patient - lin_fun(x_ax, *coeff)\n",
    "ss_res = np.sum(residuals**2)\n",
    "ss_tot = np.sum((mean_per_patient-np.mean(mean_per_patient))**2)\n",
    "r_squared = 1 - (ss_res / ss_tot)\n",
    "print(coeff,np.sqrt(np.diag(pcov)))\n",
    "fig,ax=plt.subplots(1,figsize=(3.42,3.42),tight_layout=True)\n",
    "\n",
    "ax.errorbar(x_ax,mean_per_patient,color='k',yerr=std_per_patient,capsize=5,fmt='o')\n",
    "#sns.regplot(x=x_ax,y=mean_per_patient,ci=95,ax=ax,scatter=False)\n",
    "\n",
    "ax.set_yticks([20,25,30,35,40,45])\n",
    "#ax.set_ylim([20,45])\n",
    "ax.set_xticks(range(6))\n",
    "ax.set_xlabel('Patient')\n",
    "ax.set_ylabel('Brain temperature [°C]')\n",
    "#ax.set_title(r'$R^2$='+str(np.round(r_squared,3)))\n",
    "plt.savefig(publication_path+'GBM_patient_temperatures.png',dpi=300)"
   ]
  },
  {
   "cell_type": "code",
   "execution_count": null,
   "id": "75ffa3c8-6264-4d61-89d3-96b08b83cec0",
   "metadata": {
    "tags": []
   },
   "outputs": [],
   "source": [
    "tumor_slice_df_gbm = dataframe_GBM[dataframe_GBM['tumor slice'] == True]\n",
    "no_tumor_slice_df_gbm = dataframe_GBM[dataframe_GBM['tumor slice'] == False]"
   ]
  },
  {
   "cell_type": "markdown",
   "id": "6b8f508d-f135-47b2-9c66-f640bb069983",
   "metadata": {
    "tags": []
   },
   "source": [
    "# 2. Healthy volunteer CSI data"
   ]
  },
  {
   "cell_type": "code",
   "execution_count": null,
   "id": "e9fba28d-932d-45b6-b595-f645e10f8716",
   "metadata": {
    "tags": []
   },
   "outputs": [],
   "source": [
    "concentration ='5mM'"
   ]
  },
  {
   "cell_type": "code",
   "execution_count": null,
   "id": "556c4348-7a27-4661-8cbc-df7597b5f869",
   "metadata": {
    "tags": []
   },
   "outputs": [],
   "source": [
    "df_full = []\n",
    "basepath_csi=os.path.join(os.path.abspath(os.path.join(basepath, os.pardir)),'/HV-brain-CSI')\n",
    "for studyfolder_num in [122,127,128,129,130,131,132,133,134]:\n",
    "    \n",
    "    studyfolder ='HV-'+str(studyfolder_num)\n",
    "    savepath=os.path.join(basepath_csi,studyfolder)\n",
    "    \n",
    "    results_dict =utg.load_as_pkl(savepath,'HV-'+str(studyfolder_num)+'_results_dictionary_'+str(concentration)+'.pkl')\n",
    "    results_df = pd.read_excel(savepath+'/HV-'+str(studyfolder_num)+'_temp_freq_results_'+str(concentration)+'_processed.xlsx')\n",
    "    results_df.insert(0, 'ID', results_dict['patient_info']['ID']) \n",
    "    # all patients are female apparently\n",
    "    #results_df.insert(1, 'sex', results_dict['patient_info']['sex']) \n",
    "    results_df.insert(1, 'pyr_vol', results_dict['patient_info']['pyr_vol']) \n",
    "    results_df.insert(2, 'weight', results_dict['patient_info']['weight']) \n",
    "    results_df.insert(3, 'calibrationfunction', results_dict['calibrationfunction']) \n",
    "    \n",
    "    df_full.append(results_df)\n",
    "df_full=pd.concat(df_full)\n",
    "df_full=df_full.reset_index(drop=True)\n",
    "df_full=df_full.drop(['Unnamed: 0'],axis=1)\n",
    "new_index = []\n",
    "for n in range(9):\n",
    "    for m in range(5):\n",
    "        new_index.append(n)\n",
    "df_full.insert(0, 'Patnum', new_index) \n",
    "\n"
   ]
  },
  {
   "cell_type": "code",
   "execution_count": null,
   "id": "cc3e8dcd-9330-45c1-b735-642c8713f382",
   "metadata": {
    "tags": []
   },
   "outputs": [],
   "source": [
    "selected_columns = df_full[['Patnum', 'Tmean','dT','pixels']]\n",
    "selected_columns.round(1).iloc[40:]"
   ]
  },
  {
   "cell_type": "code",
   "execution_count": null,
   "id": "19ae4067-0025-4273-8798-14ef415c190d",
   "metadata": {
    "tags": []
   },
   "outputs": [],
   "source": [
    "plt.close('all')\n",
    "\n",
    "x_ax = (df_full['Patnum'].unique())\n",
    "\n",
    "mean_temps = []\n",
    "std_temps= []\n",
    "for pat in x_ax:\n",
    "    pat_indices = np.squeeze(np.array(np.where(df_full.Patnum==pat),dtype=int))\n",
    "    Temp_per_slice = df_full.iloc[pat_indices]['Tmean']\n",
    "    std_per_slice = df_full.iloc[pat_indices]['dT']\n",
    "    mean_temp_per_pat = np.nanmean(Temp_per_slice)\n",
    "    std_temp_per_pat = np.nanmean(std_per_slice)\n",
    "    mean_temps.append(mean_temp_per_pat)\n",
    "    std_temps.append(std_temp_per_pat)\n",
    "mean_temp=np.nanmean(mean_temps)\n",
    "std_temp=np.nanmean(std_temps)\n",
    "\n",
    "fig,ax=plt.subplots(1,figsize=(3.42,3.42),tight_layout=True)\n",
    "healthy_pat_slices_csi=[]\n",
    "healthy_pat_mean_csi=[]\n",
    "for pat in x_ax:\n",
    "    pat_indices = np.squeeze(np.array(np.where(df_full.Patnum==pat),dtype=int))\n",
    "    mean_per_pat = np.nanmean(df_full.iloc[pat_indices]['Tmean'])\n",
    "    healthy_pat_slices_csi.append(df_full.iloc[pat_indices]['Tmean'].values)\n",
    "    healthy_pat_mean_csi.append(np.nanmean(df_full.iloc[pat_indices]['Tmean']))\n",
    "    std_per_pat = np.nanmean(df_full.iloc[pat_indices]['dT'])\n",
    "    ax.errorbar(pat,mean_per_pat,yerr=std_per_pat,fmt='-o',markersize=7,capsize=10,color='k',alpha=0.8)\n",
    "    \n",
    "import seaborn as sns\n",
    "def lin_fun(x,M,k):\n",
    "    return x*k+M\n",
    "coeff,pcov = curve_fit(lin_fun,x_ax,mean_temps)\n",
    "\n",
    "residuals = mean_temps - lin_fun(x_ax, *coeff)\n",
    "ss_res = np.sum(residuals**2)\n",
    "\n",
    "ss_tot = np.sum((mean_temps-np.mean(mean_temps))**2)\n",
    "\n",
    "r_squared = 1 - (ss_res / ss_tot)\n",
    "\n",
    "print(coeff,np.sqrt(np.diag(pcov)))\n",
    "ax.set_yticks([20,25,30,35,40,45])\n",
    "#ax.set_ylim([20,45])\n",
    "ax.set_xticks(range(9))\n",
    "ax.set_xlabel('Patient')\n",
    "ax.set_ylabel('Brain temperature [°C]')\n",
    "plt.savefig(publication_path+'CSI_healthy_patient_temperatures.png',dpi=300)"
   ]
  },
  {
   "cell_type": "markdown",
   "id": "b4f974ff-75a8-4a66-a9e9-ffafcc91002d",
   "metadata": {
    "tags": []
   },
   "source": [
    "# 3. Healthy volunteer slicespec data"
   ]
  },
  {
   "cell_type": "code",
   "execution_count": null,
   "id": "2f554822-5d38-45c6-b998-15759cca5fcf",
   "metadata": {
    "tags": []
   },
   "outputs": [],
   "source": [
    "basepath_utsw=os.path.join(os.path.abspath(os.path.join(basepath, os.pardir)),'SP_brain/Results')\n",
    "\n",
    "dataframe_utsw = pd.read_excel(basepath_utsw+'/SP_healthy_volunteers_final.xlsx')\n",
    "mean_per_patient_utsw=[]\n",
    "\n",
    "for id_value in dataframe_utsw['ScanNum'].unique():\n",
    "    subset = dataframe_utsw[dataframe_utsw['ScanNum'] == id_value]\n",
    "    mean_per_patient_utsw.append(np.mean(subset['T']))"
   ]
  },
  {
   "cell_type": "code",
   "execution_count": null,
   "id": "1ac6b360-5102-4eda-b469-6e8cbaafd3bd",
   "metadata": {
    "tags": []
   },
   "outputs": [],
   "source": [
    "dataframe_utsw.round(1).iloc[24:]"
   ]
  },
  {
   "cell_type": "code",
   "execution_count": null,
   "id": "3cf59147-40d6-4f2e-9b6c-93cc7a678547",
   "metadata": {
    "tags": []
   },
   "outputs": [],
   "source": [
    "plt.close('all')\n",
    "\n",
    "x_ax = (dataframe_utsw['ScanNum'].unique())\n",
    "\n",
    "mean_temps = []\n",
    "std_temps= []\n",
    "for pat in x_ax:\n",
    "    pat_indices = np.squeeze(np.array(np.where(dataframe_utsw.ScanNum==pat),dtype=int))\n",
    "    Temp_per_slice = dataframe_utsw.iloc[pat_indices]['T']\n",
    "    std_per_slice = dataframe_utsw.iloc[pat_indices]['dT']\n",
    "    mean_temp_per_pat = np.nanmean(Temp_per_slice)\n",
    "    std_temp_per_pat = np.nanmean(std_per_slice)\n",
    "    mean_temps.append(mean_temp_per_pat)\n",
    "    std_temps.append(std_temp_per_pat)\n",
    "mean_temp=np.nanmean(mean_temps)\n",
    "std_temp=np.nanmean(std_temps)\n",
    "\n",
    "fig,ax=plt.subplots(1,figsize=(3.42,3.42),tight_layout=True)\n",
    "healthy_pat_slices_utsw=[]\n",
    "healthy_pat_mean_utsw=[]\n",
    "for pat in x_ax:\n",
    "    pat_indices = np.squeeze(np.array(np.where(dataframe_utsw.ScanNum==pat),dtype=int))\n",
    "    mean_per_pat = np.nanmean(dataframe_utsw.iloc[pat_indices]['T'])\n",
    "    healthy_pat_slices_utsw.append(dataframe_utsw.iloc[pat_indices]['T'].values)\n",
    "    healthy_pat_mean_utsw.append(np.nanmean(dataframe_utsw.iloc[pat_indices]['T']))\n",
    "    std_per_pat = np.nanmean(dataframe_utsw.iloc[pat_indices]['dT'])\n",
    "    ax.errorbar(pat,mean_per_pat,yerr=std_per_pat,fmt='-o',markersize=7,capsize=10,color='k',alpha=0.8)\n",
    "    \n",
    "import seaborn as sns\n",
    "def lin_fun(x,M,k):\n",
    "    return x*k+M\n",
    "coeff,pcov = curve_fit(lin_fun,x_ax,mean_temps)\n",
    "\n",
    "residuals = mean_temps - lin_fun(x_ax, *coeff)\n",
    "ss_res = np.sum(residuals**2)\n",
    "\n",
    "ss_tot = np.sum((mean_temps-np.mean(mean_temps))**2)\n",
    "\n",
    "r_squared = 1 - (ss_res / ss_tot)\n",
    "\n",
    "\n",
    "#sns.regplot(x=x_ax,y=mean_temps,ci=95,ax=ax,scatter=False)\n",
    "#ax.hlines(mean_temp,0,8,linestyle='dashed',color='C3',label='Mean')\n",
    "print(coeff,np.sqrt(np.diag(pcov)))\n",
    "#ax.hlines(38.5,0,8,linestyle='dashed',color='C0',label='Literature value')\n",
    "\n",
    "#ax.hlines(mean_temp+std_temp,0,8,color='C2')\n",
    "#ax.hlines(mean_temp-std_temp,0,8,color='C2')\n",
    "\n",
    "ax.set_yticks([25,30,35,40])\n",
    "#ax.set_ylim([20,45])\n",
    "ax.set_xticks(range(7))\n",
    "ax.set_xlabel('Dataset')\n",
    "ax.set_ylabel('Brain temperature [°C]')\n",
    "plt.savefig(publication_path+'SP_healthy_patient_temperatures.png',dpi=300)"
   ]
  },
  {
   "cell_type": "code",
   "execution_count": null,
   "id": "bbece693-7cae-4dca-ae61-9d9f1c6d777c",
   "metadata": {
    "tags": []
   },
   "outputs": [],
   "source": [
    "healthy_brain_slicespec_all_temp_values=np.load(basepath_utsw+'/human_slicespec_healthy_brain_temp_values.npy')"
   ]
  },
  {
   "cell_type": "markdown",
   "id": "8c0fcec5-c429-4701-98ac-4a3ef4df173c",
   "metadata": {},
   "source": [
    "# 4. Kidney data"
   ]
  },
  {
   "cell_type": "code",
   "execution_count": null,
   "id": "cc5eb866-9098-4a3c-956b-12b542ca3d95",
   "metadata": {
    "tags": []
   },
   "outputs": [],
   "source": [
    "def load_dataframe(studyfolder,exam_num):\n",
    "    renalpath = os.path.join(os.path.abspath(os.path.join(basepath, os.pardir)),'RenalData/Results/')\n",
    "    path = renalpath+'MRE-'+studyfolder+'_'+str(exam_num)+'_results.xlsx'\n",
    "    df = pd.read_excel(path)\n",
    "    return df"
   ]
  },
  {
   "cell_type": "code",
   "execution_count": null,
   "id": "1676928d-cd4d-4ca6-8208-13a31abc9138",
   "metadata": {
    "tags": []
   },
   "outputs": [],
   "source": [
    "studyfolder_nums = ['','','','','','','','','','','','']\n",
    "dataframe_Renal=pd.DataFrame()\n",
    "c=0\n",
    "for studyfolder in studyfolder_nums:\n",
    "    if studyfolder in ['','']:\n",
    "        for exam_num in range(1,3):\n",
    "            df = load_dataframe(studyfolder,exam_num)\n",
    "            df['Unnamed: 0'] = np.ones(((df['slice'].max()+1)*(df['channel'].max()+1),1),dtype=int)*c\n",
    "            df = df.rename(columns={'Unnamed: 0':'ScanNum'})\n",
    "            c+=1\n",
    "            dataframe_Renal = pd.concat([dataframe_Renal,df])\n",
    "    else:\n",
    "        df = load_dataframe(studyfolder,exam_num=1)\n",
    "        df['Unnamed: 0'] = np.ones(((df['slice'].max()+1)*(df['channel'].max()+1),1),dtype=int)*c\n",
    "        df = df.rename(columns={'Unnamed: 0':'ScanNum'})\n",
    "        c+=1\n",
    "        dataframe_Renal = pd.concat([dataframe_Renal,df])\n"
   ]
  },
  {
   "cell_type": "code",
   "execution_count": null,
   "id": "87e30bb9-22bd-4af3-ad61-864216d70ab1",
   "metadata": {
    "tags": []
   },
   "outputs": [],
   "source": [
    "dataframe_Renal['ID','slice']"
   ]
  },
  {
   "cell_type": "code",
   "execution_count": null,
   "id": "6fd4f6c8-8ba6-4156-ac55-948af7e56c74",
   "metadata": {
    "tags": []
   },
   "outputs": [],
   "source": [
    "plt.close('all')\n",
    "\n",
    "x_ax = (dataframe_Renal['ScanNum'].unique())\n",
    "\n",
    "mean_temps = []\n",
    "std_temps= []\n",
    "num_values=[]\n",
    "error_of_mean_renal=[]\n",
    "for pat in x_ax:\n",
    "    pat_indices = np.squeeze(np.array(np.where(dataframe_Renal.ScanNum==pat),dtype=int))\n",
    "    Temp_per_slice = dataframe_Renal.iloc[pat_indices]['T']\n",
    "    num_value=dataframe_Renal.iloc[pat_indices]['nT']\n",
    "    std_per_slice = dataframe_Renal.iloc[pat_indices]['dT']\n",
    "    mean_temp_per_pat = np.nanmean(Temp_per_slice)\n",
    "    std_temp_per_pat = np.nanmean(std_per_slice)\n",
    "    num_values.append(np.nansum(num_value))\n",
    "    mean_temps.append(mean_temp_per_pat)\n",
    "    std_temps.append(std_temp_per_pat)\n",
    "\n",
    "    lst=dataframe_Renal.iloc[pat_indices]['dT']\n",
    "    foo = [x for x in lst if x != 0]\n",
    "\n",
    "mean_temp=np.nanmean(mean_temps)\n",
    "std_temp=np.nanmean(std_temps)\n",
    "non_nan_ids= x_ax[np.where(~np.isnan(mean_temps))[0]]\n",
    "mean_temps=np.array(mean_temps)\n",
    "std_temps=np.array(std_temps)\n",
    "mean_temps_nonnan_renal = mean_temps[~np.isnan(mean_temps)]\n",
    "std_temps_nonnan_renal = std_temps[~np.isnan(std_temps)]\n",
    "\n",
    "x_ax_non_nan_renal=np.array(range(0,non_nan_ids.shape[0]))\n",
    "fig,ax=plt.subplots(1,figsize=(3.42,3.42),tight_layout=True)\n",
    "ax.errorbar(x_ax_non_nan_renal,mean_temps_nonnan_renal,yerr=std_temps_nonnan_renal,fmt='o',markersize=7,capsize=10,color='k',alpha=0.8)\n",
    "ax.set_yticks([25,30,35,40])\n",
    "#ax.set_ylim([20,45])\n",
    "ax.set_xticks(range(non_nan_ids.shape[0]))\n",
    "ax.set_xlabel('Dataset')\n",
    "ax.set_ylabel('Kidney temperature [°C]')\n"
   ]
  },
  {
   "cell_type": "markdown",
   "id": "34540762-ad14-48f8-b965-732b388bf00d",
   "metadata": {},
   "source": [
    "\n",
    "# Compute error of the mean"
   ]
  },
  {
   "cell_type": "code",
   "execution_count": null,
   "id": "28b6c1e2-48ff-49d4-9bef-8ab421d9b690",
   "metadata": {
    "tags": []
   },
   "outputs": [],
   "source": [
    "fig,ax=plt.subplots(1,figsize=(3.42,3.42),tight_layout=True)\n",
    "\n",
    "gbm_x=np.arange(0,6,1)\n",
    "gbm_std_t=[]\n",
    "gbm_mean_t=[]\n",
    "for n in dataframe_GBM['ID'].unique():\n",
    "    idx=np.squeeze(np.array(np.where(dataframe_GBM.ID==n),dtype=int))\n",
    "    stds=dataframe_GBM.iloc[idx]['dT']\n",
    "    try:\n",
    "        std_of_mean=np.sqrt(np.sum(stds**2)) / len(stds)\n",
    "    except:\n",
    "        std_of_mean=stds\n",
    "    mean=np.nanmean(dataframe_GBM.iloc[idx]['T'])\n",
    "    gbm_std_t.append(std_of_mean)\n",
    "    gbm_mean_t.append(mean)\n",
    "    \n",
    "ax.errorbar(gbm_x,gbm_mean_t,color='r',yerr=gbm_std_t,capsize=5,fmt='o',markersize=5,label='GBM')\n",
    "print('GBM, STD per slice',gbm_std_t)\n",
    "\n",
    "x_ax_csi = (df_full['Patnum'].unique())\n",
    "for pat in x_ax_csi:\n",
    "    pat_indices = np.squeeze(np.array(np.where(df_full.Patnum==pat),dtype=int))\n",
    "    mean_per_pat = np.nanmean(df_full.iloc[pat_indices]['Tmean'])\n",
    "    std_of_mean=np.sqrt(np.sum(df_full.iloc[pat_indices]['dT']**2)) / len(df_full.iloc[pat_indices]['dT'])\n",
    "    ax.errorbar(pat+6,mean_per_pat,yerr=std_of_mean,fmt='-o',markersize=5,capsize=5,color='k',label='Healthy brain (CSI)')\n",
    "\n",
    "    print('Healthy CSI, STD per slice',std_of_mean)\n",
    "    \n",
    "    \n",
    "x_ax_utsw = (dataframe_utsw['ScanNum'].unique())\n",
    "for pat in x_ax_utsw:\n",
    "    pat_indices = np.squeeze(np.array(np.where(dataframe_utsw.ScanNum==pat),dtype=int))\n",
    "    mean_per_pat = np.nanmean(dataframe_utsw.iloc[pat_indices]['T'])\n",
    "    std_per_pat = np.sqrt(np.sum(dataframe_utsw.iloc[pat_indices]['dT']**2)) / len(dataframe_utsw.iloc[pat_indices]['dT'])\n",
    "    ax.errorbar(pat+16,mean_per_pat,yerr=std_per_pat,fmt='-o',markersize=5,capsize=5,color='C0',label='Healthy brain (slicespec)')\n",
    "\n",
    "    print('Healthy SP, STD per slice',std_per_pat)\n",
    "    \n",
    "ax.errorbar(x_ax_non_nan_renal+23,mean_temps_nonnan_renal,yerr=std_temps_nonnan_renal,fmt='o',markersize=5,capsize=5,color='C1',label='Renal')\n",
    "\n",
    "print('Healthy Kidney, STD per slice',std_temps_nonnan_renal)\n",
    "ax.legend()\n",
    "\n",
    "\n",
    "\n",
    "\n",
    "handles, labels = ax.get_legend_handles_labels()\n",
    "unique = dict()\n",
    "for handle, label in zip(handles, labels):\n",
    "    if label not in unique:\n",
    "        unique[label] = handle\n",
    "ax.legend(unique.values(), unique.keys(),ncol=1,prop={'size':9})\n",
    "\n",
    "ax.set_xlabel('Dataset')\n",
    "ax.set_yticks([25,30,35,40])\n",
    "ax.set_ylabel(r'T$[^\\circ C]$')\n",
    "\n"
   ]
  },
  {
   "cell_type": "markdown",
   "id": "c6b80cf1-723d-4886-9bf0-9b7cd615196d",
   "metadata": {},
   "source": [
    "# Final"
   ]
  },
  {
   "cell_type": "code",
   "execution_count": null,
   "id": "310b7740-078a-4440-a02f-490a1511da95",
   "metadata": {
    "tags": []
   },
   "outputs": [],
   "source": [
    "def fit_aucr_vs_temp(ax,aucr,temp,color):\n",
    "    def lin_fun(x,M,k):\n",
    "        return x*k+M\n",
    "    coeff,pcov = curve_fit(lin_fun,aucr,temp)\n",
    "    residuals = temp - lin_fun(aucr, *coeff)\n",
    "    ss_res = np.sum(residuals**2)\n",
    "    ss_tot = np.sum((temp-np.mean(temp))**2)\n",
    "    r_squared = 1 - (ss_res / ss_tot)\n",
    "    print('intercept,slope:',coeff,'dslope,dintercept',np.sqrt(np.diag(pcov)))\n",
    "    print('R2',r_squared)\n",
    "    import seaborn as sns\n",
    "    sns.regplot(x=aucr,y=temp,ci=90,ax=ax,scatter=False,color=color)\n",
    "    "
   ]
  },
  {
   "cell_type": "code",
   "execution_count": null,
   "id": "1621bcc5-e202-46a9-a5e7-a576cea3d2f0",
   "metadata": {
    "tags": []
   },
   "outputs": [],
   "source": [
    "plt.close('all')\n",
    "fig, ax = plt.subplots(2,1, figsize=(3.42,7),tight_layout=True)\n",
    "\n",
    "add_points=True\n",
    "\n",
    "fit_aucr_vs_temp(ax[0],dataframe_GBM['AUCR'],dataframe_GBM['T'],color='C0')\n",
    "ax[0].errorbar(no_tumor_slice_df_gbm['AUCR'],no_tumor_slice_df_gbm['T'],color='k',yerr=no_tumor_slice_df_gbm['dT'],xerr=no_tumor_slice_df_gbm['dAUCR'],capsize=5,fmt='o',label='No tumor')\n",
    "ax[0].errorbar(tumor_slice_df_gbm['AUCR'],tumor_slice_df_gbm['T'],color='r',yerr=tumor_slice_df_gbm['dT'],xerr=tumor_slice_df_gbm['dAUCR'],capsize=5,fmt='o',label='tumor')\n",
    "ax[0].legend()\n",
    "\n",
    "\n",
    "ax[0].set_xlabel('AUCR')\n",
    "ax[0].set_ylabel('T [$^\\circ$ C]')\n",
    "\n",
    "\n",
    "\n",
    "\n",
    "# Plot the second subplot with boxplot\n",
    "healthy_pat_raveld=np.ravel(np.array(healthy_pat_mean_csi))\n",
    "healthy_pat_raveld = [x for x in healthy_pat_raveld if not math.isnan(x)]\n",
    "ax[1].boxplot(healthy_pat_raveld, positions=[1], widths=0.5, medianprops=dict(color=\"red\"))\n",
    "\n",
    "ax[1].boxplot(mean_per_patient_utsw, positions=[2], widths=0.5, medianprops=dict(color=\"red\"))\n",
    "\n",
    "ax[1].boxplot(mean_temps_nonnan_renal,positions=[3],widths=0.5,medianprops=dict(color=\"red\"))\n",
    "\n",
    "# Plot the boxplot for black points\n",
    "ax[1].boxplot([no_tumor_slice_df_gbm['T']], positions=[4], widths=0.5,  medianprops=dict(color=\"red\"))\n",
    "\n",
    "ax[1].boxplot([tumor_slice_df_gbm['T']], positions=[5], widths=0.5,  medianprops=dict(color=\"red\"))\n",
    "\n",
    "\n",
    "if add_points == True:\n",
    "    x_positions = np.ones(len(healthy_pat_raveld))  # All points align with the boxplot's x position\n",
    "    ax[1].scatter(x_positions, healthy_pat_raveld,  facecolors='none',ec='k',zorder=2)\n",
    "    x_positions = np.ones(len(mean_per_patient_utsw))+1  # All points align with the boxplot's x position\n",
    "    ax[1].scatter(x_positions, mean_per_patient_utsw, facecolors='none',ec='k', zorder=2)\n",
    "    x_positions = np.ones(len(mean_temps_nonnan_renal))+2  # All points align with the boxplot's x position\n",
    "    ax[1].scatter(x_positions, mean_temps_nonnan_renal, facecolors='none',ec='k', zorder=2)\n",
    "    \n",
    "    x_positions = np.ones(len(no_tumor_slice_df_gbm['T']))+3  # All points align with the boxplot's x position\n",
    "    ax[1].scatter(x_positions, no_tumor_slice_df_gbm['T'], facecolors='none',ec='k', zorder=2)\n",
    "    x_positions = np.ones(len(tumor_slice_df_gbm['T']))+4  # All points align with the boxplot's x position\n",
    "    ax[1].scatter(x_positions, tumor_slice_df_gbm['T'], facecolors='none',ec='k', zorder=2)\n",
    "\n",
    "\n",
    "ax[1].set_xticks(range(1,6), [str(key) for key in ['Healthy CSI','Healthy SliceSpec','Healthy Kidney','GBM (no tumor)','GBM']],rotation=90)\n",
    "ax[1].set_ylim([24,42])\n",
    "ax[0].set_ylim([24,42])\n",
    "\n",
    "ax[1].set_yticks([25,30,35,40])\n",
    "ax[1].set_ylabel('T[$^\\circ$C]')\n",
    "\n",
    "\n",
    "print('GBM: AUCR vs Temp:',scipy.stats.ttest_ind(dataframe_GBM['AUCR'],dataframe_GBM['T']))\n",
    "print('GBM tumor vs non tumor GBM slices',scipy.stats.ttest_ind(no_tumor_slice_df_gbm['T'],tumor_slice_df_gbm['T']).pvalue.round(3))\n",
    "print('Slice spec kidney vs GBM all slices',scipy.stats.ttest_ind(mean_temps_nonnan_renal,dataframe_GBM['T']).pvalue.round(3))\n",
    "print('Slice spec brain vs GBM all slices',scipy.stats.ttest_ind(mean_per_patient_utsw,dataframe_GBM['T']).pvalue.round(3))\n",
    "print('CSI brain, GBM all slices',scipy.stats.ttest_ind(healthy_pat_raveld,dataframe_GBM['T']).pvalue.round(3))\n",
    "\n",
    "print('------')\n",
    "print('Slice spec kidney vs GBM tumor slices',scipy.stats.ttest_ind(mean_temps_nonnan_renal,tumor_slice_df_gbm['T']).pvalue.round(3))\n",
    "print('Slice spec brain vs GBM tumor slices',scipy.stats.ttest_ind(mean_per_patient_utsw,tumor_slice_df_gbm['T']).pvalue.round(3))\n",
    "print('CSI brain, GBM tumor slices',scipy.stats.ttest_ind(healthy_pat_raveld,tumor_slice_df_gbm['T']).pvalue.round(3))\n",
    "\n",
    "\n",
    "print('------')\n",
    "print('Slice spec kidney vs GBM non tumor slices',scipy.stats.ttest_ind(mean_temps_nonnan_renal,no_tumor_slice_df_gbm['T']).pvalue.round(3))\n",
    "print('Slice spec brain vs GBM non tumor slices',scipy.stats.ttest_ind(mean_per_patient_utsw,no_tumor_slice_df_gbm['T']).pvalue.round(3))\n",
    "print('CSI brain, GBM non tumor slices',scipy.stats.ttest_ind(healthy_pat_raveld,no_tumor_slice_df_gbm['T']).pvalue.round(3))\n",
    "\n",
    "\n",
    "\n"
   ]
  },
  {
   "cell_type": "code",
   "execution_count": null,
   "id": "e76495cb-b976-4b3d-942a-9219a6258904",
   "metadata": {
    "tags": []
   },
   "outputs": [],
   "source": [
    "print('Healthy slice spec',np.round(np.mean(mean_per_patient_utsw),1),'±',np.round(np.std(mean_per_patient_utsw),1))\n",
    "print('GBM',np.round(np.nanmean(dataframe_GBM['T']),1),'±',np.round(np.nanstd(dataframe_GBM['T']),1))\n",
    "print('Healthy CSI',np.round(np.nanmean(healthy_pat_raveld),1),'±',np.round(np.nanstd(healthy_pat_raveld),1))\n",
    "print('Healthy Kidney',np.round(np.nanmean(mean_temps_nonnan_renal),1),'±',np.round(np.nanstd(mean_temps_nonnan_renal),1))"
   ]
  }
 ],
 "metadata": {
  "kernelspec": {
   "display_name": "Python 3 (ipykernel)",
   "language": "python",
   "name": "python3"
  },
  "language_info": {
   "codemirror_mode": {
    "name": "ipython",
    "version": 3
   },
   "file_extension": ".py",
   "mimetype": "text/x-python",
   "name": "python",
   "nbconvert_exporter": "python",
   "pygments_lexer": "ipython3",
   "version": "3.10.10"
  }
 },
 "nbformat": 4,
 "nbformat_minor": 5
}
