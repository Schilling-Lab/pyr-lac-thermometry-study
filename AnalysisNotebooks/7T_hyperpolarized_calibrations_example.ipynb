{
 "cells": [
  {
   "cell_type": "markdown",
   "id": "eaa3f130-d679-489d-8cf0-5d062f3a76b8",
   "metadata": {},
   "source": [
    "# Data Analysis of Blood Lactate Pyruvate calibration measurements"
   ]
  },
  {
   "cell_type": "code",
   "execution_count": null,
   "id": "ffbdbe1e-7a73-4a66-b918-9267d20c3388",
   "metadata": {
    "tags": []
   },
   "outputs": [],
   "source": [
    "import numpy as np\n",
    "import matplotlib.pyplot as plt\n",
    "from matplotlib.patches import Rectangle\n",
    "import matplotlib\n",
    "matplotlib.rcParams.update({'font.size': 12,'font.family':'serif','font.serif':['Computer Modern'],\"text.usetex\" : True,})\n",
    "\n",
    "import ipywidgets as widgets\n",
    "import datetime\n",
    "import pandas as pd\n",
    "from tqdm.auto import tqdm\n",
    "import os\n",
    "import nmrglue\n",
    "import hypermri\n",
    "import hypermri.utils.utils_anatomical as ut_anat\n",
    "import hypermri.utils.utils_spectroscopy as ut_spec\n",
    "import hypermri.utils.utils_fitting as ut_fitting\n",
    "from scipy.optimize import curve_fit\n",
    "from matplotlib import cm\n",
    "from astropy.modeling import models, fitting\n",
    "\n",
    "from matplotlib.ticker import (MultipleLocator, FormatStrFormatter,\n",
    "                               AutoMinorLocator)\n",
    "import matplotlib.dates as mdates\n",
    "    \n",
    "import sys\n",
    "# define paths:\n",
    "sys.path.append('../../')\n",
    "import TEMPLATE\n",
    "# get paths:\n",
    "repopath, basepath, savepath = TEMPLATE.import_all_packages()\n",
    "\n",
    "# Autoreload extension so that you dont have to reload the kernel every time something is changed in the hypermri or magritek folders\n",
    "%load_ext autoreload\n",
    "%autoreload 2\n",
    "\n",
    "%matplotlib widget\n",
    "\n",
    "\n",
    "def avg_temp(temp_array,window_size=5):\n",
    "    i = 0\n",
    "    multi_sec_avg = []\n",
    "    while i < len(temp_array) - window_size + 1:\n",
    "        window_average = round(np.sum(temp_array[i:i+window_size]) / window_size, 2)\n",
    "        multi_sec_avg.append(window_average)\n",
    "        i += 1\n",
    "    return multi_sec_avg\n"
   ]
  },
  {
   "cell_type": "markdown",
   "id": "3c5d8524-88d2-43ae-baee-73bf770beaf1",
   "metadata": {
    "tags": []
   },
   "source": [
    "### Import fitting functions"
   ]
  },
  {
   "cell_type": "code",
   "execution_count": null,
   "id": "76232df0-27d2-44b7-acc8-2c5cfa19808e",
   "metadata": {
    "tags": []
   },
   "outputs": [],
   "source": [
    "from hypermri.utils.utils_spectroscopy import find_npeaks as ut_find_npeaks\n",
    "from hypermri.utils.utils_fitting import temperature_from_frequency"
   ]
  },
  {
   "cell_type": "markdown",
   "id": "5fef7961-9f24-48a6-8fc3-ac1ddc2ca499",
   "metadata": {},
   "source": [
    "# 1. Defining Paths to data and loading temperature data"
   ]
  },
  {
   "cell_type": "code",
   "execution_count": null,
   "id": "6df4b988-90b3-4548-8270-a6323ac5f82f",
   "metadata": {
    "tags": []
   },
   "outputs": [],
   "source": [
    "dirpath1 = os.path.join(basepath, '')\n",
    "dirpath2= os.path.join(basepath, '')"
   ]
  },
  {
   "cell_type": "code",
   "execution_count": null,
   "id": "7f6b21f4-8c10-4dc2-bcd2-ede39b6642c3",
   "metadata": {
    "tags": []
   },
   "outputs": [],
   "source": [
    "temp_1 = hypermri.utils.utils_general.load_pc_sam_temp_file(dirpath1+'/.txt','',(2*3600)+8,False)\n",
    "temp_2 = hypermri.utils.utils_general.load_pc_sam_temp_file(dirpath2+'/.txt','',3608,False)"
   ]
  },
  {
   "cell_type": "markdown",
   "id": "ecf62d2f-9008-4af5-bcbd-593f79b6ab40",
   "metadata": {},
   "source": [
    "# 2. Load bruker data and select scans"
   ]
  },
  {
   "cell_type": "code",
   "execution_count": null,
   "id": "d20482cd-66e7-4d65-b27f-6eefedcce561",
   "metadata": {
    "tags": []
   },
   "outputs": [],
   "source": [
    "scans1 = hypermri.BrukerDir(dirpath1,verbose=False,keywords=['PVM_NRepetitions','PVM_ScanTime'])\n",
    "scans2 = hypermri.BrukerDir(dirpath2,verbose=False,keywords=['PVM_NRepetitions','PVM_ScanTime'])"
   ]
  },
  {
   "cell_type": "code",
   "execution_count": null,
   "id": "f89b3496-0c80-4f64-8d71-cd0a5912c952",
   "metadata": {
    "tags": []
   },
   "outputs": [],
   "source": [
    "exp_1=scans1[5]\n",
    "\n",
    "exp_2=scans2[6]\n",
    "exp_3=scans2[7]\n",
    "exp_4=scans2[8]\n",
    "exp_5=scans2[9]\n",
    "\n",
    "exp_list1 = [exp_1]\n",
    "exp_list2=[exp_2,exp_3,exp_4,exp_5]\n",
    "\n"
   ]
  },
  {
   "cell_type": "markdown",
   "id": "3040ab9d-3d47-4227-9d7c-4b7f12759dff",
   "metadata": {},
   "source": [
    "### Quick look at scans to find the reps that have sufficient lactate and pyruvate signal strengths"
   ]
  },
  {
   "cell_type": "code",
   "execution_count": null,
   "id": "c2372442-a8db-4387-be21-f177c58c3717",
   "metadata": {
    "tags": []
   },
   "outputs": [],
   "source": [
    "hyper = exp_2\n",
    "\n",
    "print(datetime.datetime.strptime(hyper.acqp['ACQ_time'][1:11]+'/'+hyper.acqp['ACQ_time'][12:20],\n",
    "                                                            '%Y-%m-%d/%H:%M:%S'))\n",
    "\n",
    "fig,ax=plt.subplots(1)\n",
    "@widgets.interact(rep=(0,350-1,1))\n",
    "def update(rep=0):\n",
    "    ax.cla()\n",
    "    ax.plot(hyper.ppm,hyper.spec[rep,:])"
   ]
  },
  {
   "cell_type": "markdown",
   "id": "68378b82-bdbf-4256-ba38-fe1a0d2fdcb8",
   "metadata": {},
   "source": [
    "# 3. Secondary input data regarding samples"
   ]
  },
  {
   "cell_type": "code",
   "execution_count": null,
   "id": "fecd013f-1601-4a13-91dd-e5177c03ab96",
   "metadata": {
    "tags": []
   },
   "outputs": [],
   "source": [
    "# enzyme solution pH after measurement\n",
    "sample_pH = [6.75,7.27,6.97,7.04,6.95]\n",
    "\n",
    "sig_1 = range(66,86)\n",
    "sig_2 = range(46,82)\n",
    "sig_3=range(47,71)\n",
    "sig_4=range(50,65)\n",
    "sig_5=range(56,71)\n",
    "\n",
    "\n",
    "signal_reps1 = [sig_1]\n",
    "signal_reps2=[sig_2,sig_3,sig_4,sig_5]"
   ]
  },
  {
   "cell_type": "code",
   "execution_count": null,
   "id": "16208aaa-82cd-442f-9596-b6ad6183099e",
   "metadata": {
    "tags": []
   },
   "outputs": [],
   "source": [
    "np.mean(sample_pH),np.std(sample_pH),len(sample_pH)"
   ]
  },
  {
   "cell_type": "markdown",
   "id": "654634e6-27a8-41ab-a230-70541bb20ff9",
   "metadata": {},
   "source": [
    "# 4. Define Fitting Functions"
   ]
  },
  {
   "cell_type": "code",
   "execution_count": null,
   "id": "62d613c3-e967-4296-8089-3a1a6d0ce75b",
   "metadata": {
    "tags": []
   },
   "outputs": [],
   "source": [
    "def fit_experiment_list_to_temperature(experiment_list,signal_list,temperature_dataframe,plot_exp=0):\n",
    "    fit_spectrums_all = []\n",
    "    fit_amps_all = []\n",
    "    fit_freqs_all = []\n",
    "    fit_t2s_all = []\n",
    "    raw_spectral_data = []\n",
    "    fit_freqs_all_ppm=[]\n",
    "    for index,exp_num in enumerate(tqdm(experiment_list,desc='Fitting experiments')):\n",
    "        experiment = experiment_list[index]\n",
    "        # select the repetitions which have sufficient signal\n",
    "        repetitions_to_fit = signal_list[index]\n",
    "\n",
    "        metabs = ['pyruvate','lactate','hydrate']\n",
    "\n",
    "        fit_params = {}\n",
    "\n",
    "        fit_params[\"zoomfactor\"] = 1.5\n",
    "        fit_params[\"max_t2_s\"] = 1\n",
    "        fit_params[\"min_t2_s\"] = 0.0\n",
    "        fit_params[\"range_t2s_s\"] = 0.2\n",
    "\n",
    "        # get the indices of the peaks:\n",
    "        fit_params[\"metabs\"] = metabs\n",
    "        fit_params[\"fit_range_repetitions\"] = repetitions_to_fit\n",
    "        fit_params[\"range_freqs_Hz\"] = 100\n",
    "        fit_params[\"cut_off\"] = 70\n",
    "        fit_params[\"niter\"] = 1 # number of iterations:\n",
    "        fit_params[\"npoints\"] = 21 # number of tested points per iteration:\n",
    "        fit_params[\"rep_fitting\"] = 11 # number of tested points per iteration:\n",
    "        fit_params[\"provided_dims\"] = [\"reps\", \"fid\"]\n",
    "        fit_params[\"use_all_cores\"] = True\n",
    "\n",
    "        fit_params = ut_fitting.def_fit_params(fit_params=fit_params, data_obj=experiment)\n",
    "\n",
    "\n",
    "        # get the indices of the peaks:\n",
    "        # get the indices of the peaks:\n",
    "        peak_indices = ut_spec.find_npeaks(input_data=np.abs(np.fft.fftshift(np.fft.fft(np.fft.ifft(np.fft.ifftshift(experiment.complex_spec[repetitions_to_fit[0],:]))[fit_params[\"cut_off\"]::]))),\n",
    "                                      freq_range=fit_params['freq_range_ppm'],\n",
    "                                      npeaks=len(metabs),\n",
    "                                      find_peaks_params={'distance': 200},\n",
    "                                           plot=False)\n",
    "        # diff literature and measured:\n",
    "\n",
    "        fit_params[\"metabs_freqs_ppm\"] = fit_params[\"freq_range_ppm\"][peak_indices]\n",
    "            #overwrite the peak values since the hydrate peak is not found for some reason\n",
    "        fit_params[\"metabs_freqs_ppm\"] = [161.6,174.3,170.8]\n",
    "        fit_params[\"metabs_freqs_Hz\"] = [None, None, None]\n",
    "\n",
    "        fit_params[\"niter\"] = 1 # number of iterations:\n",
    "        fit_params[\"npoints\"] = 21 # number of tested points per iteration:\n",
    "        fit_params[\"rep_fitting\"] = 11 # number of tested points per iteration:\n",
    "\n",
    "        fit_params[\"provided_dims\"] = [\"reps\", \"fid\"]\n",
    "        fit_params[\"use_all_cores\"] = True\n",
    "\n",
    "        fit_params = ut_fitting.def_fit_params(fit_params=fit_params, data_obj=experiment)\n",
    "\n",
    "        fit_spectrums, fit_amps, fit_freqs, fit_t2s, _  = ut_fitting.fit_data_pseudo_inv(input_data=experiment.complex_spec,\n",
    "                                                                                     data_obj=experiment,\n",
    "                                                                          fit_params=fit_params,\n",
    "                                                                      use_multiprocessing=True)\n",
    "\n",
    "        fit_freqs_ppm = ut_spec.freq_Hz_to_ppm(freq_Hz=np.squeeze(fit_freqs), hz_axis=fit_params[\"freq_range_Hz\"], ppm_axis=fit_params[\"freq_range_ppm\"], ppm_axis_flipped=False)\n",
    "        fit_spectrums_all.append(fit_spectrums)\n",
    "        fit_amps_all.append(fit_amps)\n",
    "        fit_freqs_all.append(fit_freqs)\n",
    "        fit_t2s_all.append(fit_t2s)\n",
    "        fit_freqs_all_ppm.append(fit_freqs_ppm)\n",
    "    \n",
    "    \n",
    "\n",
    "    # correlate that to temperature\n",
    "    # make the final dataframe into which all data will be saved\n",
    "    final_output_dataframe = pd.DataFrame(columns=['Time','EpochTime','Temperature','Pyruvate','Lactate'])\n",
    "\n",
    "    final_output_dataframe['Time']=temperature_dataframe['Time']\n",
    "    final_output_dataframe['Temperature']=temperature_dataframe['Temperature']\n",
    "    final_output_dataframe['EpochTime']=temperature_dataframe['EpochTime']\n",
    "\n",
    "\n",
    "    # use np array to intialize where we will save the peak positions to\n",
    "    # 5 columns for (EpochTime(s), Temperature [°C], urea_peak_position [Hz],pyruvate_peak_positon[Hz],lactate_peak_positon[Hz], pyruvate hydrate peak pos [Hz], urea reaction peak pos [Hz])\n",
    "\n",
    "    output = np.zeros((7,len(temperature_dataframe['EpochTime'])))*np.nan\n",
    "    output[0]=temperature_dataframe['EpochTime']\n",
    "    output[1]=temperature_dataframe['Temperature']\n",
    "\n",
    "    for experiment_number in range(len(experiment_list)):\n",
    "        current_scan = experiment_list[experiment_number]\n",
    "        nr = signal_list[experiment_number]\n",
    "        TR = current_scan.method['PVM_RepetitionTime']/1000\n",
    "        seq_start_time = current_scan.acqp['ACQ_time'][1:20]\n",
    "        # convert this to seconds since January 1 1970 for easier comparison since hours, minutes and seconds are not ideal\n",
    "        seq_start_time_seconds = datetime.datetime.strptime(current_scan.acqp['ACQ_time'][1:11]+'/'+current_scan.acqp['ACQ_time'][12:20],\n",
    "                                                                '%Y-%m-%d/%H:%M:%S').timestamp()\n",
    "        spec_points = current_scan.method['PVM_SpecMatrix']\n",
    "        #print('Sequence start unix time',seq_start_time_seconds)\n",
    "        for rep_idx,repetition in enumerate(nr):\n",
    "            current_rep_time = seq_start_time_seconds+repetition*TR\n",
    "            current_time_index = np.argmin(np.abs(final_output_dataframe['EpochTime']-current_rep_time))\n",
    "            #print('Temp frame time',final_output_dataframe1['EpochTime'].loc[current_time_index])\n",
    "            current_frequencies = fit_freqs_all[experiment_number][0,0,0,0,repetition,0,:]\n",
    "            current_frequencies_ppm = np.array(fit_freqs_all_ppm[experiment_number])[repetition,:]\n",
    "            output[2,current_time_index] = current_frequencies[0]# pyruvate\n",
    "            output[3,current_time_index] = current_frequencies[1]# lactate\n",
    "            output[4,current_time_index]=current_frequencies_ppm[0]#pyruvate\n",
    "            output[5,current_time_index]=current_frequencies_ppm[1]#pyruvate\n",
    "            \n",
    "        final_output_dataframe['Pyruvate']=output[2]\n",
    "        final_output_dataframe['Lactate']=output[3]\n",
    "        final_output_dataframe['Pyruvate_ppm']=output[4]\n",
    "        final_output_dataframe['Lactate_ppm']=output[5]\n",
    "        \n",
    "        final_output_dataframe['PyrLacDiff']=np.abs(output[2]-output[3])\n",
    "        final_output_dataframe['PyrLacDiff_ppm']=np.abs(output[4]-output[5])\n",
    "\n",
    "    return final_output_dataframe,fit_freqs_all,fit_spectrums_all,fit_params,fit_freqs_all_ppm\n",
    "\n",
    "def plot_fit_results(fit_spectrums_all,fit_freqs_all,signal_list,experiment_list,fit_params,plot_exp=0):\n",
    "    ppm=ut_spec.get_freq_axis(experiment_list[plot_exp],cut_off=fit_params['cut_off'])\n",
    "    fig,ax=plt.subplots(1)      \n",
    "    \n",
    "    @widgets.interact(rep = (signal_list[plot_exp][0],signal_list[plot_exp][-1],1))\n",
    "    def update(rep=signal_list[plot_exp][0]):\n",
    "        ax.cla()\n",
    "        ax.plot(ppm,np.real(np.sum(np.squeeze(fit_spectrums_all[plot_exp])[:,rep,:],axis=1)))\n",
    "        ax.plot(ppm,np.real(np.fft.fftshift(np.fft.fft(experiment_list[plot_exp].fids[rep,:][fit_params[\"cut_off\"]::]))),c='k',alpha=0.3)\n",
    "        ax.set_title((np.squeeze(fit_freqs_all[plot_exp])[rep,0])-np.squeeze(fit_freqs_all[plot_exp])[rep,1])\n"
   ]
  },
  {
   "cell_type": "markdown",
   "id": "0f595ab2-3ce1-4b6a-94dc-8ad90bad6a4c",
   "metadata": {
    "tags": []
   },
   "source": [
    "### Fit all spectra from all experiments"
   ]
  },
  {
   "cell_type": "code",
   "execution_count": null,
   "id": "913357f0-59d7-4659-9af8-bab9cd31bf45",
   "metadata": {
    "tags": []
   },
   "outputs": [],
   "source": [
    "final_output_dataframe1,fit_freqs_1_all,fit_spectrums_1_all,fit_params_1,fit_freqs_1_all_ppm = fit_experiment_list_to_temperature(exp_list1,signal_reps1,temp_1)"
   ]
  },
  {
   "cell_type": "markdown",
   "id": "5384e005-9c2d-4e5d-afb4-d19a03bd648f",
   "metadata": {
    "tags": []
   },
   "source": [
    "### Check if fits worked"
   ]
  },
  {
   "cell_type": "code",
   "execution_count": null,
   "id": "f65f1891-dd53-48a0-9ba3-7da9bf8938c7",
   "metadata": {
    "tags": []
   },
   "outputs": [],
   "source": [
    "plot_fit_results(fit_spectrums_1_all,fit_freqs_1_all,signal_reps1,exp_list1,fit_params_1,0)"
   ]
  },
  {
   "cell_type": "markdown",
   "id": "8492e5e2-89a9-4f53-9070-625fd1a304f4",
   "metadata": {},
   "source": [
    "## Second round of experiments"
   ]
  },
  {
   "cell_type": "code",
   "execution_count": null,
   "id": "4e835cdb-49e5-49c2-be4a-c7a4bc03e7b8",
   "metadata": {
    "tags": []
   },
   "outputs": [],
   "source": [
    "final_output_dataframe2,fit_freqs_2_all,fit_spectrums_2_all,fit_params_2,fit_freqs_2_all_ppm = fit_experiment_list_to_temperature(exp_list2,signal_reps2,temp_2)"
   ]
  },
  {
   "cell_type": "code",
   "execution_count": null,
   "id": "b927309a-fe50-46cb-99d0-5ab83b3aa2bd",
   "metadata": {
    "tags": []
   },
   "outputs": [],
   "source": [
    "plot_fit_results(fit_spectrums_2_all,fit_freqs_2_all,signal_reps2,exp_list2,fit_params_2,2)"
   ]
  },
  {
   "cell_type": "markdown",
   "id": "a5a8f652-2e92-49c5-9245-9e46a88d357b",
   "metadata": {},
   "source": [
    "### Check results"
   ]
  },
  {
   "cell_type": "code",
   "execution_count": null,
   "id": "0990b0c5-0933-4934-9acf-6595486370e8",
   "metadata": {
    "tags": []
   },
   "outputs": [],
   "source": [
    "plt.close('all')\n",
    "final_output_dataframe2.plot.scatter('Temperature','PyrLacDiff')"
   ]
  },
  {
   "cell_type": "markdown",
   "id": "aad4411c-af7f-445a-afe0-2dc86457ad5a",
   "metadata": {},
   "source": [
    "# 5. Combine the dataframes from the two experiments"
   ]
  },
  {
   "cell_type": "code",
   "execution_count": null,
   "id": "8476f9cd-5a87-4417-802a-dc329ba68ed7",
   "metadata": {
    "tags": []
   },
   "outputs": [],
   "source": [
    "idx_both1 = np.array(final_output_dataframe1['PyrLacDiff'].notna())\n",
    "temps = np.array(final_output_dataframe1['Temperature'].iloc[idx_both1])\n",
    "\n",
    "frequencies = np.array(final_output_dataframe1['PyrLacDiff'].iloc[idx_both1])\n",
    "pyr_frq1 = np.array(final_output_dataframe1['Pyruvate'].iloc[idx_both1])\n",
    "lac_frq1 = np.array(final_output_dataframe1['Lactate'].iloc[idx_both1])\n",
    "frequencies_ppm = np.array(final_output_dataframe1['PyrLacDiff_ppm'].iloc[idx_both1])\n",
    "\n",
    "\n",
    "idx_both2 = np.array(final_output_dataframe2['PyrLacDiff'].notna())\n",
    "temps2 = np.array(final_output_dataframe2['Temperature'].iloc[idx_both2])\n",
    "\n",
    "frequencies2 = np.array(final_output_dataframe2['PyrLacDiff'].dropna())\n",
    "pyr_frq2 = np.array(final_output_dataframe2['Pyruvate'].iloc[idx_both2])\n",
    "lac_frq2 = np.array(final_output_dataframe2['Lactate'].iloc[idx_both2])\n",
    "frequencies_ppm2 = np.array(final_output_dataframe2['PyrLacDiff_ppm'].iloc[idx_both2])\n",
    "\n",
    "\n",
    "\n",
    "combined_df = pd.DataFrame({'Temperature':np.concatenate((temps,temps2)),'Frequency':np.concatenate((frequencies,frequencies2)),\n",
    "                           'Pyruvate':np.concatenate((pyr_frq1,pyr_frq2)),'Lactate':np.concatenate((lac_frq1,lac_frq2)),\n",
    "                           'Frequency_ppm':np.concatenate((frequencies_ppm,frequencies_ppm2))})\n",
    "combined_df"
   ]
  },
  {
   "cell_type": "markdown",
   "id": "c4fbff2c-f771-4e79-b768-040cf0fee01e",
   "metadata": {},
   "source": [
    "# 6. Plot results"
   ]
  },
  {
   "cell_type": "code",
   "execution_count": null,
   "id": "4a1fe770-397c-451d-bded-1c0c2946ba06",
   "metadata": {
    "tags": []
   },
   "outputs": [],
   "source": [
    "fig,ax=plt.subplots(1,3,figsize=(10,3),tight_layout=True)\n",
    "window=2\n",
    "temp_change = np.gradient(avg_temp(combined_df['Temperature'],window))\n",
    "\n",
    "im=ax[0].scatter(combined_df['Temperature'][:-window+1],combined_df['Pyruvate'][:-window+1],\n",
    "              c=temp_change,cmap='coolwarm',s=8\n",
    "             ,vmin=-0.01,vmax=0.01)\n",
    "\n",
    "im2=ax[1].scatter(combined_df['Temperature'][:-window+1],combined_df['Lactate'][:-window+1],\n",
    "              c=temp_change,cmap='coolwarm',s=8\n",
    "             ,vmin=-0.01,vmax=0.01)\n",
    "\n",
    "im3=ax[2].scatter(combined_df['Temperature'][:-window+1],combined_df['Frequency'][:-window+1],\n",
    "              c=temp_change,cmap='coolwarm',s=8\n",
    "             ,vmin=-0.01,vmax=0.01)\n",
    "\n",
    "\n",
    "\n",
    "[ax[n].set_ylabel('Hz') for n in range(3)]\n",
    "[ax[n].set_xlabel('T[°C]') for n in range(3)]\n",
    "\n",
    "\n",
    "fig.colorbar(im2,ax=ax[2],label=' dT/dt [°C/s]')\n",
    "\n",
    "ax[0].set_title('Pyr')\n",
    "ax[1].set_title('Lact')\n",
    "ax[2].set_title('Difference')\n",
    "\n",
    "fig.suptitle('Absolute peak positions')\n",
    "\n"
   ]
  },
  {
   "cell_type": "markdown",
   "id": "7a1cc987-bd11-41dc-b80f-ba2f1456e928",
   "metadata": {},
   "source": [
    "# Fit"
   ]
  },
  {
   "cell_type": "code",
   "execution_count": null,
   "id": "186d5d1b-5c0a-4532-9ad0-f135f33ab117",
   "metadata": {
    "tags": []
   },
   "outputs": [],
   "source": [
    "def lin_fun(x,M,k):\n",
    "    return x*k+M\n",
    "plt.close('all')\n",
    "timeframe=[0,-1]\n",
    "\n",
    "import seaborn as sns\n",
    "\n",
    "y_fit_data = combined_df['Frequency_ppm']\n",
    "\n",
    "x_fit_data = combined_df['Temperature']\n",
    "\n",
    "\n",
    "\n",
    "coeff,pcov = curve_fit(lin_fun,x_fit_data,y_fit_data)\n",
    "\n",
    "residuals = y_fit_data - lin_fun(x_fit_data, *coeff)\n",
    "ss_res = np.sum(residuals**2)\n",
    "\n",
    "ss_tot = np.sum((y_fit_data-np.mean(y_fit_data))**2)\n",
    "\n",
    "r_squared = 1 - (ss_res / ss_tot)\n",
    "\n",
    "fig,ax=plt.subplots(1,figsize=(4,3),tight_layout=True)\n",
    "\n",
    "im = ax.scatter(x_fit_data,y_fit_data,label='Data')\n",
    "sns.regplot(x=x_fit_data,y=y_fit_data,ci=99,ax=ax,scatter=False)\n",
    "\n",
    "\n",
    "ax.plot(x_fit_data,lin_fun(x_fit_data,coeff[0],coeff[1]),color='r',label='Linear fit')\n",
    "\n",
    "ax.set_xlabel('T [°C]')\n",
    "ax.set_ylabel(r'$\\vert f_{pyr}-f_{lac}\\vert$ [Hz]')\n",
    "ax.legend()\n",
    "ax.set_title('f(T)='+str(np.round(coeff[0],3))+str(np.round(coeff[1],3))+'*T'+r', $R^2$='+str(np.round(r_squared,3)))\n",
    "print(np.sqrt(np.diag(pcov)))\n",
    "\n",
    "fit_results_dir = {'fit fun structure':'f(T)=B*T+A',\n",
    "                  'A (ppm)':coeff[0],\n",
    "                  'B (ppm/K)':coeff[1],\n",
    "                  'dA (ppm)':np.sqrt(np.diag(pcov))[0],\n",
    "                  'dB (ppm/K)':np.sqrt(np.diag(pcov))[1],\n",
    "                   'R2 (ppm)':r_squared\n",
    "                  }\n",
    "\n"
   ]
  },
  {
   "cell_type": "code",
   "execution_count": null,
   "id": "79cfbd58-e7b5-45eb-8605-4014cd61ac7c",
   "metadata": {
    "tags": []
   },
   "outputs": [],
   "source": [
    "def lin_fun(x,M,k):\n",
    "    return x*k+M\n",
    "plt.close('all')\n",
    "timeframe=[0,-1]\n",
    "\n",
    "import seaborn as sns\n",
    "\n",
    "y_fit_data = combined_df['Frequency']\n",
    "\n",
    "x_fit_data = combined_df['Temperature']\n",
    "\n",
    "\n",
    "\n",
    "coeff,pcov = curve_fit(lin_fun,x_fit_data,y_fit_data)\n",
    "\n",
    "residuals = y_fit_data - lin_fun(x_fit_data, *coeff)\n",
    "ss_res = np.sum(residuals**2)\n",
    "\n",
    "ss_tot = np.sum((y_fit_data-np.mean(y_fit_data))**2)\n",
    "\n",
    "r_squared = 1 - (ss_res / ss_tot)\n",
    "\n",
    "fig,ax=plt.subplots(1,figsize=(4,3),tight_layout=True)\n",
    "\n",
    "im = ax.scatter(x_fit_data,y_fit_data,label='Data')\n",
    "sns.regplot(x=x_fit_data,y=y_fit_data,ci=99,ax=ax,scatter=False)\n",
    "\n",
    "\n",
    "ax.plot(x_fit_data,lin_fun(x_fit_data,coeff[0],coeff[1]),color='r',label='Linear fit')\n",
    "\n",
    "ax.set_xlabel('T [°C]')\n",
    "ax.set_ylabel(r'$\\vert f_{pyr}-f_{lac}\\vert$ [Hz]')\n",
    "ax.legend()\n",
    "ax.set_title('f(T)='+str(np.round(coeff[0],3))+str(np.round(coeff[1],3))+'*T'+r', $R^2$='+str(np.round(r_squared,3)))\n",
    "print(np.sqrt(np.diag(pcov)))\n",
    "\n",
    "fit_results_dir.update({'fit fun structure':'f(T)=B*T+A',\n",
    "                  'A (Hz)':coeff[0],\n",
    "                  'B (Hz/K)':coeff[1],\n",
    "                  'dA (Hz)':np.sqrt(np.diag(pcov))[0],\n",
    "                  'dB (Hz/K)':np.sqrt(np.diag(pcov))[1],\n",
    "                   'R2 (Hz)':r_squared\n",
    "                  })\n",
    "#np.savez(savepath+'Blood_calibration_fit_function',fit_results_dir)\n"
   ]
  },
  {
   "cell_type": "code",
   "execution_count": null,
   "id": "db75aa90-16af-48ad-92d5-1012dbe194f3",
   "metadata": {
    "tags": []
   },
   "outputs": [],
   "source": [
    "fig,ax=plt.subplots(1,figsize=(7,5),tight_layout=True)\n",
    "window=2\n",
    "temp_change = np.gradient(avg_temp(combined_df['Temperature'],window))\n",
    "\n",
    "im=ax.scatter(combined_df['Temperature'][:-window+1],combined_df['Frequency'][:-window+1],\n",
    "              c=temp_change,cmap='coolwarm',s=12\n",
    "             ,vmin=-0.01,vmax=0.01)\n",
    "\n",
    "\n",
    "\n",
    "ax.set_ylabel('Hz')\n",
    "ax.set_xlabel('T[°C]')\n",
    "    \n",
    "fig.colorbar(im,ax=ax,label=' dT/dt [°C/s]')\n",
    "\n",
    "ax.set_title('Pyr-Lac')\n",
    "\n",
    "fig.suptitle('Relative peak positions')\n"
   ]
  },
  {
   "cell_type": "code",
   "execution_count": null,
   "id": "22db6e76-a227-40c7-b7c6-1d22ccd1c156",
   "metadata": {
    "tags": []
   },
   "outputs": [],
   "source": [
    "# export that data"
   ]
  },
  {
   "cell_type": "code",
   "execution_count": null,
   "id": "ca4ebaf8-f26f-4378-9c10-3b9fb03e66b5",
   "metadata": {
    "tags": []
   },
   "outputs": [],
   "source": [
    "now = datetime.datetime.now()\n",
    "now_str = now.strftime(\"%Y_%m_%d-%H_%M_%S\")\n",
    "combined_df.to_excel(savepath+'Blood_calibration_data.xlsx')"
   ]
  }
 ],
 "metadata": {
  "kernelspec": {
   "display_name": "Python 3 (ipykernel)",
   "language": "python",
   "name": "python3"
  },
  "language_info": {
   "codemirror_mode": {
    "name": "ipython",
    "version": 3
   },
   "file_extension": ".py",
   "mimetype": "text/x-python",
   "name": "python",
   "nbconvert_exporter": "python",
   "pygments_lexer": "ipython3",
   "version": "3.10.10"
  }
 },
 "nbformat": 4,
 "nbformat_minor": 5
}
