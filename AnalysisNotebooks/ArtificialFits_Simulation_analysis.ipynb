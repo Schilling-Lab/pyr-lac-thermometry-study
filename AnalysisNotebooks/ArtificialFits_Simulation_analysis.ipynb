{
 "cells": [
  {
   "cell_type": "code",
   "execution_count": null,
   "id": "ebc35a99-3b96-4984-8f0c-24c91377fd59",
   "metadata": {
    "tags": []
   },
   "outputs": [],
   "source": [
    "import numpy as np\n",
    "import matplotlib.pyplot as plt\n",
    "import hypermri.utils.utils_fitting as utf\n",
    "import hypermri.utils.utils_spectroscopy as uts\n",
    "import hypermri.utils.utils_general as utg\n",
    "from tqdm.auto import tqdm\n",
    "import ipywidgets as widgets\n",
    "import matplotlib\n",
    "import os\n",
    "import sys\n",
    "matplotlib.rcParams.update({'font.size': 12,'font.family':'serif','font.serif':['Computer Modern'],\"text.usetex\" : True,})\n",
    "# Get the current working directory\n",
    "cwd = os.getcwd()\n",
    "parent_dir = os.path.dirname(os.path.dirname(cwd))\n",
    "sys.path.append(parent_dir)\n",
    "# define paths:\n",
    "sys.path.append('../')\n",
    "import TEMPLATE\n",
    "# get paths:\n",
    "repopath, basepath, savepath,publication_path = TEMPLATE.import_all_packages(True)\n",
    "%matplotlib widget"
   ]
  },
  {
   "cell_type": "markdown",
   "id": "8deb82fe-b2d4-43f6-9107-829e0d86f7be",
   "metadata": {},
   "source": [
    "# Functions"
   ]
  },
  {
   "cell_type": "code",
   "execution_count": null,
   "id": "9dbca872-95c3-4888-8141-a16a5c2964a0",
   "metadata": {
    "tags": []
   },
   "outputs": [],
   "source": [
    "def apply_lb(fid,time_ax,lb):\n",
    "    return fid*np.exp(-np.pi*lb*time_ax)\n",
    "\n",
    "def compute_snr(raw_spec,fit_spectrums,ppm_range,plot=False):\n",
    "    from scipy.stats import rayleigh\n",
    "    peak_snrs=np.ones((4,noise_vals,repeats))*np.nan\n",
    "    noise_vals=noise_levels.shape[0]\n",
    "    \n",
    "    for repeat in range(repeats):\n",
    "        \n",
    "        if plot:\n",
    "            plt.close('all')\n",
    "\n",
    "            fig,ax=plt.subplots(noise_vals,2,tight_layout=True,figsize=(6,10))\n",
    "            noise_floor=np.ones((noise_vals))\n",
    "            for n in range(noise_vals):\n",
    "                ax[n,0].plot(np.abs((np.squeeze(raw_spec)[:,n,repeat]-np.mean(np.abs(np.squeeze(raw_spec)[0:150,n,repeat])))/np.std(np.abs(np.squeeze(raw_spec)[0:150,n,repeat]))))\n",
    "                ax[n,0].plot(np.abs((np.squeeze(raw_spec)[:,n,repeat]-np.mean(np.abs(np.squeeze(raw_spec)[0:150,n,repeat])))/np.std(np.abs(np.squeeze(raw_spec)[0:150,n,repeat])))[0:150])\n",
    "                noise_spec=np.abs(((np.squeeze(raw_spec)[:,n,repeat]-np.mean(np.real(np.squeeze(raw_spec)[0:150,n,repeat])))/np.std(np.real(np.squeeze(raw_spec)[0:150,n,repeat]))))[0:150]\n",
    "\n",
    "                params = rayleigh.fit(noise_spec)\n",
    "                scale = params[1]\n",
    "\n",
    "                # Define x values for plotting the fitted distribution\n",
    "                x = np.linspace(0, max(noise_spec), 100)\n",
    "                pdf_fitted = rayleigh.pdf(x, loc=0, scale=scale)\n",
    "\n",
    "\n",
    "                ax[n,1].hist(noise_spec, bins=30, density=True, alpha=0.3, color='C0', edgecolor='black')\n",
    "                ax[n,1].plot(x, pdf_fitted, 'r-', label=f'Rayleigh fit (scale={scale:.2f})')\n",
    "                # Create a frozen Rayleigh distribution object with the fitted scale parameter\n",
    "\n",
    "                fitted_rayleigh = rayleigh(scale=scale)\n",
    "\n",
    "                # Get mean and standard deviation\n",
    "                mean = fitted_rayleigh.mean()\n",
    "                std_dev = fitted_rayleigh.std()\n",
    "                noise_floor[n]=mean+std_dev\n",
    "                ax[n,1].set_title(str(mean.round(1))+'±'+str(std_dev.round(1)))\n",
    "\n",
    "                fig,ax=plt.subplots(noise_vals,2,tight_layout=True,figsize=(7,5*noise_vals/2))\n",
    "\n",
    "                mean_noise=[np.mean(np.abs(np.squeeze(raw_spec)[0:150,n,repeat])) for n in range(noise_vals)]\n",
    "                std_noise=[np.std(np.abs(np.squeeze(raw_spec)[0:150,n,repeat])) for n in range(noise_vals)]\n",
    "\n",
    "                for noise_val in range(noise_vals):\n",
    "                    ax[noise_val,0].plot(ppm_range,np.abs(np.squeeze(raw_spec))[:,noise_val,repeat])\n",
    "                    ax[noise_val,0].plot(ppm_range,np.sum(np.abs(np.squeeze(fit_spectrums)[:,noise_val,repeat,:]),axis=1),color='r')\n",
    "                    ax[noise_val,1].plot(ppm_range,np.abs(np.squeeze(raw_spec))[:,noise_val,repeat],color='k',alpha=0.3)\n",
    "\n",
    "                    for peak in range(4):\n",
    "                        max_peak_fit_val=np.max(np.abs(np.squeeze(fit_spectrums)[:,noise_val,repeat,peak]))\n",
    "                        snr=np.round((max_peak_fit_val-mean_noise[noise_val])/std_noise[noise_val],2)\n",
    "                        peak_snrs[peak,noise_val,repeat]=snr\n",
    "                        ax[noise_val,1].plot(ppm_range,np.abs(np.squeeze(fit_spectrums)[:,noise_val,repeat,peak]),label=metabs[peak]+',SNR='+str(snr))\n",
    "                        ax[noise_val,1].set_title('Noise='+str(np.round(noise_floor[noise_val],0)))\n",
    "                    ax[noise_val,0].set_xlim([195,155])\n",
    "                    ax[noise_val,1].set_xlim([195,155])\n",
    "\n",
    "                    ax[noise_val,1].legend()\n",
    "                    ax[noise_val,0].set_title('Noise val='+str(noise_levels[noise_val]))\n",
    "\n",
    "        else:\n",
    "            noise_floor=np.ones((noise_vals))\n",
    "            for n in range(noise_vals):\n",
    "                noise_spec=np.abs(((np.squeeze(raw_spec)[:,n,repeat]-np.mean(np.real(np.squeeze(raw_spec)[0:150,n,repeat])))/np.std(np.real(np.squeeze(raw_spec)[0:150,n,repeat]))))[0:150]\n",
    "                mean_noise=[np.mean(np.abs(np.squeeze(raw_spec)[0:150,n,repeat])) for n in range(noise_vals)]\n",
    "                std_noise=[np.std(np.abs(np.squeeze(raw_spec)[0:150,n,repeat])) for n in range(noise_vals)]\n",
    "                for noise_val in range(noise_vals):\n",
    "                    for peak in range(4):\n",
    "                        max_peak_fit_val=np.max(np.abs(np.squeeze(fit_spectrums)[:,noise_val,repeat,peak]))\n",
    "                        snr=np.round((max_peak_fit_val-mean_noise[noise_val])/std_noise[noise_val],2)\n",
    "                        peak_snrs[peak,noise_val,repeat]=snr\n",
    "        \n",
    "    return peak_snrs,noise_floor\n"
   ]
  },
  {
   "cell_type": "markdown",
   "id": "0f441a86-bc0d-4fac-b5fc-ed46609d69bf",
   "metadata": {},
   "source": [
    "# General parameters"
   ]
  },
  {
   "cell_type": "code",
   "execution_count": null,
   "id": "a890cb43-532f-43b1-be4b-0960f85bf100",
   "metadata": {},
   "outputs": [],
   "source": [
    "bandwidth = 5000\n",
    "dwell_time = 1/bandwidth\n",
    "b0=3\n",
    "fieldoffset=170.4"
   ]
  },
  {
   "cell_type": "markdown",
   "id": "0115b3ca-4963-44e8-acf8-41c7c1928e9f",
   "metadata": {
    "tags": []
   },
   "source": [
    "# 1. SNR Simulation\n",
    "### 2048 points, 50 SNR Levels, 100 repetitions"
   ]
  },
  {
   "cell_type": "code",
   "execution_count": null,
   "id": "09fca64e-2026-47be-bf8a-3e0537c2f8b8",
   "metadata": {},
   "outputs": [],
   "source": [
    "samplings = [2048]\n",
    "repeats = 100\n",
    "noise_base_level=0.01\n",
    "noise_levels=np.linspace(noise_base_level,1,50)\n",
    "scatterpointsize=10"
   ]
  },
  {
   "cell_type": "markdown",
   "id": "82cc8361-5d91-4abd-9931-6e1642d3a18d",
   "metadata": {},
   "source": [
    "## Read in fitted data"
   ]
  },
  {
   "cell_type": "code",
   "execution_count": null,
   "id": "acdde9d4-b1ad-4658-a63a-3f395cb5bf0c",
   "metadata": {
    "tags": []
   },
   "outputs": [],
   "source": [
    "data = utg.load_as_pkl('','sim_SNR_more_vals_rev1.pkl')\n",
    "peak_snrs=data['snrs']\n",
    "temps_truth=data['temps_truth']\n",
    "temps_fit=data['temps_fit']\n",
    "noise_levels=data['noise_levels']\n",
    "repeats=data['repeats']"
   ]
  },
  {
   "cell_type": "code",
   "execution_count": null,
   "id": "07a4660e-add7-4f4f-8b27-4acd25b4a043",
   "metadata": {
    "tags": []
   },
   "outputs": [],
   "source": [
    "revisionpath=publication_path+'Revision1/SI_Figures/'"
   ]
  },
  {
   "cell_type": "code",
   "execution_count": null,
   "id": "7f34ca58-38c3-4ced-9c55-1daecaad5842",
   "metadata": {
    "tags": []
   },
   "outputs": [],
   "source": [
    "fig,ax=plt.subplots(1,figsize=(6.9/2,3),tight_layout=True)\n",
    "\n",
    "ax.set_ylabel('$ \\sigma (\\Delta T) [^\\circ C]$')\n",
    "ax.scatter(np.mean(peak_snrs,axis=1),np.std(temps_truth.squeeze()-temps_fit.squeeze(),axis=1),color='k',s=scatterpointsize)\n",
    "ax.set_xlabel('SNR (pyruvate)')\n",
    "ax.set_xlim([0,100])\n",
    "ax.hlines(0,0,100,color='w',linestyle='solid')\n"
   ]
  },
  {
   "cell_type": "markdown",
   "id": "b8bc4f87-e9ff-413c-8b16-0a87afd780a9",
   "metadata": {},
   "source": [
    "# 2. Linebroadening"
   ]
  },
  {
   "cell_type": "code",
   "execution_count": null,
   "id": "b11c67d0-61d4-4ac5-8d42-8233571d5383",
   "metadata": {},
   "outputs": [],
   "source": [
    "linebroadenings=np.linspace(0,100,100)\n",
    "samplings = [2048]\n",
    "noise_base_level=0.1\n",
    "repeats=100"
   ]
  },
  {
   "cell_type": "markdown",
   "id": "6f9055d0-2039-4365-8513-7ffbeecaeded",
   "metadata": {},
   "source": [
    "## Load simulated data"
   ]
  },
  {
   "cell_type": "code",
   "execution_count": null,
   "id": "7d3cf9be-2f8b-42fb-a974-dbd2496e3eee",
   "metadata": {
    "tags": []
   },
   "outputs": [],
   "source": [
    "data = utg.load_as_pkl('','sim_varying_lb.pkl')\n",
    "peak_snrs=data['snrs']\n",
    "temps_truth=data['temps_truth']\n",
    "temps_fit=data['temps_fit']\n",
    "\n",
    "linebroadenings=data['linebroadenings']"
   ]
  },
  {
   "cell_type": "code",
   "execution_count": null,
   "id": "2692f50f-5046-4891-b063-e3e2013872f3",
   "metadata": {
    "tags": []
   },
   "outputs": [],
   "source": [
    "fig,ax=plt.subplots(1,figsize=(6.9/2,3),tight_layout=True)\n",
    "ax.scatter(linebroadenings,np.std(temps_truth.squeeze()-temps_fit.squeeze(),axis=1),color='k',s=scatterpointsize)\n",
    "ax.set_xlabel('Lb [Hz]')\n",
    "ax.set_ylabel('$\\sigma (\\Delta T) [^\\circ C]$')\n"
   ]
  },
  {
   "cell_type": "code",
   "execution_count": null,
   "id": "9535d53c-ce36-4690-9bc7-a1847aa864a7",
   "metadata": {
    "tags": []
   },
   "outputs": [],
   "source": [
    "fig,ax=plt.subplots(1,figsize=(6.9/2,3),tight_layout=True)\n",
    "ax.scatter(linebroadenings,np.mean(temps_fit.squeeze(),axis=1)-np.mean(temps_truth.squeeze(),axis=1),color='k',s=scatterpointsize)\n",
    "ax.set_xlabel('Lb [Hz]')\n",
    "ax.set_ylabel('$ T_{fit}-T_{true} [^\\circ C]$')\n"
   ]
  },
  {
   "cell_type": "code",
   "execution_count": null,
   "id": "84ea89cc-9803-4117-94ba-abc1a6b4c080",
   "metadata": {
    "tags": []
   },
   "outputs": [],
   "source": [
    "fig,ax=plt.subplots(1,figsize=(6.9/2,3),tight_layout=True)\n",
    "ax.scatter(linebroadenings,np.std(temps_truth.squeeze()-temps_fit.squeeze(),axis=1),color='k',s=scatterpointsize,label='$\\sigma (T_{fit}-T_{true})$')\n",
    "ax.set_xlabel('Lb [Hz]')\n",
    "ax.set_ylabel('$\\sigma (\\Delta T) [^\\circ C]$',color='k')\n",
    "ax.tick_params(axis='y', labelcolor='k')\n",
    "\n",
    "ax2=ax.twinx()\n",
    "ax2.scatter(linebroadenings,np.mean(temps_fit.squeeze(),axis=1)-np.mean(temps_truth.squeeze(),axis=1),color='r',s=scatterpointsize,label='$T_{fit}-T_{true}$')\n",
    "ax2.set_xlabel('Lb [Hz]')\n",
    "ax2.set_ylabel('$ \\Delta T [^\\circ C]$',color='r')\n",
    "ax2.tick_params(axis='y', labelcolor='r')\n"
   ]
  },
  {
   "cell_type": "markdown",
   "id": "19b463fc-cbeb-4c65-8cd0-c63fd12c8440",
   "metadata": {},
   "source": [
    "# 3. T2* Simulations"
   ]
  },
  {
   "cell_type": "code",
   "execution_count": null,
   "id": "65b658a2-c25d-4efc-b7c7-4fc9d8f4700c",
   "metadata": {
    "tags": []
   },
   "outputs": [],
   "source": [
    "bandwidth = 5000\n",
    "dwell_time = 1/bandwidth\n",
    "samplings = [2048]\n",
    "repeats = 100\n",
    "noise_base_level=0.01\n",
    "b0=3\n",
    "fieldoffset=170.4\n",
    "#t2s=np.linspace(0.002,0.03,50)\n",
    "fwhms=np.arange(5,150,5)\n",
    "t2s=1/(np.pi*fwhms)\n"
   ]
  },
  {
   "cell_type": "code",
   "execution_count": null,
   "id": "4acec4b8-e299-4a92-855e-8bf179271821",
   "metadata": {
    "tags": []
   },
   "outputs": [],
   "source": [
    "data = utg.load_as_pkl('','sim_varying_t2.pkl')\n",
    "peak_snrs=data['snrs']\n",
    "temps_truth=data['temps_truth']\n",
    "temps_fit=data['temps_fit']\n",
    "repeats=data['repeats']\n",
    "t2vals=data['t2s']"
   ]
  },
  {
   "cell_type": "code",
   "execution_count": null,
   "id": "c95fde95-8cb9-42ea-8d47-6e6bee5262bd",
   "metadata": {
    "tags": []
   },
   "outputs": [],
   "source": [
    "fig,ax=plt.subplots(1,figsize=(6.9/2,3),tight_layout=True)\n",
    "\n",
    "\n",
    "std_err=np.std(data['temps_fit'].squeeze()-data['temps_truth'].squeeze(),axis=1)\n",
    "ax.scatter(1/(np.pi*t2vals),std_err,color='k',s=10)\n",
    "ax.set_xlabel('FWHM [Hz]')\n",
    "\n",
    "ax.set_ylabel('$\\sigma (\\Delta T) [^\\circ C]$')\n",
    "\n"
   ]
  },
  {
   "cell_type": "markdown",
   "id": "de1fb448-9d2c-41a2-bea6-0c672a56a8ef",
   "metadata": {},
   "source": [
    "# 4. Sampling simulations"
   ]
  },
  {
   "cell_type": "code",
   "execution_count": null,
   "id": "adb0ab61-7553-45d1-b30b-7d7ed4935936",
   "metadata": {
    "tags": []
   },
   "outputs": [],
   "source": [
    "data = utg.load_as_pkl('','sim_sampling_rev1.pkl')\n",
    "peak_snrs=data['snrs']\n",
    "temps_truth=data['temps_truth']\n",
    "temps_fit=data['temps_fit']\n",
    "repeats=data['repeats']\n",
    "samplings=data['samplings']\n"
   ]
  },
  {
   "cell_type": "code",
   "execution_count": null,
   "id": "55b7981b-3026-4fc9-831a-c8f7e905dd80",
   "metadata": {
    "tags": []
   },
   "outputs": [],
   "source": [
    "fig,ax=plt.subplots(1,figsize=(6.9/2,3),tight_layout=True)\n",
    "for index,sampling in enumerate(samplings):\n",
    "    ax.set_ylabel('$ \\sigma (\\Delta T) [^\\circ C]$')\n",
    "    ax.scatter(1/(bandwidth/sampling),np.std(temps_truth.squeeze()[:,index]-temps_fit.squeeze()[:,index],axis=0),c='k',s=scatterpointsize)\n",
    "    ax.set_xlabel('Spectral resolution [pts/Hz]')\n"
   ]
  },
  {
   "cell_type": "code",
   "execution_count": null,
   "id": "51367225-fc02-49b5-a2d3-e439e43cb1f7",
   "metadata": {},
   "outputs": [],
   "source": [
    "fig,ax=plt.subplots(1,figsize=(6.9/2,3),tight_layout=True)\n",
    "import matplotlib.ticker as ticker\n",
    "\n",
    "for index,sampling in enumerate(samplings):\n",
    "    ax.set_ylabel('$ \\sigma (\\Delta T) [^\\circ C]$')\n",
    "    ax.scatter((bandwidth/sampling),np.std(temps_truth.squeeze()[:,index]-temps_fit.squeeze()[:,index],axis=0),c='k',s=10)\n",
    "    ax.set_xlabel('Spectral resolution [Hz/pt]')\n",
    "    ax.set_xscale('log')\n",
    "    ax.set_yscale('log')\n",
    "    formatter = ticker.ScalarFormatter()\n",
    "    formatter.set_scientific(False)\n",
    "    ax.yaxis.set_major_formatter(formatter)\n",
    "    ax.xaxis.set_major_formatter(formatter)\n",
    " "
   ]
  },
  {
   "cell_type": "code",
   "execution_count": null,
   "id": "8eae461c-d211-4a16-a08e-ce01e8a92ce9",
   "metadata": {},
   "outputs": [],
   "source": []
  }
 ],
 "metadata": {
  "kernelspec": {
   "display_name": "Python 3 (ipykernel)",
   "language": "python",
   "name": "python3"
  },
  "language_info": {
   "codemirror_mode": {
    "name": "ipython",
    "version": 3
   },
   "file_extension": ".py",
   "mimetype": "text/x-python",
   "name": "python",
   "nbconvert_exporter": "python",
   "pygments_lexer": "ipython3",
   "version": "3.9.7"
  }
 },
 "nbformat": 4,
 "nbformat_minor": 5
}
